{
  "nbformat": 4,
  "nbformat_minor": 0,
  "metadata": {
    "colab": {
      "provenance": [],
      "toc_visible": true
    },
    "kernelspec": {
      "name": "python3",
      "display_name": "Python 3"
    },
    "language_info": {
      "name": "python"
    }
  },
  "cells": [
    {
      "cell_type": "markdown",
      "source": [
        "# Table Of Content\n",
        "\n",
        "*   Dataset Overview\n",
        "*   Exploratory Data Analysis\n",
        "*   Model Training\n",
        "*   Validation Dataset Cleaning\n",
        "*   Validation Dataset Prediction\n",
        "*   Behaviour Score\n",
        "\n",
        "\n",
        "\n",
        "\n",
        "\n"
      ],
      "metadata": {
        "id": "-jBmveeyySRa"
      }
    },
    {
      "cell_type": "markdown",
      "source": [
        "# Dataset Overview\n",
        "\n",
        "\n",
        "*   On-us Attributes (48 Columns): These variables, starting with onus_attributes, detail internal credit card account features like credit limits, offering insights into customer financial behavior and risk.\n",
        "*   Transaction-Level Attributes (664 Columns): Variables prefixed with transaction_attribute summarize spending habits, including transaction counts and merchant categories, highlighting usage patterns and repayment potential.\n",
        "\n",
        "*   Bureau Tradeline-Level Attributes (452 Columns): Starting with bureau, these attributes provide credit bureau data on historical accounts and delinquencies, aiding in assessing creditworthiness.\n",
        "*   Bureau Enquiry-Level Attributes (50 Columns): Prefixed with bureau_enquiry, these capture customer inquiries to the credit bureau, signaling credit-seeking behavior or potential financial stress.\n",
        "\n",
        "\n",
        "\n"
      ],
      "metadata": {
        "id": "XuNtuX2S0Eaq"
      }
    },
    {
      "cell_type": "code",
      "execution_count": null,
      "metadata": {
        "id": "kO0qyOLHJFqR"
      },
      "outputs": [],
      "source": [
        "import numpy as np\n",
        "import pandas as pd\n",
        "import matplotlib.pyplot as plt\n",
        "import seaborn as sns"
      ]
    },
    {
      "cell_type": "code",
      "source": [
        "import lightgbm as lgb\n",
        "from sklearn.metrics import roc_auc_score, average_precision_score, classification_report\n",
        "from sklearn.metrics import confusion_matrix\n",
        "import xgboost as xgb\n",
        "from sklearn.model_selection import train_test_split"
      ],
      "metadata": {
        "id": "9SP67ftJlTNd"
      },
      "execution_count": null,
      "outputs": []
    },
    {
      "cell_type": "code",
      "source": [
        "from sklearn.model_selection import train_test_split"
      ],
      "metadata": {
        "id": "4Z8rBXlGlAnG"
      },
      "execution_count": null,
      "outputs": []
    },
    {
      "cell_type": "code",
      "source": [
        "!pip install catboost"
      ],
      "metadata": {
        "id": "1EYDNrZEloVs"
      },
      "execution_count": null,
      "outputs": []
    },
    {
      "cell_type": "code",
      "source": [
        "from catboost import CatBoostClassifier"
      ],
      "metadata": {
        "id": "wRcaVncnlpQF"
      },
      "execution_count": null,
      "outputs": []
    },
    {
      "cell_type": "code",
      "source": [
        "from sklearn.model_selection import train_test_split, StratifiedKFold"
      ],
      "metadata": {
        "id": "1fulM5afnNNP"
      },
      "execution_count": null,
      "outputs": []
    },
    {
      "cell_type": "code",
      "source": [
        "df=pd.read_csv('/content/Dev_data_to_be_shared.csv')"
      ],
      "metadata": {
        "id": "iD-dKxvMJQdF"
      },
      "execution_count": null,
      "outputs": []
    },
    {
      "cell_type": "markdown",
      "source": [
        "# Explorartory Data Analysis"
      ],
      "metadata": {
        "id": "1cOhxylw1O6F"
      }
    },
    {
      "cell_type": "code",
      "source": [
        "df.head()"
      ],
      "metadata": {
        "colab": {
          "base_uri": "https://localhost:8080/",
          "height": 255
        },
        "id": "NYvHRVIeMBRM",
        "outputId": "3dde8baf-b124-4382-af66-27ee529cac11"
      },
      "execution_count": null,
      "outputs": [
        {
          "output_type": "execute_result",
          "data": {
            "text/plain": [
              "   account_number  bad_flag  onus_attribute_1  transaction_attribute_1  \\\n",
              "0               1         0               NaN                      NaN   \n",
              "1               2         0          221000.0                      0.0   \n",
              "2               3         0           25000.0                      0.0   \n",
              "3               4         0           86000.0                      0.0   \n",
              "4               5         0          215000.0                      0.0   \n",
              "\n",
              "   transaction_attribute_2  transaction_attribute_3  transaction_attribute_4  \\\n",
              "0                      NaN                      NaN                      NaN   \n",
              "1                      0.0                      0.0                      0.0   \n",
              "2                      0.0                      0.0                      0.0   \n",
              "3                      0.0                      0.0                      0.0   \n",
              "4                      0.0                      0.0                      0.0   \n",
              "\n",
              "   transaction_attribute_5  transaction_attribute_6  transaction_attribute_7  \\\n",
              "0                      NaN                      NaN                      NaN   \n",
              "1                      0.0                      0.0                      0.0   \n",
              "2                      0.0                      0.0                      0.0   \n",
              "3                      0.0                      0.0                      0.0   \n",
              "4                      0.0                      0.0                      0.0   \n",
              "\n",
              "   ...  bureau_enquiry_47  bureau_enquiry_48  bureau_enquiry_49  \\\n",
              "0  ...                0.0                0.0                0.0   \n",
              "1  ...                0.0                0.0                2.0   \n",
              "2  ...                0.0                0.0                0.0   \n",
              "3  ...                0.0                0.0                0.0   \n",
              "4  ...                0.0                0.0                0.0   \n",
              "\n",
              "   bureau_enquiry_50  onus_attribute_43  onus_attribute_44  onus_attribute_45  \\\n",
              "0                1.0                NaN                NaN                NaN   \n",
              "1                3.0                0.0                0.0                0.0   \n",
              "2                8.0                NaN                NaN                NaN   \n",
              "3               30.0                NaN                NaN                NaN   \n",
              "4                1.0                NaN                NaN                NaN   \n",
              "\n",
              "   onus_attribute_46  onus_attribute_47  onus_attribute_48  \n",
              "0                NaN                NaN                NaN  \n",
              "1                0.0                0.0                0.0  \n",
              "2                NaN                NaN                NaN  \n",
              "3                NaN                NaN                NaN  \n",
              "4                NaN                NaN                NaN  \n",
              "\n",
              "[5 rows x 1216 columns]"
            ],
            "text/html": [
              "\n",
              "  <div id=\"df-fb3b927d-482e-445a-bb49-99242a99df31\" class=\"colab-df-container\">\n",
              "    <div>\n",
              "<style scoped>\n",
              "    .dataframe tbody tr th:only-of-type {\n",
              "        vertical-align: middle;\n",
              "    }\n",
              "\n",
              "    .dataframe tbody tr th {\n",
              "        vertical-align: top;\n",
              "    }\n",
              "\n",
              "    .dataframe thead th {\n",
              "        text-align: right;\n",
              "    }\n",
              "</style>\n",
              "<table border=\"1\" class=\"dataframe\">\n",
              "  <thead>\n",
              "    <tr style=\"text-align: right;\">\n",
              "      <th></th>\n",
              "      <th>account_number</th>\n",
              "      <th>bad_flag</th>\n",
              "      <th>onus_attribute_1</th>\n",
              "      <th>transaction_attribute_1</th>\n",
              "      <th>transaction_attribute_2</th>\n",
              "      <th>transaction_attribute_3</th>\n",
              "      <th>transaction_attribute_4</th>\n",
              "      <th>transaction_attribute_5</th>\n",
              "      <th>transaction_attribute_6</th>\n",
              "      <th>transaction_attribute_7</th>\n",
              "      <th>...</th>\n",
              "      <th>bureau_enquiry_47</th>\n",
              "      <th>bureau_enquiry_48</th>\n",
              "      <th>bureau_enquiry_49</th>\n",
              "      <th>bureau_enquiry_50</th>\n",
              "      <th>onus_attribute_43</th>\n",
              "      <th>onus_attribute_44</th>\n",
              "      <th>onus_attribute_45</th>\n",
              "      <th>onus_attribute_46</th>\n",
              "      <th>onus_attribute_47</th>\n",
              "      <th>onus_attribute_48</th>\n",
              "    </tr>\n",
              "  </thead>\n",
              "  <tbody>\n",
              "    <tr>\n",
              "      <th>0</th>\n",
              "      <td>1</td>\n",
              "      <td>0</td>\n",
              "      <td>NaN</td>\n",
              "      <td>NaN</td>\n",
              "      <td>NaN</td>\n",
              "      <td>NaN</td>\n",
              "      <td>NaN</td>\n",
              "      <td>NaN</td>\n",
              "      <td>NaN</td>\n",
              "      <td>NaN</td>\n",
              "      <td>...</td>\n",
              "      <td>0.0</td>\n",
              "      <td>0.0</td>\n",
              "      <td>0.0</td>\n",
              "      <td>1.0</td>\n",
              "      <td>NaN</td>\n",
              "      <td>NaN</td>\n",
              "      <td>NaN</td>\n",
              "      <td>NaN</td>\n",
              "      <td>NaN</td>\n",
              "      <td>NaN</td>\n",
              "    </tr>\n",
              "    <tr>\n",
              "      <th>1</th>\n",
              "      <td>2</td>\n",
              "      <td>0</td>\n",
              "      <td>221000.0</td>\n",
              "      <td>0.0</td>\n",
              "      <td>0.0</td>\n",
              "      <td>0.0</td>\n",
              "      <td>0.0</td>\n",
              "      <td>0.0</td>\n",
              "      <td>0.0</td>\n",
              "      <td>0.0</td>\n",
              "      <td>...</td>\n",
              "      <td>0.0</td>\n",
              "      <td>0.0</td>\n",
              "      <td>2.0</td>\n",
              "      <td>3.0</td>\n",
              "      <td>0.0</td>\n",
              "      <td>0.0</td>\n",
              "      <td>0.0</td>\n",
              "      <td>0.0</td>\n",
              "      <td>0.0</td>\n",
              "      <td>0.0</td>\n",
              "    </tr>\n",
              "    <tr>\n",
              "      <th>2</th>\n",
              "      <td>3</td>\n",
              "      <td>0</td>\n",
              "      <td>25000.0</td>\n",
              "      <td>0.0</td>\n",
              "      <td>0.0</td>\n",
              "      <td>0.0</td>\n",
              "      <td>0.0</td>\n",
              "      <td>0.0</td>\n",
              "      <td>0.0</td>\n",
              "      <td>0.0</td>\n",
              "      <td>...</td>\n",
              "      <td>0.0</td>\n",
              "      <td>0.0</td>\n",
              "      <td>0.0</td>\n",
              "      <td>8.0</td>\n",
              "      <td>NaN</td>\n",
              "      <td>NaN</td>\n",
              "      <td>NaN</td>\n",
              "      <td>NaN</td>\n",
              "      <td>NaN</td>\n",
              "      <td>NaN</td>\n",
              "    </tr>\n",
              "    <tr>\n",
              "      <th>3</th>\n",
              "      <td>4</td>\n",
              "      <td>0</td>\n",
              "      <td>86000.0</td>\n",
              "      <td>0.0</td>\n",
              "      <td>0.0</td>\n",
              "      <td>0.0</td>\n",
              "      <td>0.0</td>\n",
              "      <td>0.0</td>\n",
              "      <td>0.0</td>\n",
              "      <td>0.0</td>\n",
              "      <td>...</td>\n",
              "      <td>0.0</td>\n",
              "      <td>0.0</td>\n",
              "      <td>0.0</td>\n",
              "      <td>30.0</td>\n",
              "      <td>NaN</td>\n",
              "      <td>NaN</td>\n",
              "      <td>NaN</td>\n",
              "      <td>NaN</td>\n",
              "      <td>NaN</td>\n",
              "      <td>NaN</td>\n",
              "    </tr>\n",
              "    <tr>\n",
              "      <th>4</th>\n",
              "      <td>5</td>\n",
              "      <td>0</td>\n",
              "      <td>215000.0</td>\n",
              "      <td>0.0</td>\n",
              "      <td>0.0</td>\n",
              "      <td>0.0</td>\n",
              "      <td>0.0</td>\n",
              "      <td>0.0</td>\n",
              "      <td>0.0</td>\n",
              "      <td>0.0</td>\n",
              "      <td>...</td>\n",
              "      <td>0.0</td>\n",
              "      <td>0.0</td>\n",
              "      <td>0.0</td>\n",
              "      <td>1.0</td>\n",
              "      <td>NaN</td>\n",
              "      <td>NaN</td>\n",
              "      <td>NaN</td>\n",
              "      <td>NaN</td>\n",
              "      <td>NaN</td>\n",
              "      <td>NaN</td>\n",
              "    </tr>\n",
              "  </tbody>\n",
              "</table>\n",
              "<p>5 rows × 1216 columns</p>\n",
              "</div>\n",
              "    <div class=\"colab-df-buttons\">\n",
              "\n",
              "  <div class=\"colab-df-container\">\n",
              "    <button class=\"colab-df-convert\" onclick=\"convertToInteractive('df-fb3b927d-482e-445a-bb49-99242a99df31')\"\n",
              "            title=\"Convert this dataframe to an interactive table.\"\n",
              "            style=\"display:none;\">\n",
              "\n",
              "  <svg xmlns=\"http://www.w3.org/2000/svg\" height=\"24px\" viewBox=\"0 -960 960 960\">\n",
              "    <path d=\"M120-120v-720h720v720H120Zm60-500h600v-160H180v160Zm220 220h160v-160H400v160Zm0 220h160v-160H400v160ZM180-400h160v-160H180v160Zm440 0h160v-160H620v160ZM180-180h160v-160H180v160Zm440 0h160v-160H620v160Z\"/>\n",
              "  </svg>\n",
              "    </button>\n",
              "\n",
              "  <style>\n",
              "    .colab-df-container {\n",
              "      display:flex;\n",
              "      gap: 12px;\n",
              "    }\n",
              "\n",
              "    .colab-df-convert {\n",
              "      background-color: #E8F0FE;\n",
              "      border: none;\n",
              "      border-radius: 50%;\n",
              "      cursor: pointer;\n",
              "      display: none;\n",
              "      fill: #1967D2;\n",
              "      height: 32px;\n",
              "      padding: 0 0 0 0;\n",
              "      width: 32px;\n",
              "    }\n",
              "\n",
              "    .colab-df-convert:hover {\n",
              "      background-color: #E2EBFA;\n",
              "      box-shadow: 0px 1px 2px rgba(60, 64, 67, 0.3), 0px 1px 3px 1px rgba(60, 64, 67, 0.15);\n",
              "      fill: #174EA6;\n",
              "    }\n",
              "\n",
              "    .colab-df-buttons div {\n",
              "      margin-bottom: 4px;\n",
              "    }\n",
              "\n",
              "    [theme=dark] .colab-df-convert {\n",
              "      background-color: #3B4455;\n",
              "      fill: #D2E3FC;\n",
              "    }\n",
              "\n",
              "    [theme=dark] .colab-df-convert:hover {\n",
              "      background-color: #434B5C;\n",
              "      box-shadow: 0px 1px 3px 1px rgba(0, 0, 0, 0.15);\n",
              "      filter: drop-shadow(0px 1px 2px rgba(0, 0, 0, 0.3));\n",
              "      fill: #FFFFFF;\n",
              "    }\n",
              "  </style>\n",
              "\n",
              "    <script>\n",
              "      const buttonEl =\n",
              "        document.querySelector('#df-fb3b927d-482e-445a-bb49-99242a99df31 button.colab-df-convert');\n",
              "      buttonEl.style.display =\n",
              "        google.colab.kernel.accessAllowed ? 'block' : 'none';\n",
              "\n",
              "      async function convertToInteractive(key) {\n",
              "        const element = document.querySelector('#df-fb3b927d-482e-445a-bb49-99242a99df31');\n",
              "        const dataTable =\n",
              "          await google.colab.kernel.invokeFunction('convertToInteractive',\n",
              "                                                    [key], {});\n",
              "        if (!dataTable) return;\n",
              "\n",
              "        const docLinkHtml = 'Like what you see? Visit the ' +\n",
              "          '<a target=\"_blank\" href=https://colab.research.google.com/notebooks/data_table.ipynb>data table notebook</a>'\n",
              "          + ' to learn more about interactive tables.';\n",
              "        element.innerHTML = '';\n",
              "        dataTable['output_type'] = 'display_data';\n",
              "        await google.colab.output.renderOutput(dataTable, element);\n",
              "        const docLink = document.createElement('div');\n",
              "        docLink.innerHTML = docLinkHtml;\n",
              "        element.appendChild(docLink);\n",
              "      }\n",
              "    </script>\n",
              "  </div>\n",
              "\n",
              "\n",
              "<div id=\"df-0ddf0da2-9f43-468a-8dc5-c3120f935dfd\">\n",
              "  <button class=\"colab-df-quickchart\" onclick=\"quickchart('df-0ddf0da2-9f43-468a-8dc5-c3120f935dfd')\"\n",
              "            title=\"Suggest charts\"\n",
              "            style=\"display:none;\">\n",
              "\n",
              "<svg xmlns=\"http://www.w3.org/2000/svg\" height=\"24px\"viewBox=\"0 0 24 24\"\n",
              "     width=\"24px\">\n",
              "    <g>\n",
              "        <path d=\"M19 3H5c-1.1 0-2 .9-2 2v14c0 1.1.9 2 2 2h14c1.1 0 2-.9 2-2V5c0-1.1-.9-2-2-2zM9 17H7v-7h2v7zm4 0h-2V7h2v10zm4 0h-2v-4h2v4z\"/>\n",
              "    </g>\n",
              "</svg>\n",
              "  </button>\n",
              "\n",
              "<style>\n",
              "  .colab-df-quickchart {\n",
              "      --bg-color: #E8F0FE;\n",
              "      --fill-color: #1967D2;\n",
              "      --hover-bg-color: #E2EBFA;\n",
              "      --hover-fill-color: #174EA6;\n",
              "      --disabled-fill-color: #AAA;\n",
              "      --disabled-bg-color: #DDD;\n",
              "  }\n",
              "\n",
              "  [theme=dark] .colab-df-quickchart {\n",
              "      --bg-color: #3B4455;\n",
              "      --fill-color: #D2E3FC;\n",
              "      --hover-bg-color: #434B5C;\n",
              "      --hover-fill-color: #FFFFFF;\n",
              "      --disabled-bg-color: #3B4455;\n",
              "      --disabled-fill-color: #666;\n",
              "  }\n",
              "\n",
              "  .colab-df-quickchart {\n",
              "    background-color: var(--bg-color);\n",
              "    border: none;\n",
              "    border-radius: 50%;\n",
              "    cursor: pointer;\n",
              "    display: none;\n",
              "    fill: var(--fill-color);\n",
              "    height: 32px;\n",
              "    padding: 0;\n",
              "    width: 32px;\n",
              "  }\n",
              "\n",
              "  .colab-df-quickchart:hover {\n",
              "    background-color: var(--hover-bg-color);\n",
              "    box-shadow: 0 1px 2px rgba(60, 64, 67, 0.3), 0 1px 3px 1px rgba(60, 64, 67, 0.15);\n",
              "    fill: var(--button-hover-fill-color);\n",
              "  }\n",
              "\n",
              "  .colab-df-quickchart-complete:disabled,\n",
              "  .colab-df-quickchart-complete:disabled:hover {\n",
              "    background-color: var(--disabled-bg-color);\n",
              "    fill: var(--disabled-fill-color);\n",
              "    box-shadow: none;\n",
              "  }\n",
              "\n",
              "  .colab-df-spinner {\n",
              "    border: 2px solid var(--fill-color);\n",
              "    border-color: transparent;\n",
              "    border-bottom-color: var(--fill-color);\n",
              "    animation:\n",
              "      spin 1s steps(1) infinite;\n",
              "  }\n",
              "\n",
              "  @keyframes spin {\n",
              "    0% {\n",
              "      border-color: transparent;\n",
              "      border-bottom-color: var(--fill-color);\n",
              "      border-left-color: var(--fill-color);\n",
              "    }\n",
              "    20% {\n",
              "      border-color: transparent;\n",
              "      border-left-color: var(--fill-color);\n",
              "      border-top-color: var(--fill-color);\n",
              "    }\n",
              "    30% {\n",
              "      border-color: transparent;\n",
              "      border-left-color: var(--fill-color);\n",
              "      border-top-color: var(--fill-color);\n",
              "      border-right-color: var(--fill-color);\n",
              "    }\n",
              "    40% {\n",
              "      border-color: transparent;\n",
              "      border-right-color: var(--fill-color);\n",
              "      border-top-color: var(--fill-color);\n",
              "    }\n",
              "    60% {\n",
              "      border-color: transparent;\n",
              "      border-right-color: var(--fill-color);\n",
              "    }\n",
              "    80% {\n",
              "      border-color: transparent;\n",
              "      border-right-color: var(--fill-color);\n",
              "      border-bottom-color: var(--fill-color);\n",
              "    }\n",
              "    90% {\n",
              "      border-color: transparent;\n",
              "      border-bottom-color: var(--fill-color);\n",
              "    }\n",
              "  }\n",
              "</style>\n",
              "\n",
              "  <script>\n",
              "    async function quickchart(key) {\n",
              "      const quickchartButtonEl =\n",
              "        document.querySelector('#' + key + ' button');\n",
              "      quickchartButtonEl.disabled = true;  // To prevent multiple clicks.\n",
              "      quickchartButtonEl.classList.add('colab-df-spinner');\n",
              "      try {\n",
              "        const charts = await google.colab.kernel.invokeFunction(\n",
              "            'suggestCharts', [key], {});\n",
              "      } catch (error) {\n",
              "        console.error('Error during call to suggestCharts:', error);\n",
              "      }\n",
              "      quickchartButtonEl.classList.remove('colab-df-spinner');\n",
              "      quickchartButtonEl.classList.add('colab-df-quickchart-complete');\n",
              "    }\n",
              "    (() => {\n",
              "      let quickchartButtonEl =\n",
              "        document.querySelector('#df-0ddf0da2-9f43-468a-8dc5-c3120f935dfd button');\n",
              "      quickchartButtonEl.style.display =\n",
              "        google.colab.kernel.accessAllowed ? 'block' : 'none';\n",
              "    })();\n",
              "  </script>\n",
              "</div>\n",
              "\n",
              "    </div>\n",
              "  </div>\n"
            ],
            "application/vnd.google.colaboratory.intrinsic+json": {
              "type": "dataframe",
              "variable_name": "df"
            }
          },
          "metadata": {},
          "execution_count": 3
        }
      ]
    },
    {
      "cell_type": "code",
      "source": [
        "df.shape"
      ],
      "metadata": {
        "colab": {
          "base_uri": "https://localhost:8080/"
        },
        "id": "OK_J93CSMWg7",
        "outputId": "b965555e-9f60-480f-827d-3ac7ef4fd9c9"
      },
      "execution_count": null,
      "outputs": [
        {
          "output_type": "execute_result",
          "data": {
            "text/plain": [
              "(96806, 1216)"
            ]
          },
          "metadata": {},
          "execution_count": 4
        }
      ]
    },
    {
      "cell_type": "markdown",
      "source": [
        "## Null Dataframe"
      ],
      "metadata": {
        "id": "mZISNj1o1TgF"
      }
    },
    {
      "cell_type": "code",
      "source": [
        "df_null=df.isnull().sum()"
      ],
      "metadata": {
        "id": "4sPQubxcMCIb"
      },
      "execution_count": null,
      "outputs": []
    },
    {
      "cell_type": "code",
      "source": [
        "df_null.head()"
      ],
      "metadata": {
        "colab": {
          "base_uri": "https://localhost:8080/",
          "height": 241
        },
        "id": "Y8u8ANibMdeA",
        "outputId": "121d511e-f09e-4753-e90e-5e55346ba7ec"
      },
      "execution_count": null,
      "outputs": [
        {
          "output_type": "execute_result",
          "data": {
            "text/plain": [
              "account_number                 0\n",
              "bad_flag                       0\n",
              "onus_attribute_1           25231\n",
              "transaction_attribute_1    25231\n",
              "transaction_attribute_2    25231\n",
              "dtype: int64"
            ],
            "text/html": [
              "<div>\n",
              "<style scoped>\n",
              "    .dataframe tbody tr th:only-of-type {\n",
              "        vertical-align: middle;\n",
              "    }\n",
              "\n",
              "    .dataframe tbody tr th {\n",
              "        vertical-align: top;\n",
              "    }\n",
              "\n",
              "    .dataframe thead th {\n",
              "        text-align: right;\n",
              "    }\n",
              "</style>\n",
              "<table border=\"1\" class=\"dataframe\">\n",
              "  <thead>\n",
              "    <tr style=\"text-align: right;\">\n",
              "      <th></th>\n",
              "      <th>0</th>\n",
              "    </tr>\n",
              "  </thead>\n",
              "  <tbody>\n",
              "    <tr>\n",
              "      <th>account_number</th>\n",
              "      <td>0</td>\n",
              "    </tr>\n",
              "    <tr>\n",
              "      <th>bad_flag</th>\n",
              "      <td>0</td>\n",
              "    </tr>\n",
              "    <tr>\n",
              "      <th>onus_attribute_1</th>\n",
              "      <td>25231</td>\n",
              "    </tr>\n",
              "    <tr>\n",
              "      <th>transaction_attribute_1</th>\n",
              "      <td>25231</td>\n",
              "    </tr>\n",
              "    <tr>\n",
              "      <th>transaction_attribute_2</th>\n",
              "      <td>25231</td>\n",
              "    </tr>\n",
              "  </tbody>\n",
              "</table>\n",
              "</div><br><label><b>dtype:</b> int64</label>"
            ]
          },
          "metadata": {},
          "execution_count": 6
        }
      ]
    },
    {
      "cell_type": "code",
      "source": [
        "df_null.to_csv('null_values.csv')"
      ],
      "metadata": {
        "id": "UGHTWY1JHeRk"
      },
      "execution_count": null,
      "outputs": []
    },
    {
      "cell_type": "markdown",
      "source": [
        "## Nunique Dataframe"
      ],
      "metadata": {
        "id": "rvexf8Fe1Zaf"
      }
    },
    {
      "cell_type": "code",
      "source": [
        "df_nunique=df.nunique()"
      ],
      "metadata": {
        "id": "K6h00D-mOqS2"
      },
      "execution_count": null,
      "outputs": []
    },
    {
      "cell_type": "code",
      "source": [
        "df_nunique.head()"
      ],
      "metadata": {
        "colab": {
          "base_uri": "https://localhost:8080/",
          "height": 241
        },
        "id": "Hq3HTQLnHKt8",
        "outputId": "62c93a63-9eb7-4d35-bf51-3f574052e0da"
      },
      "execution_count": null,
      "outputs": [
        {
          "output_type": "execute_result",
          "data": {
            "text/plain": [
              "account_number             96806\n",
              "bad_flag                       2\n",
              "onus_attribute_1             970\n",
              "transaction_attribute_1       84\n",
              "transaction_attribute_2        8\n",
              "dtype: int64"
            ],
            "text/html": [
              "<div>\n",
              "<style scoped>\n",
              "    .dataframe tbody tr th:only-of-type {\n",
              "        vertical-align: middle;\n",
              "    }\n",
              "\n",
              "    .dataframe tbody tr th {\n",
              "        vertical-align: top;\n",
              "    }\n",
              "\n",
              "    .dataframe thead th {\n",
              "        text-align: right;\n",
              "    }\n",
              "</style>\n",
              "<table border=\"1\" class=\"dataframe\">\n",
              "  <thead>\n",
              "    <tr style=\"text-align: right;\">\n",
              "      <th></th>\n",
              "      <th>0</th>\n",
              "    </tr>\n",
              "  </thead>\n",
              "  <tbody>\n",
              "    <tr>\n",
              "      <th>account_number</th>\n",
              "      <td>96806</td>\n",
              "    </tr>\n",
              "    <tr>\n",
              "      <th>bad_flag</th>\n",
              "      <td>2</td>\n",
              "    </tr>\n",
              "    <tr>\n",
              "      <th>onus_attribute_1</th>\n",
              "      <td>970</td>\n",
              "    </tr>\n",
              "    <tr>\n",
              "      <th>transaction_attribute_1</th>\n",
              "      <td>84</td>\n",
              "    </tr>\n",
              "    <tr>\n",
              "      <th>transaction_attribute_2</th>\n",
              "      <td>8</td>\n",
              "    </tr>\n",
              "  </tbody>\n",
              "</table>\n",
              "</div><br><label><b>dtype:</b> int64</label>"
            ]
          },
          "metadata": {},
          "execution_count": 9
        }
      ]
    },
    {
      "cell_type": "code",
      "source": [
        "df_nunique.to_csv('nunique_values.csv')"
      ],
      "metadata": {
        "id": "muY5f7HtHUpj"
      },
      "execution_count": null,
      "outputs": []
    },
    {
      "cell_type": "code",
      "source": [
        "df.info()"
      ],
      "metadata": {
        "colab": {
          "base_uri": "https://localhost:8080/"
        },
        "id": "iH2XKRnuLfBT",
        "outputId": "2e0daf8f-c543-4257-ebfe-90379c71d93c"
      },
      "execution_count": null,
      "outputs": [
        {
          "output_type": "stream",
          "name": "stdout",
          "text": [
            "<class 'pandas.core.frame.DataFrame'>\n",
            "RangeIndex: 96806 entries, 0 to 96805\n",
            "Columns: 1216 entries, account_number to onus_attribute_48\n",
            "dtypes: float64(1189), int64(27)\n",
            "memory usage: 898.1 MB\n"
          ]
        }
      ]
    },
    {
      "cell_type": "code",
      "source": [
        "df.describe()"
      ],
      "metadata": {
        "colab": {
          "base_uri": "https://localhost:8080/",
          "height": 349
        },
        "id": "acP8jB1wLf-H",
        "outputId": "6940f79c-0bb3-4657-8197-5508fa114f05"
      },
      "execution_count": null,
      "outputs": [
        {
          "output_type": "execute_result",
          "data": {
            "text/plain": [
              "       account_number      bad_flag  onus_attribute_1  \\\n",
              "count    96806.000000  96806.000000      7.157500e+04   \n",
              "mean     48403.500000      0.014173      1.542391e+05   \n",
              "std      27945.629417      0.118203      1.729925e+05   \n",
              "min          1.000000      0.000000      2.500000e+04   \n",
              "25%      24202.250000      0.000000      5.900000e+04   \n",
              "50%      48403.500000      0.000000      1.000000e+05   \n",
              "75%      72604.750000      0.000000      1.810000e+05   \n",
              "max      96806.000000      1.000000      2.800000e+06   \n",
              "\n",
              "       transaction_attribute_1  transaction_attribute_2  \\\n",
              "count             71575.000000             71575.000000   \n",
              "mean                  9.570769                 0.002207   \n",
              "std                1513.967595                 0.119240   \n",
              "min                   0.000000                 0.000000   \n",
              "25%                   0.000000                 0.000000   \n",
              "50%                   0.000000                 0.000000   \n",
              "75%                   0.000000                 0.000000   \n",
              "max              398936.791000                25.000000   \n",
              "\n",
              "       transaction_attribute_3  transaction_attribute_4  \\\n",
              "count             71575.000000             71575.000000   \n",
              "mean                  4.092854                77.306435   \n",
              "std                 301.580599              3164.987013   \n",
              "min                   0.000000           -109800.476600   \n",
              "25%                   0.000000                 0.000000   \n",
              "50%                   0.000000                 0.000000   \n",
              "75%                   0.000000                 0.000000   \n",
              "max               55000.000000            358986.000000   \n",
              "\n",
              "       transaction_attribute_5  transaction_attribute_6  \\\n",
              "count             71575.000000             71575.000000   \n",
              "mean                  0.006315                67.043550   \n",
              "std                   0.129545              2516.330899   \n",
              "min                   0.000000             -3498.000000   \n",
              "25%                   0.000000                 0.000000   \n",
              "50%                   0.000000                 0.000000   \n",
              "75%                   0.000000                 0.000000   \n",
              "max                  12.000000            358986.000000   \n",
              "\n",
              "       transaction_attribute_7  ...  bureau_enquiry_47  bureau_enquiry_48  \\\n",
              "count             71575.000000  ...            94212.0       94212.000000   \n",
              "mean                  0.081034  ...                0.0           0.189657   \n",
              "std                  14.203615  ...                0.0           0.597298   \n",
              "min                   0.000000  ...                0.0           0.000000   \n",
              "25%                   0.000000  ...                0.0           0.000000   \n",
              "50%                   0.000000  ...                0.0           0.000000   \n",
              "75%                   0.000000  ...                0.0           0.000000   \n",
              "max                3150.000000  ...                0.0          18.000000   \n",
              "\n",
              "       bureau_enquiry_49  bureau_enquiry_50  onus_attribute_43  \\\n",
              "count       94212.000000       94212.000000       11610.000000   \n",
              "mean            0.044283           7.800673           0.588114   \n",
              "std             0.369451           8.655149           1.059613   \n",
              "min             0.000000           0.000000           0.000000   \n",
              "25%             0.000000           2.000000           0.000000   \n",
              "50%             0.000000           5.000000           0.000000   \n",
              "75%             0.000000          11.000000           1.000000   \n",
              "max            14.000000         102.000000          19.000000   \n",
              "\n",
              "       onus_attribute_44  onus_attribute_45  onus_attribute_46  \\\n",
              "count       11610.000000       11610.000000       11610.000000   \n",
              "mean            1.497158           0.545650           1.430491   \n",
              "std             1.702795           1.055865           1.728950   \n",
              "min             0.000000           0.000000           0.000000   \n",
              "25%             1.000000           0.000000           1.000000   \n",
              "50%             1.000000           0.000000           1.000000   \n",
              "75%             2.000000           1.000000           2.000000   \n",
              "max            38.000000          19.000000          38.000000   \n",
              "\n",
              "       onus_attribute_47  onus_attribute_48  \n",
              "count       11610.000000       11610.000000  \n",
              "mean            0.121447           0.119208  \n",
              "std             0.601256           0.599697  \n",
              "min             0.000000           0.000000  \n",
              "25%             0.000000           0.000000  \n",
              "50%             0.000000           0.000000  \n",
              "75%             0.000000           0.000000  \n",
              "max            15.000000          15.000000  \n",
              "\n",
              "[8 rows x 1216 columns]"
            ],
            "text/html": [
              "\n",
              "  <div id=\"df-4b9f6527-a61c-44d3-8394-538403c731c8\" class=\"colab-df-container\">\n",
              "    <div>\n",
              "<style scoped>\n",
              "    .dataframe tbody tr th:only-of-type {\n",
              "        vertical-align: middle;\n",
              "    }\n",
              "\n",
              "    .dataframe tbody tr th {\n",
              "        vertical-align: top;\n",
              "    }\n",
              "\n",
              "    .dataframe thead th {\n",
              "        text-align: right;\n",
              "    }\n",
              "</style>\n",
              "<table border=\"1\" class=\"dataframe\">\n",
              "  <thead>\n",
              "    <tr style=\"text-align: right;\">\n",
              "      <th></th>\n",
              "      <th>account_number</th>\n",
              "      <th>bad_flag</th>\n",
              "      <th>onus_attribute_1</th>\n",
              "      <th>transaction_attribute_1</th>\n",
              "      <th>transaction_attribute_2</th>\n",
              "      <th>transaction_attribute_3</th>\n",
              "      <th>transaction_attribute_4</th>\n",
              "      <th>transaction_attribute_5</th>\n",
              "      <th>transaction_attribute_6</th>\n",
              "      <th>transaction_attribute_7</th>\n",
              "      <th>...</th>\n",
              "      <th>bureau_enquiry_47</th>\n",
              "      <th>bureau_enquiry_48</th>\n",
              "      <th>bureau_enquiry_49</th>\n",
              "      <th>bureau_enquiry_50</th>\n",
              "      <th>onus_attribute_43</th>\n",
              "      <th>onus_attribute_44</th>\n",
              "      <th>onus_attribute_45</th>\n",
              "      <th>onus_attribute_46</th>\n",
              "      <th>onus_attribute_47</th>\n",
              "      <th>onus_attribute_48</th>\n",
              "    </tr>\n",
              "  </thead>\n",
              "  <tbody>\n",
              "    <tr>\n",
              "      <th>count</th>\n",
              "      <td>96806.000000</td>\n",
              "      <td>96806.000000</td>\n",
              "      <td>7.157500e+04</td>\n",
              "      <td>71575.000000</td>\n",
              "      <td>71575.000000</td>\n",
              "      <td>71575.000000</td>\n",
              "      <td>71575.000000</td>\n",
              "      <td>71575.000000</td>\n",
              "      <td>71575.000000</td>\n",
              "      <td>71575.000000</td>\n",
              "      <td>...</td>\n",
              "      <td>94212.0</td>\n",
              "      <td>94212.000000</td>\n",
              "      <td>94212.000000</td>\n",
              "      <td>94212.000000</td>\n",
              "      <td>11610.000000</td>\n",
              "      <td>11610.000000</td>\n",
              "      <td>11610.000000</td>\n",
              "      <td>11610.000000</td>\n",
              "      <td>11610.000000</td>\n",
              "      <td>11610.000000</td>\n",
              "    </tr>\n",
              "    <tr>\n",
              "      <th>mean</th>\n",
              "      <td>48403.500000</td>\n",
              "      <td>0.014173</td>\n",
              "      <td>1.542391e+05</td>\n",
              "      <td>9.570769</td>\n",
              "      <td>0.002207</td>\n",
              "      <td>4.092854</td>\n",
              "      <td>77.306435</td>\n",
              "      <td>0.006315</td>\n",
              "      <td>67.043550</td>\n",
              "      <td>0.081034</td>\n",
              "      <td>...</td>\n",
              "      <td>0.0</td>\n",
              "      <td>0.189657</td>\n",
              "      <td>0.044283</td>\n",
              "      <td>7.800673</td>\n",
              "      <td>0.588114</td>\n",
              "      <td>1.497158</td>\n",
              "      <td>0.545650</td>\n",
              "      <td>1.430491</td>\n",
              "      <td>0.121447</td>\n",
              "      <td>0.119208</td>\n",
              "    </tr>\n",
              "    <tr>\n",
              "      <th>std</th>\n",
              "      <td>27945.629417</td>\n",
              "      <td>0.118203</td>\n",
              "      <td>1.729925e+05</td>\n",
              "      <td>1513.967595</td>\n",
              "      <td>0.119240</td>\n",
              "      <td>301.580599</td>\n",
              "      <td>3164.987013</td>\n",
              "      <td>0.129545</td>\n",
              "      <td>2516.330899</td>\n",
              "      <td>14.203615</td>\n",
              "      <td>...</td>\n",
              "      <td>0.0</td>\n",
              "      <td>0.597298</td>\n",
              "      <td>0.369451</td>\n",
              "      <td>8.655149</td>\n",
              "      <td>1.059613</td>\n",
              "      <td>1.702795</td>\n",
              "      <td>1.055865</td>\n",
              "      <td>1.728950</td>\n",
              "      <td>0.601256</td>\n",
              "      <td>0.599697</td>\n",
              "    </tr>\n",
              "    <tr>\n",
              "      <th>min</th>\n",
              "      <td>1.000000</td>\n",
              "      <td>0.000000</td>\n",
              "      <td>2.500000e+04</td>\n",
              "      <td>0.000000</td>\n",
              "      <td>0.000000</td>\n",
              "      <td>0.000000</td>\n",
              "      <td>-109800.476600</td>\n",
              "      <td>0.000000</td>\n",
              "      <td>-3498.000000</td>\n",
              "      <td>0.000000</td>\n",
              "      <td>...</td>\n",
              "      <td>0.0</td>\n",
              "      <td>0.000000</td>\n",
              "      <td>0.000000</td>\n",
              "      <td>0.000000</td>\n",
              "      <td>0.000000</td>\n",
              "      <td>0.000000</td>\n",
              "      <td>0.000000</td>\n",
              "      <td>0.000000</td>\n",
              "      <td>0.000000</td>\n",
              "      <td>0.000000</td>\n",
              "    </tr>\n",
              "    <tr>\n",
              "      <th>25%</th>\n",
              "      <td>24202.250000</td>\n",
              "      <td>0.000000</td>\n",
              "      <td>5.900000e+04</td>\n",
              "      <td>0.000000</td>\n",
              "      <td>0.000000</td>\n",
              "      <td>0.000000</td>\n",
              "      <td>0.000000</td>\n",
              "      <td>0.000000</td>\n",
              "      <td>0.000000</td>\n",
              "      <td>0.000000</td>\n",
              "      <td>...</td>\n",
              "      <td>0.0</td>\n",
              "      <td>0.000000</td>\n",
              "      <td>0.000000</td>\n",
              "      <td>2.000000</td>\n",
              "      <td>0.000000</td>\n",
              "      <td>1.000000</td>\n",
              "      <td>0.000000</td>\n",
              "      <td>1.000000</td>\n",
              "      <td>0.000000</td>\n",
              "      <td>0.000000</td>\n",
              "    </tr>\n",
              "    <tr>\n",
              "      <th>50%</th>\n",
              "      <td>48403.500000</td>\n",
              "      <td>0.000000</td>\n",
              "      <td>1.000000e+05</td>\n",
              "      <td>0.000000</td>\n",
              "      <td>0.000000</td>\n",
              "      <td>0.000000</td>\n",
              "      <td>0.000000</td>\n",
              "      <td>0.000000</td>\n",
              "      <td>0.000000</td>\n",
              "      <td>0.000000</td>\n",
              "      <td>...</td>\n",
              "      <td>0.0</td>\n",
              "      <td>0.000000</td>\n",
              "      <td>0.000000</td>\n",
              "      <td>5.000000</td>\n",
              "      <td>0.000000</td>\n",
              "      <td>1.000000</td>\n",
              "      <td>0.000000</td>\n",
              "      <td>1.000000</td>\n",
              "      <td>0.000000</td>\n",
              "      <td>0.000000</td>\n",
              "    </tr>\n",
              "    <tr>\n",
              "      <th>75%</th>\n",
              "      <td>72604.750000</td>\n",
              "      <td>0.000000</td>\n",
              "      <td>1.810000e+05</td>\n",
              "      <td>0.000000</td>\n",
              "      <td>0.000000</td>\n",
              "      <td>0.000000</td>\n",
              "      <td>0.000000</td>\n",
              "      <td>0.000000</td>\n",
              "      <td>0.000000</td>\n",
              "      <td>0.000000</td>\n",
              "      <td>...</td>\n",
              "      <td>0.0</td>\n",
              "      <td>0.000000</td>\n",
              "      <td>0.000000</td>\n",
              "      <td>11.000000</td>\n",
              "      <td>1.000000</td>\n",
              "      <td>2.000000</td>\n",
              "      <td>1.000000</td>\n",
              "      <td>2.000000</td>\n",
              "      <td>0.000000</td>\n",
              "      <td>0.000000</td>\n",
              "    </tr>\n",
              "    <tr>\n",
              "      <th>max</th>\n",
              "      <td>96806.000000</td>\n",
              "      <td>1.000000</td>\n",
              "      <td>2.800000e+06</td>\n",
              "      <td>398936.791000</td>\n",
              "      <td>25.000000</td>\n",
              "      <td>55000.000000</td>\n",
              "      <td>358986.000000</td>\n",
              "      <td>12.000000</td>\n",
              "      <td>358986.000000</td>\n",
              "      <td>3150.000000</td>\n",
              "      <td>...</td>\n",
              "      <td>0.0</td>\n",
              "      <td>18.000000</td>\n",
              "      <td>14.000000</td>\n",
              "      <td>102.000000</td>\n",
              "      <td>19.000000</td>\n",
              "      <td>38.000000</td>\n",
              "      <td>19.000000</td>\n",
              "      <td>38.000000</td>\n",
              "      <td>15.000000</td>\n",
              "      <td>15.000000</td>\n",
              "    </tr>\n",
              "  </tbody>\n",
              "</table>\n",
              "<p>8 rows × 1216 columns</p>\n",
              "</div>\n",
              "    <div class=\"colab-df-buttons\">\n",
              "\n",
              "  <div class=\"colab-df-container\">\n",
              "    <button class=\"colab-df-convert\" onclick=\"convertToInteractive('df-4b9f6527-a61c-44d3-8394-538403c731c8')\"\n",
              "            title=\"Convert this dataframe to an interactive table.\"\n",
              "            style=\"display:none;\">\n",
              "\n",
              "  <svg xmlns=\"http://www.w3.org/2000/svg\" height=\"24px\" viewBox=\"0 -960 960 960\">\n",
              "    <path d=\"M120-120v-720h720v720H120Zm60-500h600v-160H180v160Zm220 220h160v-160H400v160Zm0 220h160v-160H400v160ZM180-400h160v-160H180v160Zm440 0h160v-160H620v160ZM180-180h160v-160H180v160Zm440 0h160v-160H620v160Z\"/>\n",
              "  </svg>\n",
              "    </button>\n",
              "\n",
              "  <style>\n",
              "    .colab-df-container {\n",
              "      display:flex;\n",
              "      gap: 12px;\n",
              "    }\n",
              "\n",
              "    .colab-df-convert {\n",
              "      background-color: #E8F0FE;\n",
              "      border: none;\n",
              "      border-radius: 50%;\n",
              "      cursor: pointer;\n",
              "      display: none;\n",
              "      fill: #1967D2;\n",
              "      height: 32px;\n",
              "      padding: 0 0 0 0;\n",
              "      width: 32px;\n",
              "    }\n",
              "\n",
              "    .colab-df-convert:hover {\n",
              "      background-color: #E2EBFA;\n",
              "      box-shadow: 0px 1px 2px rgba(60, 64, 67, 0.3), 0px 1px 3px 1px rgba(60, 64, 67, 0.15);\n",
              "      fill: #174EA6;\n",
              "    }\n",
              "\n",
              "    .colab-df-buttons div {\n",
              "      margin-bottom: 4px;\n",
              "    }\n",
              "\n",
              "    [theme=dark] .colab-df-convert {\n",
              "      background-color: #3B4455;\n",
              "      fill: #D2E3FC;\n",
              "    }\n",
              "\n",
              "    [theme=dark] .colab-df-convert:hover {\n",
              "      background-color: #434B5C;\n",
              "      box-shadow: 0px 1px 3px 1px rgba(0, 0, 0, 0.15);\n",
              "      filter: drop-shadow(0px 1px 2px rgba(0, 0, 0, 0.3));\n",
              "      fill: #FFFFFF;\n",
              "    }\n",
              "  </style>\n",
              "\n",
              "    <script>\n",
              "      const buttonEl =\n",
              "        document.querySelector('#df-4b9f6527-a61c-44d3-8394-538403c731c8 button.colab-df-convert');\n",
              "      buttonEl.style.display =\n",
              "        google.colab.kernel.accessAllowed ? 'block' : 'none';\n",
              "\n",
              "      async function convertToInteractive(key) {\n",
              "        const element = document.querySelector('#df-4b9f6527-a61c-44d3-8394-538403c731c8');\n",
              "        const dataTable =\n",
              "          await google.colab.kernel.invokeFunction('convertToInteractive',\n",
              "                                                    [key], {});\n",
              "        if (!dataTable) return;\n",
              "\n",
              "        const docLinkHtml = 'Like what you see? Visit the ' +\n",
              "          '<a target=\"_blank\" href=https://colab.research.google.com/notebooks/data_table.ipynb>data table notebook</a>'\n",
              "          + ' to learn more about interactive tables.';\n",
              "        element.innerHTML = '';\n",
              "        dataTable['output_type'] = 'display_data';\n",
              "        await google.colab.output.renderOutput(dataTable, element);\n",
              "        const docLink = document.createElement('div');\n",
              "        docLink.innerHTML = docLinkHtml;\n",
              "        element.appendChild(docLink);\n",
              "      }\n",
              "    </script>\n",
              "  </div>\n",
              "\n",
              "\n",
              "<div id=\"df-9f971551-dbdc-4cef-97e2-537c578564c0\">\n",
              "  <button class=\"colab-df-quickchart\" onclick=\"quickchart('df-9f971551-dbdc-4cef-97e2-537c578564c0')\"\n",
              "            title=\"Suggest charts\"\n",
              "            style=\"display:none;\">\n",
              "\n",
              "<svg xmlns=\"http://www.w3.org/2000/svg\" height=\"24px\"viewBox=\"0 0 24 24\"\n",
              "     width=\"24px\">\n",
              "    <g>\n",
              "        <path d=\"M19 3H5c-1.1 0-2 .9-2 2v14c0 1.1.9 2 2 2h14c1.1 0 2-.9 2-2V5c0-1.1-.9-2-2-2zM9 17H7v-7h2v7zm4 0h-2V7h2v10zm4 0h-2v-4h2v4z\"/>\n",
              "    </g>\n",
              "</svg>\n",
              "  </button>\n",
              "\n",
              "<style>\n",
              "  .colab-df-quickchart {\n",
              "      --bg-color: #E8F0FE;\n",
              "      --fill-color: #1967D2;\n",
              "      --hover-bg-color: #E2EBFA;\n",
              "      --hover-fill-color: #174EA6;\n",
              "      --disabled-fill-color: #AAA;\n",
              "      --disabled-bg-color: #DDD;\n",
              "  }\n",
              "\n",
              "  [theme=dark] .colab-df-quickchart {\n",
              "      --bg-color: #3B4455;\n",
              "      --fill-color: #D2E3FC;\n",
              "      --hover-bg-color: #434B5C;\n",
              "      --hover-fill-color: #FFFFFF;\n",
              "      --disabled-bg-color: #3B4455;\n",
              "      --disabled-fill-color: #666;\n",
              "  }\n",
              "\n",
              "  .colab-df-quickchart {\n",
              "    background-color: var(--bg-color);\n",
              "    border: none;\n",
              "    border-radius: 50%;\n",
              "    cursor: pointer;\n",
              "    display: none;\n",
              "    fill: var(--fill-color);\n",
              "    height: 32px;\n",
              "    padding: 0;\n",
              "    width: 32px;\n",
              "  }\n",
              "\n",
              "  .colab-df-quickchart:hover {\n",
              "    background-color: var(--hover-bg-color);\n",
              "    box-shadow: 0 1px 2px rgba(60, 64, 67, 0.3), 0 1px 3px 1px rgba(60, 64, 67, 0.15);\n",
              "    fill: var(--button-hover-fill-color);\n",
              "  }\n",
              "\n",
              "  .colab-df-quickchart-complete:disabled,\n",
              "  .colab-df-quickchart-complete:disabled:hover {\n",
              "    background-color: var(--disabled-bg-color);\n",
              "    fill: var(--disabled-fill-color);\n",
              "    box-shadow: none;\n",
              "  }\n",
              "\n",
              "  .colab-df-spinner {\n",
              "    border: 2px solid var(--fill-color);\n",
              "    border-color: transparent;\n",
              "    border-bottom-color: var(--fill-color);\n",
              "    animation:\n",
              "      spin 1s steps(1) infinite;\n",
              "  }\n",
              "\n",
              "  @keyframes spin {\n",
              "    0% {\n",
              "      border-color: transparent;\n",
              "      border-bottom-color: var(--fill-color);\n",
              "      border-left-color: var(--fill-color);\n",
              "    }\n",
              "    20% {\n",
              "      border-color: transparent;\n",
              "      border-left-color: var(--fill-color);\n",
              "      border-top-color: var(--fill-color);\n",
              "    }\n",
              "    30% {\n",
              "      border-color: transparent;\n",
              "      border-left-color: var(--fill-color);\n",
              "      border-top-color: var(--fill-color);\n",
              "      border-right-color: var(--fill-color);\n",
              "    }\n",
              "    40% {\n",
              "      border-color: transparent;\n",
              "      border-right-color: var(--fill-color);\n",
              "      border-top-color: var(--fill-color);\n",
              "    }\n",
              "    60% {\n",
              "      border-color: transparent;\n",
              "      border-right-color: var(--fill-color);\n",
              "    }\n",
              "    80% {\n",
              "      border-color: transparent;\n",
              "      border-right-color: var(--fill-color);\n",
              "      border-bottom-color: var(--fill-color);\n",
              "    }\n",
              "    90% {\n",
              "      border-color: transparent;\n",
              "      border-bottom-color: var(--fill-color);\n",
              "    }\n",
              "  }\n",
              "</style>\n",
              "\n",
              "  <script>\n",
              "    async function quickchart(key) {\n",
              "      const quickchartButtonEl =\n",
              "        document.querySelector('#' + key + ' button');\n",
              "      quickchartButtonEl.disabled = true;  // To prevent multiple clicks.\n",
              "      quickchartButtonEl.classList.add('colab-df-spinner');\n",
              "      try {\n",
              "        const charts = await google.colab.kernel.invokeFunction(\n",
              "            'suggestCharts', [key], {});\n",
              "      } catch (error) {\n",
              "        console.error('Error during call to suggestCharts:', error);\n",
              "      }\n",
              "      quickchartButtonEl.classList.remove('colab-df-spinner');\n",
              "      quickchartButtonEl.classList.add('colab-df-quickchart-complete');\n",
              "    }\n",
              "    (() => {\n",
              "      let quickchartButtonEl =\n",
              "        document.querySelector('#df-9f971551-dbdc-4cef-97e2-537c578564c0 button');\n",
              "      quickchartButtonEl.style.display =\n",
              "        google.colab.kernel.accessAllowed ? 'block' : 'none';\n",
              "    })();\n",
              "  </script>\n",
              "</div>\n",
              "\n",
              "    </div>\n",
              "  </div>\n"
            ],
            "application/vnd.google.colaboratory.intrinsic+json": {
              "type": "dataframe"
            }
          },
          "metadata": {},
          "execution_count": 12
        }
      ]
    },
    {
      "cell_type": "markdown",
      "source": [
        "## Data Cleaning"
      ],
      "metadata": {
        "id": "bTW4fCd41fUO"
      }
    },
    {
      "cell_type": "code",
      "source": [
        "\n",
        "# Define the four groups\n",
        "onus_attribute = df_null[df_null.index.str.startswith('onus_attribute')]\n",
        "transaction_attribute = df_null[df_null.index.str.startswith('transaction_attribute')]\n",
        "bureau_enquiry = df_null[df_null.index.str.startswith('bureau_enquiry')]\n",
        "bureau = df_null[df_null.index.str.startswith('bureau')]\n",
        "fig, axes = plt.subplots(2, 2, figsize=(10, 8))\n",
        "axes[0, 0].plot(onus_attribute.index, onus_attribute.values)\n",
        "axes[0, 0].set_title('onus_attribute')\n",
        "axes[0, 1].plot(transaction_attribute.index, transaction_attribute.values)\n",
        "axes[0, 1].set_title('transaction_attribute')\n",
        "axes[1, 0].plot(bureau_enquiry.index, bureau_enquiry.values)\n",
        "axes[1, 0].set_title('bureau_enquiry')\n",
        "axes[1, 1].plot(bureau.index, bureau.values)\n",
        "axes[1, 1].set_title('bureau')\n",
        "for ax in axes.flat:\n",
        "    ax.tick_params(axis='x', labelrotation=90)\n",
        "plt.tight_layout()\n",
        "plt.show()"
      ],
      "metadata": {
        "colab": {
          "base_uri": "https://localhost:8080/",
          "height": 552
        },
        "id": "c_0U_JxBLo12",
        "outputId": "d58d07d0-ec91-4644-938e-dd868c944b11"
      },
      "execution_count": null,
      "outputs": [
        {
          "output_type": "display_data",
          "data": {
            "text/plain": [
              "<Figure size 1000x800 with 4 Axes>"
            ],
            "image/png": "[encoded data removed]"
          },
          "metadata": {}
        }
      ]
    },
    {
      "source": [
        "threshold = len(df) * 0.3\n",
        "columns_to_drop = df.columns[df.isnull().sum() > threshold]"
      ],
      "cell_type": "code",
      "metadata": {
        "id": "P_whlLcnTuq9"
      },
      "execution_count": null,
      "outputs": []
    },
    {
      "cell_type": "code",
      "source": [
        "columns_to_drop"
      ],
      "metadata": {
        "colab": {
          "base_uri": "https://localhost:8080/"
        },
        "id": "hANVuAIIT2mZ",
        "outputId": "edbe4486-334d-4611-92e1-ecb39f343a02"
      },
      "execution_count": null,
      "outputs": [
        {
          "output_type": "execute_result",
          "data": {
            "text/plain": [
              "Index(['bureau_147', 'bureau_148', 'bureau_433', 'bureau_434', 'bureau_435',\n",
              "       'bureau_436', 'bureau_437', 'bureau_438', 'bureau_440', 'bureau_444',\n",
              "       'bureau_445', 'bureau_446', 'bureau_447', 'bureau_448', 'bureau_449',\n",
              "       'bureau_451', 'onus_attribute_6', 'onus_attribute_7',\n",
              "       'onus_attribute_9', 'onus_attribute_43', 'onus_attribute_44',\n",
              "       'onus_attribute_45', 'onus_attribute_46', 'onus_attribute_47',\n",
              "       'onus_attribute_48'],\n",
              "      dtype='object')"
            ]
          },
          "metadata": {},
          "execution_count": 15
        }
      ]
    },
    {
      "source": [
        "df = df.drop(columns=columns_to_drop, axis=1)"
      ],
      "cell_type": "code",
      "metadata": {
        "id": "7XCQJL0OTzqc"
      },
      "execution_count": null,
      "outputs": []
    },
    {
      "source": [
        "remaining_columns = df.columns\n",
        "df_null = df_null[df_null.index.isin(remaining_columns)]\n",
        "df_nunique = df_nunique[df_nunique.index.isin(remaining_columns)]"
      ],
      "cell_type": "code",
      "metadata": {
        "id": "R2KLXaaYUkZ2"
      },
      "execution_count": null,
      "outputs": []
    },
    {
      "cell_type": "code",
      "source": [
        "df.shape"
      ],
      "metadata": {
        "colab": {
          "base_uri": "https://localhost:8080/"
        },
        "id": "xep0Gq_RUj7w",
        "outputId": "7d5817f0-8bbf-4e75-9b67-5adbb472c2a9"
      },
      "execution_count": null,
      "outputs": [
        {
          "output_type": "execute_result",
          "data": {
            "text/plain": [
              "(96806, 1191)"
            ]
          },
          "metadata": {},
          "execution_count": 18
        }
      ]
    },
    {
      "cell_type": "code",
      "source": [
        "df_null.shape"
      ],
      "metadata": {
        "colab": {
          "base_uri": "https://localhost:8080/"
        },
        "id": "CS5NbJGqU2Ci",
        "outputId": "6e24a3a6-3ef1-4bc1-cf45-ffe178250a3b"
      },
      "execution_count": null,
      "outputs": [
        {
          "output_type": "execute_result",
          "data": {
            "text/plain": [
              "(1191,)"
            ]
          },
          "metadata": {},
          "execution_count": 19
        }
      ]
    },
    {
      "cell_type": "code",
      "source": [
        "df_nunique.head()"
      ],
      "metadata": {
        "colab": {
          "base_uri": "https://localhost:8080/",
          "height": 241
        },
        "id": "gaPqbhEFU6vI",
        "outputId": "4e36b4e6-b3c5-4fd0-af7e-83bf13aa342e"
      },
      "execution_count": null,
      "outputs": [
        {
          "output_type": "execute_result",
          "data": {
            "text/plain": [
              "account_number             96806\n",
              "bad_flag                       2\n",
              "onus_attribute_1             970\n",
              "transaction_attribute_1       84\n",
              "transaction_attribute_2        8\n",
              "dtype: int64"
            ],
            "text/html": [
              "<div>\n",
              "<style scoped>\n",
              "    .dataframe tbody tr th:only-of-type {\n",
              "        vertical-align: middle;\n",
              "    }\n",
              "\n",
              "    .dataframe tbody tr th {\n",
              "        vertical-align: top;\n",
              "    }\n",
              "\n",
              "    .dataframe thead th {\n",
              "        text-align: right;\n",
              "    }\n",
              "</style>\n",
              "<table border=\"1\" class=\"dataframe\">\n",
              "  <thead>\n",
              "    <tr style=\"text-align: right;\">\n",
              "      <th></th>\n",
              "      <th>0</th>\n",
              "    </tr>\n",
              "  </thead>\n",
              "  <tbody>\n",
              "    <tr>\n",
              "      <th>account_number</th>\n",
              "      <td>96806</td>\n",
              "    </tr>\n",
              "    <tr>\n",
              "      <th>bad_flag</th>\n",
              "      <td>2</td>\n",
              "    </tr>\n",
              "    <tr>\n",
              "      <th>onus_attribute_1</th>\n",
              "      <td>970</td>\n",
              "    </tr>\n",
              "    <tr>\n",
              "      <th>transaction_attribute_1</th>\n",
              "      <td>84</td>\n",
              "    </tr>\n",
              "    <tr>\n",
              "      <th>transaction_attribute_2</th>\n",
              "      <td>8</td>\n",
              "    </tr>\n",
              "  </tbody>\n",
              "</table>\n",
              "</div><br><label><b>dtype:</b> int64</label>"
            ]
          },
          "metadata": {},
          "execution_count": 20
        }
      ]
    },
    {
      "source": [
        "filtered_df_nunique = df_nunique[df_nunique == 1]\n",
        "columns_with_one_unique_value = filtered_df_nunique.index"
      ],
      "cell_type": "code",
      "metadata": {
        "id": "IJjxF8C-VT8A"
      },
      "execution_count": null,
      "outputs": []
    },
    {
      "cell_type": "code",
      "source": [
        "columns_with_one_unique_value"
      ],
      "metadata": {
        "colab": {
          "base_uri": "https://localhost:8080/"
        },
        "id": "IUbGd9mAVc-j",
        "outputId": "01619716-5d47-4776-862b-f980412e1d21"
      },
      "execution_count": null,
      "outputs": [
        {
          "output_type": "execute_result",
          "data": {
            "text/plain": [
              "Index(['transaction_attribute_152', 'transaction_attribute_191',\n",
              "       'transaction_attribute_524', 'transaction_attribute_525',\n",
              "       'transaction_attribute_582', 'transaction_attribute_621', 'bureau_4',\n",
              "       'bureau_16', 'bureau_26', 'bureau_38', 'bureau_47', 'bureau_56',\n",
              "       'bureau_70', 'bureau_80', 'bureau_90', 'bureau_100', 'bureau_110',\n",
              "       'bureau_120', 'bureau_131', 'bureau_142', 'bureau_152', 'bureau_162',\n",
              "       'bureau_172', 'bureau_182', 'bureau_192', 'bureau_202', 'bureau_212',\n",
              "       'bureau_222', 'bureau_232', 'bureau_242', 'bureau_252', 'bureau_262',\n",
              "       'bureau_272', 'bureau_282', 'bureau_292', 'bureau_302', 'bureau_312',\n",
              "       'bureau_322', 'bureau_332', 'bureau_342', 'bureau_352', 'bureau_362',\n",
              "       'bureau_372', 'bureau_382', 'bureau_392', 'bureau_402', 'bureau_412',\n",
              "       'bureau_423', 'onus_attribute_28', 'bureau_enquiry_7',\n",
              "       'bureau_enquiry_17', 'bureau_enquiry_27', 'bureau_enquiry_37',\n",
              "       'bureau_enquiry_47'],\n",
              "      dtype='object')"
            ]
          },
          "metadata": {},
          "execution_count": 22
        }
      ]
    },
    {
      "source": [
        "df = df.drop(columns=columns_with_one_unique_value, axis=1)"
      ],
      "cell_type": "code",
      "metadata": {
        "id": "JYwkhxhnVXsa"
      },
      "execution_count": null,
      "outputs": []
    },
    {
      "cell_type": "code",
      "source": [
        "remaining_columns = df.columns\n",
        "df_null = df_null[df_null.index.isin(remaining_columns)]\n",
        "df_nunique = df_nunique[df_nunique.index.isin(remaining_columns)]"
      ],
      "metadata": {
        "id": "pJrPSGB0VcPM"
      },
      "execution_count": null,
      "outputs": []
    },
    {
      "cell_type": "code",
      "source": [
        "df.shape"
      ],
      "metadata": {
        "colab": {
          "base_uri": "https://localhost:8080/"
        },
        "id": "Hm8leJ8sVnVM",
        "outputId": "b3ec1963-1556-4515-cd24-c8bbcc092db9"
      },
      "execution_count": null,
      "outputs": [
        {
          "output_type": "execute_result",
          "data": {
            "text/plain": [
              "(96806, 1137)"
            ]
          },
          "metadata": {},
          "execution_count": 25
        }
      ]
    },
    {
      "cell_type": "code",
      "source": [
        "df_null.shape"
      ],
      "metadata": {
        "colab": {
          "base_uri": "https://localhost:8080/"
        },
        "id": "bWwwhw9KVoX0",
        "outputId": "8edbe950-cf43-4766-8c70-e5857b20f85a"
      },
      "execution_count": null,
      "outputs": [
        {
          "output_type": "execute_result",
          "data": {
            "text/plain": [
              "(1137,)"
            ]
          },
          "metadata": {},
          "execution_count": 26
        }
      ]
    },
    {
      "source": [
        "total_columns_to_drop = columns_with_one_unique_value.union(columns_to_drop)"
      ],
      "cell_type": "code",
      "metadata": {
        "id": "_1rWKdBRQp-8"
      },
      "execution_count": null,
      "outputs": []
    },
    {
      "cell_type": "code",
      "source": [
        "total_columns_to_drop.shape"
      ],
      "metadata": {
        "colab": {
          "base_uri": "https://localhost:8080/"
        },
        "id": "D_wmZdz7QALo",
        "outputId": "c41507e9-edd4-4525-ea02-49d56afaa877"
      },
      "execution_count": null,
      "outputs": [
        {
          "output_type": "execute_result",
          "data": {
            "text/plain": [
              "(79,)"
            ]
          },
          "metadata": {},
          "execution_count": 28
        }
      ]
    },
    {
      "cell_type": "code",
      "source": [
        "onus_attribute = df_null[df_null.index.str.startswith('onus_attribute')]\n",
        "transaction_attribute = df_null[df_null.index.str.startswith('transaction_attribute')]\n",
        "bureau_enquiry = df_null[df_null.index.str.startswith('bureau_enquiry')]\n",
        "bureau = df_null[df_null.index.str.startswith('bureau')]\n",
        "fig, axes = plt.subplots(2, 2, figsize=(10, 8))\n",
        "\n",
        "axes[0, 0].plot(onus_attribute.index, onus_attribute.values)\n",
        "axes[0, 0].set_title('onus_attribute')\n",
        "axes[0, 1].plot(transaction_attribute.index, transaction_attribute.values)\n",
        "axes[0, 1].set_title('transaction_attribute')\n",
        "axes[1, 0].plot(bureau_enquiry.index, bureau_enquiry.values)\n",
        "axes[1, 0].set_title('bureau_enquiry')\n",
        "axes[1, 1].plot(bureau.index, bureau.values)\n",
        "axes[1, 1].set_title('bureau')\n",
        "for ax in axes.flat:\n",
        "    ax.tick_params(axis='x', labelrotation=90)\n",
        "plt.tight_layout()\n",
        "plt.show()"
      ],
      "metadata": {
        "colab": {
          "base_uri": "https://localhost:8080/",
          "height": 552
        },
        "id": "rOge6rI4VtUi",
        "outputId": "d17c5411-6dbf-4628-8a54-fae9a27095dc"
      },
      "execution_count": null,
      "outputs": [
        {
          "output_type": "display_data",
          "data": {
            "text/plain": [
              "<Figure size 1000x800 with 4 Axes>"
            ],
            "image/png": "[encoded data removed]"
          },
          "metadata": {}
        }
      ]
    },
    {
      "cell_type": "code",
      "source": [
        "df_null.head()"
      ],
      "metadata": {
        "colab": {
          "base_uri": "https://localhost:8080/",
          "height": 241
        },
        "id": "GrkIKgjgXxGr",
        "outputId": "772faa02-bcea-4c5a-f718-e25934934c83"
      },
      "execution_count": null,
      "outputs": [
        {
          "output_type": "execute_result",
          "data": {
            "text/plain": [
              "account_number                 0\n",
              "bad_flag                       0\n",
              "onus_attribute_1           25231\n",
              "transaction_attribute_1    25231\n",
              "transaction_attribute_2    25231\n",
              "dtype: int64"
            ],
            "text/html": [
              "<div>\n",
              "<style scoped>\n",
              "    .dataframe tbody tr th:only-of-type {\n",
              "        vertical-align: middle;\n",
              "    }\n",
              "\n",
              "    .dataframe tbody tr th {\n",
              "        vertical-align: top;\n",
              "    }\n",
              "\n",
              "    .dataframe thead th {\n",
              "        text-align: right;\n",
              "    }\n",
              "</style>\n",
              "<table border=\"1\" class=\"dataframe\">\n",
              "  <thead>\n",
              "    <tr style=\"text-align: right;\">\n",
              "      <th></th>\n",
              "      <th>0</th>\n",
              "    </tr>\n",
              "  </thead>\n",
              "  <tbody>\n",
              "    <tr>\n",
              "      <th>account_number</th>\n",
              "      <td>0</td>\n",
              "    </tr>\n",
              "    <tr>\n",
              "      <th>bad_flag</th>\n",
              "      <td>0</td>\n",
              "    </tr>\n",
              "    <tr>\n",
              "      <th>onus_attribute_1</th>\n",
              "      <td>25231</td>\n",
              "    </tr>\n",
              "    <tr>\n",
              "      <th>transaction_attribute_1</th>\n",
              "      <td>25231</td>\n",
              "    </tr>\n",
              "    <tr>\n",
              "      <th>transaction_attribute_2</th>\n",
              "      <td>25231</td>\n",
              "    </tr>\n",
              "  </tbody>\n",
              "</table>\n",
              "</div><br><label><b>dtype:</b> int64</label>"
            ]
          },
          "metadata": {},
          "execution_count": 30
        }
      ]
    },
    {
      "cell_type": "code",
      "source": [
        "#now finding binary and non binary"
      ],
      "metadata": {
        "id": "1BXJ4i9xa9iA"
      },
      "execution_count": null,
      "outputs": []
    },
    {
      "cell_type": "code",
      "source": [
        "binary_df_nunique = df_nunique[df_nunique == 2]\n",
        "columns_with_binary_value = binary_df_nunique.index"
      ],
      "metadata": {
        "id": "ObHR7hA6bASy"
      },
      "execution_count": null,
      "outputs": []
    },
    {
      "cell_type": "code",
      "source": [
        "columns_with_binary_value"
      ],
      "metadata": {
        "colab": {
          "base_uri": "https://localhost:8080/"
        },
        "id": "K5Y_8bY1lGY6",
        "outputId": "1d5f6a38-d40d-417a-b196-37e0241646f1"
      },
      "execution_count": null,
      "outputs": [
        {
          "output_type": "execute_result",
          "data": {
            "text/plain": [
              "Index(['bad_flag', 'transaction_attribute_79', 'transaction_attribute_80',\n",
              "       'transaction_attribute_81', 'transaction_attribute_144',\n",
              "       'transaction_attribute_183', 'transaction_attribute_222', 'bureau_67',\n",
              "       'bureau_149', 'bureau_150',\n",
              "       ...\n",
              "       'bureau_385', 'bureau_386', 'bureau_387', 'bureau_388',\n",
              "       'onus_attribute_3', 'onus_attribute_4', 'onus_attribute_26',\n",
              "       'onus_attribute_27', 'onus_attribute_29', 'onus_attribute_30'],\n",
              "      dtype='object', length=230)"
            ]
          },
          "metadata": {},
          "execution_count": 33
        }
      ]
    },
    {
      "cell_type": "code",
      "source": [
        "binary_df_nunique.shape"
      ],
      "metadata": {
        "colab": {
          "base_uri": "https://localhost:8080/"
        },
        "id": "QQkUtkholIib",
        "outputId": "6f42662a-c1c7-420b-8513-4c664bddcb1f"
      },
      "execution_count": null,
      "outputs": [
        {
          "output_type": "execute_result",
          "data": {
            "text/plain": [
              "(230,)"
            ]
          },
          "metadata": {},
          "execution_count": 34
        }
      ]
    },
    {
      "cell_type": "code",
      "source": [
        "#get the cat column - code threshold nunique <=10"
      ],
      "metadata": {
        "id": "x0zX_MNqWDdq"
      },
      "execution_count": null,
      "outputs": []
    },
    {
      "source": [
        "def get_categorical_cols(df, range_threshold):\n",
        "    categorical_cols = []\n",
        "    for col in df.columns:\n",
        "        nunique = df[col].nunique()\n",
        "        max_val = df[col].max()\n",
        "\n",
        "        if nunique == max_val + 1 and nunique <= range_threshold:\n",
        "            categorical_cols.append(col)\n",
        "\n",
        "    return categorical_cols\n",
        "\n",
        "\n",
        "# Example usage:\n",
        "categorical_columns = get_categorical_cols(df, range_threshold=25)\n",
        "print(categorical_columns)"
      ],
      "cell_type": "code",
      "metadata": {
        "colab": {
          "base_uri": "https://localhost:8080/"
        },
        "id": "v3oBR0NRccGc",
        "outputId": "112bc3c1-5e06-47da-9a5a-77c910880ff7"
      },
      "execution_count": null,
      "outputs": [
        {
          "output_type": "stream",
          "name": "stdout",
          "text": [
            "['bad_flag', 'transaction_attribute_80', 'transaction_attribute_144', 'transaction_attribute_183', 'transaction_attribute_314', 'bureau_5', 'bureau_15', 'bureau_17', 'bureau_25', 'bureau_27', 'bureau_67', 'bureau_69', 'bureau_71', 'bureau_73', 'bureau_77', 'bureau_79', 'bureau_81', 'bureau_83', 'bureau_84', 'bureau_87', 'bureau_89', 'bureau_93', 'bureau_97', 'bureau_101', 'bureau_113', 'bureau_149', 'bureau_150', 'bureau_151', 'bureau_153', 'bureau_154', 'bureau_155', 'bureau_156', 'bureau_157', 'bureau_158', 'bureau_159', 'bureau_160', 'bureau_161', 'bureau_163', 'bureau_164', 'bureau_165', 'bureau_166', 'bureau_167', 'bureau_168', 'bureau_169', 'bureau_170', 'bureau_171', 'bureau_173', 'bureau_174', 'bureau_175', 'bureau_176', 'bureau_177', 'bureau_178', 'bureau_179', 'bureau_180', 'bureau_181', 'bureau_183', 'bureau_184', 'bureau_185', 'bureau_186', 'bureau_187', 'bureau_188', 'bureau_189', 'bureau_190', 'bureau_191', 'bureau_193', 'bureau_194', 'bureau_195', 'bureau_196', 'bureau_197', 'bureau_198', 'bureau_199', 'bureau_200', 'bureau_201', 'bureau_203', 'bureau_204', 'bureau_205', 'bureau_206', 'bureau_207', 'bureau_208', 'bureau_209', 'bureau_210', 'bureau_211', 'bureau_213', 'bureau_214', 'bureau_215', 'bureau_216', 'bureau_217', 'bureau_218', 'bureau_219', 'bureau_220', 'bureau_221', 'bureau_223', 'bureau_224', 'bureau_225', 'bureau_226', 'bureau_227', 'bureau_228', 'bureau_229', 'bureau_230', 'bureau_231', 'bureau_233', 'bureau_234', 'bureau_235', 'bureau_236', 'bureau_237', 'bureau_238', 'bureau_239', 'bureau_240', 'bureau_241', 'bureau_243', 'bureau_244', 'bureau_245', 'bureau_246', 'bureau_247', 'bureau_248', 'bureau_249', 'bureau_250', 'bureau_251', 'bureau_253', 'bureau_254', 'bureau_255', 'bureau_256', 'bureau_257', 'bureau_258', 'bureau_259', 'bureau_260', 'bureau_261', 'bureau_263', 'bureau_264', 'bureau_265', 'bureau_266', 'bureau_267', 'bureau_268', 'bureau_269', 'bureau_270', 'bureau_271', 'bureau_273', 'bureau_274', 'bureau_275', 'bureau_276', 'bureau_277', 'bureau_278', 'bureau_279', 'bureau_280', 'bureau_281', 'bureau_283', 'bureau_284', 'bureau_285', 'bureau_286', 'bureau_287', 'bureau_288', 'bureau_289', 'bureau_290', 'bureau_291', 'bureau_293', 'bureau_294', 'bureau_295', 'bureau_296', 'bureau_297', 'bureau_298', 'bureau_299', 'bureau_300', 'bureau_301', 'bureau_303', 'bureau_304', 'bureau_305', 'bureau_306', 'bureau_307', 'bureau_308', 'bureau_309', 'bureau_310', 'bureau_311', 'bureau_313', 'bureau_314', 'bureau_315', 'bureau_316', 'bureau_317', 'bureau_318', 'bureau_319', 'bureau_320', 'bureau_321', 'bureau_323', 'bureau_324', 'bureau_325', 'bureau_326', 'bureau_327', 'bureau_328', 'bureau_329', 'bureau_330', 'bureau_331', 'bureau_333', 'bureau_334', 'bureau_335', 'bureau_336', 'bureau_337', 'bureau_338', 'bureau_339', 'bureau_340', 'bureau_341', 'bureau_343', 'bureau_344', 'bureau_345', 'bureau_346', 'bureau_347', 'bureau_348', 'bureau_349', 'bureau_350', 'bureau_351', 'bureau_353', 'bureau_354', 'bureau_355', 'bureau_356', 'bureau_357', 'bureau_358', 'bureau_359', 'bureau_360', 'bureau_361', 'bureau_363', 'bureau_364', 'bureau_365', 'bureau_366', 'bureau_367', 'bureau_368', 'bureau_369', 'bureau_370', 'bureau_371', 'bureau_373', 'bureau_374', 'bureau_375', 'bureau_376', 'bureau_377', 'bureau_378', 'bureau_379', 'bureau_380', 'bureau_381', 'bureau_383', 'bureau_384', 'bureau_385', 'bureau_386', 'bureau_387', 'bureau_388', 'onus_attribute_3', 'onus_attribute_4', 'onus_attribute_26', 'onus_attribute_27', 'onus_attribute_29', 'onus_attribute_30', 'onus_attribute_31', 'onus_attribute_32', 'onus_attribute_33', 'onus_attribute_34', 'onus_attribute_35', 'onus_attribute_36', 'onus_attribute_37', 'onus_attribute_38', 'onus_attribute_39', 'onus_attribute_40', 'onus_attribute_41', 'onus_attribute_42', 'bureau_enquiry_8', 'bureau_enquiry_9', 'bureau_enquiry_10', 'bureau_enquiry_18', 'bureau_enquiry_19', 'bureau_enquiry_24', 'bureau_enquiry_28', 'bureau_enquiry_29', 'bureau_enquiry_34', 'bureau_enquiry_38', 'bureau_enquiry_39', 'bureau_enquiry_49']\n"
          ]
        }
      ]
    },
    {
      "cell_type": "code",
      "source": [
        "len(categorical_columns)"
      ],
      "metadata": {
        "id": "iGVmHs04lRsJ",
        "colab": {
          "base_uri": "https://localhost:8080/"
        },
        "outputId": "0dfc14e4-e821-4374-ef9c-6f9426973e61"
      },
      "execution_count": null,
      "outputs": [
        {
          "output_type": "execute_result",
          "data": {
            "text/plain": [
              "271"
            ]
          },
          "metadata": {},
          "execution_count": 37
        }
      ]
    },
    {
      "cell_type": "code",
      "source": [
        "columns_with_binary_value.shape"
      ],
      "metadata": {
        "colab": {
          "base_uri": "https://localhost:8080/"
        },
        "id": "8Zf8hEYkcysm",
        "outputId": "65ebf197-12f2-43c9-8c78-653fb8ab0d01"
      },
      "execution_count": null,
      "outputs": [
        {
          "output_type": "execute_result",
          "data": {
            "text/plain": [
              "(230,)"
            ]
          },
          "metadata": {},
          "execution_count": 38
        }
      ]
    },
    {
      "source": [
        "\n",
        "\n",
        "def get_categorical_cols_df(df, range_threshold):\n",
        "    categorical_data = []\n",
        "    for col in df.columns:\n",
        "        nunique = df[col].nunique()\n",
        "        max_val = df[col].max()\n",
        "\n",
        "        if nunique == max_val + 1 and nunique <= range_threshold:\n",
        "            categorical_data.append([col, nunique])  # Append column name and nunique\n",
        "\n",
        "    # Create DataFrame\n",
        "    categorical_df = pd.DataFrame(categorical_data, columns=['Categorical Column', 'Nunique'])\n",
        "\n",
        "    return categorical_df\n",
        "\n",
        "# Example usage:\n",
        "categorical_df = get_categorical_cols_df(df, range_threshold=25)\n",
        "print(categorical_df)"
      ],
      "cell_type": "code",
      "metadata": {
        "colab": {
          "base_uri": "https://localhost:8080/"
        },
        "id": "kWXX59apd3Ei",
        "outputId": "e8df86ae-01db-48e0-ef61-5dd0996df0b5"
      },
      "execution_count": null,
      "outputs": [
        {
          "output_type": "stream",
          "name": "stdout",
          "text": [
            "            Categorical Column  Nunique\n",
            "0                     bad_flag        2\n",
            "1     transaction_attribute_80        2\n",
            "2    transaction_attribute_144        2\n",
            "3    transaction_attribute_183        2\n",
            "4    transaction_attribute_314        5\n",
            "..                         ...      ...\n",
            "266          bureau_enquiry_29        9\n",
            "267          bureau_enquiry_34       16\n",
            "268          bureau_enquiry_38       10\n",
            "269          bureau_enquiry_39       13\n",
            "270          bureau_enquiry_49       15\n",
            "\n",
            "[271 rows x 2 columns]\n"
          ]
        }
      ]
    },
    {
      "cell_type": "code",
      "source": [
        "categorical_df['Nunique'].value_counts()"
      ],
      "metadata": {
        "colab": {
          "base_uri": "https://localhost:8080/",
          "height": 617
        },
        "id": "78J_9i2XdYPt",
        "outputId": "ec816ee5-7ba8-482e-c3c3-c22245f4a4a8"
      },
      "execution_count": null,
      "outputs": [
        {
          "output_type": "execute_result",
          "data": {
            "text/plain": [
              "Nunique\n",
              "2     227\n",
              "7      10\n",
              "4       7\n",
              "3       5\n",
              "9       4\n",
              "5       3\n",
              "6       3\n",
              "16      2\n",
              "8       2\n",
              "13      2\n",
              "14      1\n",
              "22      1\n",
              "20      1\n",
              "12      1\n",
              "10      1\n",
              "15      1\n",
              "Name: count, dtype: int64"
            ],
            "text/html": [
              "<div>\n",
              "<style scoped>\n",
              "    .dataframe tbody tr th:only-of-type {\n",
              "        vertical-align: middle;\n",
              "    }\n",
              "\n",
              "    .dataframe tbody tr th {\n",
              "        vertical-align: top;\n",
              "    }\n",
              "\n",
              "    .dataframe thead th {\n",
              "        text-align: right;\n",
              "    }\n",
              "</style>\n",
              "<table border=\"1\" class=\"dataframe\">\n",
              "  <thead>\n",
              "    <tr style=\"text-align: right;\">\n",
              "      <th></th>\n",
              "      <th>count</th>\n",
              "    </tr>\n",
              "    <tr>\n",
              "      <th>Nunique</th>\n",
              "      <th></th>\n",
              "    </tr>\n",
              "  </thead>\n",
              "  <tbody>\n",
              "    <tr>\n",
              "      <th>2</th>\n",
              "      <td>227</td>\n",
              "    </tr>\n",
              "    <tr>\n",
              "      <th>7</th>\n",
              "      <td>10</td>\n",
              "    </tr>\n",
              "    <tr>\n",
              "      <th>4</th>\n",
              "      <td>7</td>\n",
              "    </tr>\n",
              "    <tr>\n",
              "      <th>3</th>\n",
              "      <td>5</td>\n",
              "    </tr>\n",
              "    <tr>\n",
              "      <th>9</th>\n",
              "      <td>4</td>\n",
              "    </tr>\n",
              "    <tr>\n",
              "      <th>5</th>\n",
              "      <td>3</td>\n",
              "    </tr>\n",
              "    <tr>\n",
              "      <th>6</th>\n",
              "      <td>3</td>\n",
              "    </tr>\n",
              "    <tr>\n",
              "      <th>16</th>\n",
              "      <td>2</td>\n",
              "    </tr>\n",
              "    <tr>\n",
              "      <th>8</th>\n",
              "      <td>2</td>\n",
              "    </tr>\n",
              "    <tr>\n",
              "      <th>13</th>\n",
              "      <td>2</td>\n",
              "    </tr>\n",
              "    <tr>\n",
              "      <th>14</th>\n",
              "      <td>1</td>\n",
              "    </tr>\n",
              "    <tr>\n",
              "      <th>22</th>\n",
              "      <td>1</td>\n",
              "    </tr>\n",
              "    <tr>\n",
              "      <th>20</th>\n",
              "      <td>1</td>\n",
              "    </tr>\n",
              "    <tr>\n",
              "      <th>12</th>\n",
              "      <td>1</td>\n",
              "    </tr>\n",
              "    <tr>\n",
              "      <th>10</th>\n",
              "      <td>1</td>\n",
              "    </tr>\n",
              "    <tr>\n",
              "      <th>15</th>\n",
              "      <td>1</td>\n",
              "    </tr>\n",
              "  </tbody>\n",
              "</table>\n",
              "</div><br><label><b>dtype:</b> int64</label>"
            ]
          },
          "metadata": {},
          "execution_count": 40
        }
      ]
    },
    {
      "cell_type": "markdown",
      "source": [
        "## Imputing Null Values"
      ],
      "metadata": {
        "id": "dNJOHXUk10rP"
      }
    },
    {
      "source": [
        "for column in df.columns:\n",
        "    if column in categorical_columns:\n",
        "        df[column] = df[column].fillna(df[column].mode()[0])\n",
        "    else:\n",
        "        df[column] = df[column].fillna(df[column].median())"
      ],
      "cell_type": "code",
      "metadata": {
        "id": "xoKwuqEfmXsw"
      },
      "execution_count": null,
      "outputs": []
    },
    {
      "cell_type": "code",
      "source": [
        "df.head()"
      ],
      "metadata": {
        "colab": {
          "base_uri": "https://localhost:8080/",
          "height": 255
        },
        "id": "upLp_d21n9XJ",
        "outputId": "ca6e1d3b-0dc6-4ce8-e4c2-3f4eeb6bb755"
      },
      "execution_count": null,
      "outputs": [
        {
          "output_type": "execute_result",
          "data": {
            "text/plain": [
              "   account_number  bad_flag  onus_attribute_1  transaction_attribute_1  \\\n",
              "0               1         0          100000.0                      0.0   \n",
              "1               2         0          221000.0                      0.0   \n",
              "2               3         0           25000.0                      0.0   \n",
              "3               4         0           86000.0                      0.0   \n",
              "4               5         0          215000.0                      0.0   \n",
              "\n",
              "   transaction_attribute_2  transaction_attribute_3  transaction_attribute_4  \\\n",
              "0                      0.0                      0.0                      0.0   \n",
              "1                      0.0                      0.0                      0.0   \n",
              "2                      0.0                      0.0                      0.0   \n",
              "3                      0.0                      0.0                      0.0   \n",
              "4                      0.0                      0.0                      0.0   \n",
              "\n",
              "   transaction_attribute_5  transaction_attribute_6  transaction_attribute_7  \\\n",
              "0                      0.0                      0.0                      0.0   \n",
              "1                      0.0                      0.0                      0.0   \n",
              "2                      0.0                      0.0                      0.0   \n",
              "3                      0.0                      0.0                      0.0   \n",
              "4                      0.0                      0.0                      0.0   \n",
              "\n",
              "   ...  bureau_enquiry_40  bureau_enquiry_41  bureau_enquiry_42  \\\n",
              "0  ...                1.0                3.0                0.0   \n",
              "1  ...                2.0                6.0                2.0   \n",
              "2  ...                8.0               11.0                0.0   \n",
              "3  ...               21.0               38.0                0.0   \n",
              "4  ...                1.0                1.0                0.0   \n",
              "\n",
              "   bureau_enquiry_43  bureau_enquiry_44  bureau_enquiry_45  bureau_enquiry_46  \\\n",
              "0                3.0                0.0                0.0                0.0   \n",
              "1                4.0                0.0                1.0                0.0   \n",
              "2               11.0                0.0                2.0                0.0   \n",
              "3               38.0                0.0                6.0                0.0   \n",
              "4                1.0                0.0                0.0                0.0   \n",
              "\n",
              "   bureau_enquiry_48  bureau_enquiry_49  bureau_enquiry_50  \n",
              "0                0.0                0.0                1.0  \n",
              "1                0.0                2.0                3.0  \n",
              "2                0.0                0.0                8.0  \n",
              "3                0.0                0.0               30.0  \n",
              "4                0.0                0.0                1.0  \n",
              "\n",
              "[5 rows x 1137 columns]"
            ],
            "text/html": [
              "\n",
              "  <div id=\"df-9baef95d-d179-4cff-b721-ceb6876b5ae8\" class=\"colab-df-container\">\n",
              "    <div>\n",
              "<style scoped>\n",
              "    .dataframe tbody tr th:only-of-type {\n",
              "        vertical-align: middle;\n",
              "    }\n",
              "\n",
              "    .dataframe tbody tr th {\n",
              "        vertical-align: top;\n",
              "    }\n",
              "\n",
              "    .dataframe thead th {\n",
              "        text-align: right;\n",
              "    }\n",
              "</style>\n",
              "<table border=\"1\" class=\"dataframe\">\n",
              "  <thead>\n",
              "    <tr style=\"text-align: right;\">\n",
              "      <th></th>\n",
              "      <th>account_number</th>\n",
              "      <th>bad_flag</th>\n",
              "      <th>onus_attribute_1</th>\n",
              "      <th>transaction_attribute_1</th>\n",
              "      <th>transaction_attribute_2</th>\n",
              "      <th>transaction_attribute_3</th>\n",
              "      <th>transaction_attribute_4</th>\n",
              "      <th>transaction_attribute_5</th>\n",
              "      <th>transaction_attribute_6</th>\n",
              "      <th>transaction_attribute_7</th>\n",
              "      <th>...</th>\n",
              "      <th>bureau_enquiry_40</th>\n",
              "      <th>bureau_enquiry_41</th>\n",
              "      <th>bureau_enquiry_42</th>\n",
              "      <th>bureau_enquiry_43</th>\n",
              "      <th>bureau_enquiry_44</th>\n",
              "      <th>bureau_enquiry_45</th>\n",
              "      <th>bureau_enquiry_46</th>\n",
              "      <th>bureau_enquiry_48</th>\n",
              "      <th>bureau_enquiry_49</th>\n",
              "      <th>bureau_enquiry_50</th>\n",
              "    </tr>\n",
              "  </thead>\n",
              "  <tbody>\n",
              "    <tr>\n",
              "      <th>0</th>\n",
              "      <td>1</td>\n",
              "      <td>0</td>\n",
              "      <td>100000.0</td>\n",
              "      <td>0.0</td>\n",
              "      <td>0.0</td>\n",
              "      <td>0.0</td>\n",
              "      <td>0.0</td>\n",
              "      <td>0.0</td>\n",
              "      <td>0.0</td>\n",
              "      <td>0.0</td>\n",
              "      <td>...</td>\n",
              "      <td>1.0</td>\n",
              "      <td>3.0</td>\n",
              "      <td>0.0</td>\n",
              "      <td>3.0</td>\n",
              "      <td>0.0</td>\n",
              "      <td>0.0</td>\n",
              "      <td>0.0</td>\n",
              "      <td>0.0</td>\n",
              "      <td>0.0</td>\n",
              "      <td>1.0</td>\n",
              "    </tr>\n",
              "    <tr>\n",
              "      <th>1</th>\n",
              "      <td>2</td>\n",
              "      <td>0</td>\n",
              "      <td>221000.0</td>\n",
              "      <td>0.0</td>\n",
              "      <td>0.0</td>\n",
              "      <td>0.0</td>\n",
              "      <td>0.0</td>\n",
              "      <td>0.0</td>\n",
              "      <td>0.0</td>\n",
              "      <td>0.0</td>\n",
              "      <td>...</td>\n",
              "      <td>2.0</td>\n",
              "      <td>6.0</td>\n",
              "      <td>2.0</td>\n",
              "      <td>4.0</td>\n",
              "      <td>0.0</td>\n",
              "      <td>1.0</td>\n",
              "      <td>0.0</td>\n",
              "      <td>0.0</td>\n",
              "      <td>2.0</td>\n",
              "      <td>3.0</td>\n",
              "    </tr>\n",
              "    <tr>\n",
              "      <th>2</th>\n",
              "      <td>3</td>\n",
              "      <td>0</td>\n",
              "      <td>25000.0</td>\n",
              "      <td>0.0</td>\n",
              "      <td>0.0</td>\n",
              "      <td>0.0</td>\n",
              "      <td>0.0</td>\n",
              "      <td>0.0</td>\n",
              "      <td>0.0</td>\n",
              "      <td>0.0</td>\n",
              "      <td>...</td>\n",
              "      <td>8.0</td>\n",
              "      <td>11.0</td>\n",
              "      <td>0.0</td>\n",
              "      <td>11.0</td>\n",
              "      <td>0.0</td>\n",
              "      <td>2.0</td>\n",
              "      <td>0.0</td>\n",
              "      <td>0.0</td>\n",
              "      <td>0.0</td>\n",
              "      <td>8.0</td>\n",
              "    </tr>\n",
              "    <tr>\n",
              "      <th>3</th>\n",
              "      <td>4</td>\n",
              "      <td>0</td>\n",
              "      <td>86000.0</td>\n",
              "      <td>0.0</td>\n",
              "      <td>0.0</td>\n",
              "      <td>0.0</td>\n",
              "      <td>0.0</td>\n",
              "      <td>0.0</td>\n",
              "      <td>0.0</td>\n",
              "      <td>0.0</td>\n",
              "      <td>...</td>\n",
              "      <td>21.0</td>\n",
              "      <td>38.0</td>\n",
              "      <td>0.0</td>\n",
              "      <td>38.0</td>\n",
              "      <td>0.0</td>\n",
              "      <td>6.0</td>\n",
              "      <td>0.0</td>\n",
              "      <td>0.0</td>\n",
              "      <td>0.0</td>\n",
              "      <td>30.0</td>\n",
              "    </tr>\n",
              "    <tr>\n",
              "      <th>4</th>\n",
              "      <td>5</td>\n",
              "      <td>0</td>\n",
              "      <td>215000.0</td>\n",
              "      <td>0.0</td>\n",
              "      <td>0.0</td>\n",
              "      <td>0.0</td>\n",
              "      <td>0.0</td>\n",
              "      <td>0.0</td>\n",
              "      <td>0.0</td>\n",
              "      <td>0.0</td>\n",
              "      <td>...</td>\n",
              "      <td>1.0</td>\n",
              "      <td>1.0</td>\n",
              "      <td>0.0</td>\n",
              "      <td>1.0</td>\n",
              "      <td>0.0</td>\n",
              "      <td>0.0</td>\n",
              "      <td>0.0</td>\n",
              "      <td>0.0</td>\n",
              "      <td>0.0</td>\n",
              "      <td>1.0</td>\n",
              "    </tr>\n",
              "  </tbody>\n",
              "</table>\n",
              "<p>5 rows × 1137 columns</p>\n",
              "</div>\n",
              "    <div class=\"colab-df-buttons\">\n",
              "\n",
              "  <div class=\"colab-df-container\">\n",
              "    <button class=\"colab-df-convert\" onclick=\"convertToInteractive('df-9baef95d-d179-4cff-b721-ceb6876b5ae8')\"\n",
              "            title=\"Convert this dataframe to an interactive table.\"\n",
              "            style=\"display:none;\">\n",
              "\n",
              "  <svg xmlns=\"http://www.w3.org/2000/svg\" height=\"24px\" viewBox=\"0 -960 960 960\">\n",
              "    <path d=\"M120-120v-720h720v720H120Zm60-500h600v-160H180v160Zm220 220h160v-160H400v160Zm0 220h160v-160H400v160ZM180-400h160v-160H180v160Zm440 0h160v-160H620v160ZM180-180h160v-160H180v160Zm440 0h160v-160H620v160Z\"/>\n",
              "  </svg>\n",
              "    </button>\n",
              "\n",
              "  <style>\n",
              "    .colab-df-container {\n",
              "      display:flex;\n",
              "      gap: 12px;\n",
              "    }\n",
              "\n",
              "    .colab-df-convert {\n",
              "      background-color: #E8F0FE;\n",
              "      border: none;\n",
              "      border-radius: 50%;\n",
              "      cursor: pointer;\n",
              "      display: none;\n",
              "      fill: #1967D2;\n",
              "      height: 32px;\n",
              "      padding: 0 0 0 0;\n",
              "      width: 32px;\n",
              "    }\n",
              "\n",
              "    .colab-df-convert:hover {\n",
              "      background-color: #E2EBFA;\n",
              "      box-shadow: 0px 1px 2px rgba(60, 64, 67, 0.3), 0px 1px 3px 1px rgba(60, 64, 67, 0.15);\n",
              "      fill: #174EA6;\n",
              "    }\n",
              "\n",
              "    .colab-df-buttons div {\n",
              "      margin-bottom: 4px;\n",
              "    }\n",
              "\n",
              "    [theme=dark] .colab-df-convert {\n",
              "      background-color: #3B4455;\n",
              "      fill: #D2E3FC;\n",
              "    }\n",
              "\n",
              "    [theme=dark] .colab-df-convert:hover {\n",
              "      background-color: #434B5C;\n",
              "      box-shadow: 0px 1px 3px 1px rgba(0, 0, 0, 0.15);\n",
              "      filter: drop-shadow(0px 1px 2px rgba(0, 0, 0, 0.3));\n",
              "      fill: #FFFFFF;\n",
              "    }\n",
              "  </style>\n",
              "\n",
              "    <script>\n",
              "      const buttonEl =\n",
              "        document.querySelector('#df-9baef95d-d179-4cff-b721-ceb6876b5ae8 button.colab-df-convert');\n",
              "      buttonEl.style.display =\n",
              "        google.colab.kernel.accessAllowed ? 'block' : 'none';\n",
              "\n",
              "      async function convertToInteractive(key) {\n",
              "        const element = document.querySelector('#df-9baef95d-d179-4cff-b721-ceb6876b5ae8');\n",
              "        const dataTable =\n",
              "          await google.colab.kernel.invokeFunction('convertToInteractive',\n",
              "                                                    [key], {});\n",
              "        if (!dataTable) return;\n",
              "\n",
              "        const docLinkHtml = 'Like what you see? Visit the ' +\n",
              "          '<a target=\"_blank\" href=https://colab.research.google.com/notebooks/data_table.ipynb>data table notebook</a>'\n",
              "          + ' to learn more about interactive tables.';\n",
              "        element.innerHTML = '';\n",
              "        dataTable['output_type'] = 'display_data';\n",
              "        await google.colab.output.renderOutput(dataTable, element);\n",
              "        const docLink = document.createElement('div');\n",
              "        docLink.innerHTML = docLinkHtml;\n",
              "        element.appendChild(docLink);\n",
              "      }\n",
              "    </script>\n",
              "  </div>\n",
              "\n",
              "\n",
              "<div id=\"df-169e83e5-6e56-4f9f-801e-5f70b3c6e1da\">\n",
              "  <button class=\"colab-df-quickchart\" onclick=\"quickchart('df-169e83e5-6e56-4f9f-801e-5f70b3c6e1da')\"\n",
              "            title=\"Suggest charts\"\n",
              "            style=\"display:none;\">\n",
              "\n",
              "<svg xmlns=\"http://www.w3.org/2000/svg\" height=\"24px\"viewBox=\"0 0 24 24\"\n",
              "     width=\"24px\">\n",
              "    <g>\n",
              "        <path d=\"M19 3H5c-1.1 0-2 .9-2 2v14c0 1.1.9 2 2 2h14c1.1 0 2-.9 2-2V5c0-1.1-.9-2-2-2zM9 17H7v-7h2v7zm4 0h-2V7h2v10zm4 0h-2v-4h2v4z\"/>\n",
              "    </g>\n",
              "</svg>\n",
              "  </button>\n",
              "\n",
              "<style>\n",
              "  .colab-df-quickchart {\n",
              "      --bg-color: #E8F0FE;\n",
              "      --fill-color: #1967D2;\n",
              "      --hover-bg-color: #E2EBFA;\n",
              "      --hover-fill-color: #174EA6;\n",
              "      --disabled-fill-color: #AAA;\n",
              "      --disabled-bg-color: #DDD;\n",
              "  }\n",
              "\n",
              "  [theme=dark] .colab-df-quickchart {\n",
              "      --bg-color: #3B4455;\n",
              "      --fill-color: #D2E3FC;\n",
              "      --hover-bg-color: #434B5C;\n",
              "      --hover-fill-color: #FFFFFF;\n",
              "      --disabled-bg-color: #3B4455;\n",
              "      --disabled-fill-color: #666;\n",
              "  }\n",
              "\n",
              "  .colab-df-quickchart {\n",
              "    background-color: var(--bg-color);\n",
              "    border: none;\n",
              "    border-radius: 50%;\n",
              "    cursor: pointer;\n",
              "    display: none;\n",
              "    fill: var(--fill-color);\n",
              "    height: 32px;\n",
              "    padding: 0;\n",
              "    width: 32px;\n",
              "  }\n",
              "\n",
              "  .colab-df-quickchart:hover {\n",
              "    background-color: var(--hover-bg-color);\n",
              "    box-shadow: 0 1px 2px rgba(60, 64, 67, 0.3), 0 1px 3px 1px rgba(60, 64, 67, 0.15);\n",
              "    fill: var(--button-hover-fill-color);\n",
              "  }\n",
              "\n",
              "  .colab-df-quickchart-complete:disabled,\n",
              "  .colab-df-quickchart-complete:disabled:hover {\n",
              "    background-color: var(--disabled-bg-color);\n",
              "    fill: var(--disabled-fill-color);\n",
              "    box-shadow: none;\n",
              "  }\n",
              "\n",
              "  .colab-df-spinner {\n",
              "    border: 2px solid var(--fill-color);\n",
              "    border-color: transparent;\n",
              "    border-bottom-color: var(--fill-color);\n",
              "    animation:\n",
              "      spin 1s steps(1) infinite;\n",
              "  }\n",
              "\n",
              "  @keyframes spin {\n",
              "    0% {\n",
              "      border-color: transparent;\n",
              "      border-bottom-color: var(--fill-color);\n",
              "      border-left-color: var(--fill-color);\n",
              "    }\n",
              "    20% {\n",
              "      border-color: transparent;\n",
              "      border-left-color: var(--fill-color);\n",
              "      border-top-color: var(--fill-color);\n",
              "    }\n",
              "    30% {\n",
              "      border-color: transparent;\n",
              "      border-left-color: var(--fill-color);\n",
              "      border-top-color: var(--fill-color);\n",
              "      border-right-color: var(--fill-color);\n",
              "    }\n",
              "    40% {\n",
              "      border-color: transparent;\n",
              "      border-right-color: var(--fill-color);\n",
              "      border-top-color: var(--fill-color);\n",
              "    }\n",
              "    60% {\n",
              "      border-color: transparent;\n",
              "      border-right-color: var(--fill-color);\n",
              "    }\n",
              "    80% {\n",
              "      border-color: transparent;\n",
              "      border-right-color: var(--fill-color);\n",
              "      border-bottom-color: var(--fill-color);\n",
              "    }\n",
              "    90% {\n",
              "      border-color: transparent;\n",
              "      border-bottom-color: var(--fill-color);\n",
              "    }\n",
              "  }\n",
              "</style>\n",
              "\n",
              "  <script>\n",
              "    async function quickchart(key) {\n",
              "      const quickchartButtonEl =\n",
              "        document.querySelector('#' + key + ' button');\n",
              "      quickchartButtonEl.disabled = true;  // To prevent multiple clicks.\n",
              "      quickchartButtonEl.classList.add('colab-df-spinner');\n",
              "      try {\n",
              "        const charts = await google.colab.kernel.invokeFunction(\n",
              "            'suggestCharts', [key], {});\n",
              "      } catch (error) {\n",
              "        console.error('Error during call to suggestCharts:', error);\n",
              "      }\n",
              "      quickchartButtonEl.classList.remove('colab-df-spinner');\n",
              "      quickchartButtonEl.classList.add('colab-df-quickchart-complete');\n",
              "    }\n",
              "    (() => {\n",
              "      let quickchartButtonEl =\n",
              "        document.querySelector('#df-169e83e5-6e56-4f9f-801e-5f70b3c6e1da button');\n",
              "      quickchartButtonEl.style.display =\n",
              "        google.colab.kernel.accessAllowed ? 'block' : 'none';\n",
              "    })();\n",
              "  </script>\n",
              "</div>\n",
              "\n",
              "    </div>\n",
              "  </div>\n"
            ],
            "application/vnd.google.colaboratory.intrinsic+json": {
              "type": "dataframe",
              "variable_name": "df"
            }
          },
          "metadata": {},
          "execution_count": 42
        }
      ]
    },
    {
      "cell_type": "code",
      "source": [
        "df.shape"
      ],
      "metadata": {
        "colab": {
          "base_uri": "https://localhost:8080/"
        },
        "id": "dWYrjG9fn-_c",
        "outputId": "7382d329-289f-4a89-d809-99881d7474c5"
      },
      "execution_count": null,
      "outputs": [
        {
          "output_type": "execute_result",
          "data": {
            "text/plain": [
              "(96806, 1137)"
            ]
          },
          "metadata": {},
          "execution_count": 43
        }
      ]
    },
    {
      "cell_type": "code",
      "source": [
        "df.isnull().sum().sum()"
      ],
      "metadata": {
        "colab": {
          "base_uri": "https://localhost:8080/"
        },
        "id": "b5wK-1eToBhS",
        "outputId": "5aa8c917-6ec7-4658-ecbc-aa6fb9009920"
      },
      "execution_count": null,
      "outputs": [
        {
          "output_type": "execute_result",
          "data": {
            "text/plain": [
              "0"
            ]
          },
          "metadata": {},
          "execution_count": 44
        }
      ]
    },
    {
      "cell_type": "code",
      "source": [
        "#df.to_csv('cleaned_data.csv', index=False)"
      ],
      "metadata": {
        "id": "1BRaoPV0oNTj"
      },
      "execution_count": null,
      "outputs": []
    },
    {
      "source": [
        "\n",
        "\n",
        "# Get the counts of each category in the 'bad_flag' column\n",
        "bad_flag_counts = df['bad_flag'].value_counts()\n",
        "\n",
        "# Create the pie chart\n",
        "plt.figure(figsize=(6, 6))  # Adjust figure size if needed\n",
        "plt.pie(bad_flag_counts, labels=bad_flag_counts.index, autopct='%1.1f%%', startangle=90)\n",
        "plt.title('Distribution of Bad Flag')\n",
        "plt.show()"
      ],
      "cell_type": "code",
      "metadata": {
        "colab": {
          "base_uri": "https://localhost:8080/",
          "height": 521
        },
        "id": "deCazc14Gbdr",
        "outputId": "750af172-6456-4221-b80d-f3c431f004d4"
      },
      "execution_count": null,
      "outputs": [
        {
          "output_type": "display_data",
          "data": {
            "text/plain": [
              "<Figure size 600x600 with 1 Axes>"
            ],
            "image/png": "[encoded data removed]"
          },
          "metadata": {}
        }
      ]
    },
    {
      "source": [
        "bad_flag_counts = df['bad_flag'].value_counts()\n",
        "print(bad_flag_counts)"
      ],
      "cell_type": "code",
      "metadata": {
        "colab": {
          "base_uri": "https://localhost:8080/"
        },
        "id": "CET7d9N3pTZs",
        "outputId": "3ab08ba7-87f5-4af8-cb2d-33fc094e719a"
      },
      "execution_count": null,
      "outputs": [
        {
          "output_type": "stream",
          "name": "stdout",
          "text": [
            "bad_flag\n",
            "0    95434\n",
            "1     1372\n",
            "Name: count, dtype: int64\n"
          ]
        }
      ]
    },
    {
      "cell_type": "code",
      "source": [
        "df.shape"
      ],
      "metadata": {
        "colab": {
          "base_uri": "https://localhost:8080/"
        },
        "id": "3qeE26JMx78R",
        "outputId": "b6d6feb4-c298-498a-fbc0-a17e8030b184"
      },
      "execution_count": null,
      "outputs": [
        {
          "output_type": "execute_result",
          "data": {
            "text/plain": [
              "(96806, 1137)"
            ]
          },
          "metadata": {},
          "execution_count": 47
        }
      ]
    },
    {
      "cell_type": "code",
      "source": [
        "len(categorical_columns)"
      ],
      "metadata": {
        "colab": {
          "base_uri": "https://localhost:8080/"
        },
        "id": "8G0xT_9ZUbYb",
        "outputId": "4eb7a7a7-b772-4e63-b314-f158a60581a7"
      },
      "execution_count": null,
      "outputs": [
        {
          "output_type": "execute_result",
          "data": {
            "text/plain": [
              "271"
            ]
          },
          "metadata": {},
          "execution_count": 48
        }
      ]
    },
    {
      "source": [
        "# Assuming 'categorical_columns' is your list of categorical columns and 'df' is your DataFrame\n",
        "non_categorical_columns = [col for col in df.columns if col not in categorical_columns]\n",
        "print(non_categorical_columns)"
      ],
      "cell_type": "code",
      "metadata": {
        "colab": {
          "base_uri": "https://localhost:8080/"
        },
        "id": "-7e3r4wanhj4",
        "outputId": "8bf5e8fa-12e5-427f-d758-34f8e5740e88"
      },
      "execution_count": null,
      "outputs": [
        {
          "output_type": "stream",
          "name": "stdout",
          "text": [
            "['account_number', 'onus_attribute_1', 'transaction_attribute_1', 'transaction_attribute_2', 'transaction_attribute_3', 'transaction_attribute_4', 'transaction_attribute_5', 'transaction_attribute_6', 'transaction_attribute_7', 'transaction_attribute_8', 'transaction_attribute_9', 'transaction_attribute_10', 'transaction_attribute_11', 'transaction_attribute_12', 'transaction_attribute_13', 'transaction_attribute_14', 'transaction_attribute_15', 'transaction_attribute_16', 'transaction_attribute_17', 'transaction_attribute_18', 'transaction_attribute_19', 'transaction_attribute_20', 'transaction_attribute_21', 'transaction_attribute_22', 'transaction_attribute_23', 'transaction_attribute_24', 'transaction_attribute_25', 'transaction_attribute_26', 'transaction_attribute_27', 'transaction_attribute_28', 'transaction_attribute_29', 'transaction_attribute_30', 'transaction_attribute_31', 'transaction_attribute_32', 'transaction_attribute_33', 'transaction_attribute_34', 'transaction_attribute_35', 'transaction_attribute_36', 'transaction_attribute_37', 'transaction_attribute_38', 'transaction_attribute_39', 'transaction_attribute_40', 'transaction_attribute_41', 'transaction_attribute_42', 'transaction_attribute_43', 'transaction_attribute_44', 'transaction_attribute_45', 'transaction_attribute_46', 'transaction_attribute_47', 'transaction_attribute_48', 'transaction_attribute_49', 'transaction_attribute_50', 'transaction_attribute_51', 'transaction_attribute_52', 'transaction_attribute_53', 'transaction_attribute_54', 'transaction_attribute_55', 'transaction_attribute_56', 'transaction_attribute_57', 'transaction_attribute_58', 'transaction_attribute_59', 'transaction_attribute_60', 'transaction_attribute_61', 'transaction_attribute_62', 'transaction_attribute_63', 'transaction_attribute_64', 'transaction_attribute_65', 'transaction_attribute_66', 'transaction_attribute_67', 'transaction_attribute_68', 'transaction_attribute_69', 'transaction_attribute_70', 'transaction_attribute_71', 'transaction_attribute_72', 'transaction_attribute_73', 'transaction_attribute_74', 'transaction_attribute_75', 'transaction_attribute_76', 'transaction_attribute_77', 'transaction_attribute_78', 'transaction_attribute_79', 'transaction_attribute_81', 'transaction_attribute_82', 'transaction_attribute_83', 'transaction_attribute_84', 'transaction_attribute_85', 'transaction_attribute_86', 'transaction_attribute_87', 'transaction_attribute_88', 'transaction_attribute_89', 'transaction_attribute_90', 'transaction_attribute_91', 'transaction_attribute_92', 'transaction_attribute_93', 'transaction_attribute_94', 'transaction_attribute_95', 'transaction_attribute_96', 'transaction_attribute_97', 'transaction_attribute_98', 'transaction_attribute_99', 'transaction_attribute_100', 'transaction_attribute_101', 'transaction_attribute_102', 'transaction_attribute_103', 'transaction_attribute_104', 'transaction_attribute_105', 'transaction_attribute_106', 'transaction_attribute_107', 'transaction_attribute_108', 'transaction_attribute_109', 'transaction_attribute_110', 'transaction_attribute_111', 'transaction_attribute_112', 'transaction_attribute_113', 'transaction_attribute_114', 'transaction_attribute_115', 'transaction_attribute_116', 'transaction_attribute_117', 'transaction_attribute_118', 'transaction_attribute_119', 'transaction_attribute_120', 'transaction_attribute_121', 'transaction_attribute_122', 'transaction_attribute_123', 'transaction_attribute_124', 'transaction_attribute_125', 'transaction_attribute_126', 'transaction_attribute_127', 'transaction_attribute_128', 'transaction_attribute_129', 'transaction_attribute_130', 'transaction_attribute_131', 'transaction_attribute_132', 'transaction_attribute_133', 'transaction_attribute_134', 'transaction_attribute_135', 'transaction_attribute_136', 'transaction_attribute_137', 'transaction_attribute_138', 'transaction_attribute_139', 'transaction_attribute_140', 'transaction_attribute_141', 'transaction_attribute_142', 'transaction_attribute_143', 'transaction_attribute_145', 'transaction_attribute_146', 'transaction_attribute_147', 'transaction_attribute_148', 'transaction_attribute_149', 'transaction_attribute_150', 'transaction_attribute_151', 'transaction_attribute_153', 'transaction_attribute_154', 'transaction_attribute_155', 'transaction_attribute_156', 'transaction_attribute_157', 'transaction_attribute_158', 'transaction_attribute_159', 'transaction_attribute_160', 'transaction_attribute_161', 'transaction_attribute_162', 'transaction_attribute_163', 'transaction_attribute_164', 'transaction_attribute_165', 'transaction_attribute_166', 'transaction_attribute_167', 'transaction_attribute_168', 'transaction_attribute_169', 'transaction_attribute_170', 'transaction_attribute_171', 'transaction_attribute_172', 'transaction_attribute_173', 'transaction_attribute_174', 'transaction_attribute_175', 'transaction_attribute_176', 'transaction_attribute_177', 'transaction_attribute_178', 'transaction_attribute_179', 'transaction_attribute_180', 'transaction_attribute_181', 'transaction_attribute_182', 'transaction_attribute_184', 'transaction_attribute_185', 'transaction_attribute_186', 'transaction_attribute_187', 'transaction_attribute_188', 'transaction_attribute_189', 'transaction_attribute_190', 'transaction_attribute_192', 'transaction_attribute_193', 'transaction_attribute_194', 'transaction_attribute_195', 'transaction_attribute_196', 'transaction_attribute_197', 'transaction_attribute_198', 'transaction_attribute_199', 'transaction_attribute_200', 'transaction_attribute_201', 'transaction_attribute_202', 'transaction_attribute_203', 'transaction_attribute_204', 'transaction_attribute_205', 'transaction_attribute_206', 'transaction_attribute_207', 'transaction_attribute_208', 'transaction_attribute_209', 'transaction_attribute_210', 'transaction_attribute_211', 'transaction_attribute_212', 'transaction_attribute_213', 'transaction_attribute_214', 'transaction_attribute_215', 'transaction_attribute_216', 'transaction_attribute_217', 'transaction_attribute_218', 'transaction_attribute_219', 'transaction_attribute_220', 'transaction_attribute_221', 'transaction_attribute_222', 'transaction_attribute_223', 'transaction_attribute_224', 'transaction_attribute_225', 'transaction_attribute_226', 'transaction_attribute_227', 'transaction_attribute_228', 'transaction_attribute_229', 'transaction_attribute_230', 'transaction_attribute_231', 'transaction_attribute_232', 'transaction_attribute_233', 'transaction_attribute_234', 'transaction_attribute_235', 'transaction_attribute_236', 'transaction_attribute_237', 'transaction_attribute_238', 'transaction_attribute_239', 'transaction_attribute_240', 'transaction_attribute_241', 'transaction_attribute_242', 'transaction_attribute_243', 'transaction_attribute_244', 'transaction_attribute_245', 'transaction_attribute_246', 'transaction_attribute_247', 'transaction_attribute_248', 'transaction_attribute_249', 'transaction_attribute_250', 'transaction_attribute_251', 'transaction_attribute_252', 'transaction_attribute_253', 'transaction_attribute_254', 'transaction_attribute_255', 'transaction_attribute_256', 'transaction_attribute_257', 'transaction_attribute_258', 'transaction_attribute_259', 'transaction_attribute_260', 'transaction_attribute_261', 'transaction_attribute_262', 'transaction_attribute_263', 'transaction_attribute_264', 'transaction_attribute_265', 'transaction_attribute_266', 'transaction_attribute_267', 'transaction_attribute_268', 'transaction_attribute_269', 'transaction_attribute_270', 'transaction_attribute_271', 'transaction_attribute_272', 'transaction_attribute_273', 'transaction_attribute_274', 'transaction_attribute_275', 'transaction_attribute_276', 'transaction_attribute_277', 'transaction_attribute_278', 'transaction_attribute_279', 'transaction_attribute_280', 'transaction_attribute_281', 'transaction_attribute_282', 'transaction_attribute_283', 'transaction_attribute_284', 'transaction_attribute_285', 'transaction_attribute_286', 'transaction_attribute_287', 'transaction_attribute_288', 'transaction_attribute_289', 'transaction_attribute_290', 'transaction_attribute_291', 'transaction_attribute_292', 'transaction_attribute_293', 'transaction_attribute_294', 'transaction_attribute_295', 'transaction_attribute_296', 'transaction_attribute_297', 'transaction_attribute_298', 'transaction_attribute_299', 'transaction_attribute_300', 'transaction_attribute_301', 'transaction_attribute_302', 'transaction_attribute_303', 'transaction_attribute_304', 'transaction_attribute_305', 'transaction_attribute_306', 'transaction_attribute_307', 'transaction_attribute_308', 'transaction_attribute_309', 'transaction_attribute_310', 'transaction_attribute_311', 'transaction_attribute_312', 'transaction_attribute_313', 'transaction_attribute_315', 'transaction_attribute_316', 'transaction_attribute_317', 'transaction_attribute_318', 'transaction_attribute_319', 'transaction_attribute_320', 'transaction_attribute_321', 'transaction_attribute_322', 'transaction_attribute_323', 'transaction_attribute_324', 'transaction_attribute_325', 'transaction_attribute_326', 'transaction_attribute_327', 'transaction_attribute_328', 'transaction_attribute_329', 'transaction_attribute_330', 'transaction_attribute_331', 'transaction_attribute_332', 'transaction_attribute_333', 'transaction_attribute_334', 'transaction_attribute_335', 'transaction_attribute_336', 'transaction_attribute_337', 'transaction_attribute_338', 'transaction_attribute_339', 'transaction_attribute_340', 'transaction_attribute_341', 'transaction_attribute_342', 'transaction_attribute_343', 'transaction_attribute_344', 'transaction_attribute_345', 'transaction_attribute_346', 'transaction_attribute_347', 'transaction_attribute_348', 'transaction_attribute_349', 'transaction_attribute_350', 'transaction_attribute_351', 'transaction_attribute_352', 'transaction_attribute_353', 'transaction_attribute_354', 'transaction_attribute_355', 'transaction_attribute_356', 'transaction_attribute_357', 'transaction_attribute_358', 'transaction_attribute_359', 'transaction_attribute_360', 'transaction_attribute_361', 'transaction_attribute_362', 'transaction_attribute_363', 'transaction_attribute_364', 'transaction_attribute_365', 'transaction_attribute_366', 'transaction_attribute_367', 'transaction_attribute_368', 'transaction_attribute_369', 'transaction_attribute_370', 'transaction_attribute_371', 'transaction_attribute_372', 'transaction_attribute_373', 'transaction_attribute_374', 'transaction_attribute_375', 'transaction_attribute_376', 'transaction_attribute_377', 'transaction_attribute_378', 'transaction_attribute_379', 'transaction_attribute_380', 'transaction_attribute_381', 'transaction_attribute_382', 'transaction_attribute_383', 'transaction_attribute_384', 'transaction_attribute_385', 'transaction_attribute_386', 'transaction_attribute_387', 'transaction_attribute_388', 'transaction_attribute_389', 'transaction_attribute_390', 'transaction_attribute_391', 'transaction_attribute_392', 'transaction_attribute_393', 'transaction_attribute_394', 'transaction_attribute_395', 'transaction_attribute_396', 'transaction_attribute_397', 'transaction_attribute_398', 'transaction_attribute_399', 'transaction_attribute_400', 'transaction_attribute_401', 'transaction_attribute_402', 'transaction_attribute_403', 'transaction_attribute_404', 'transaction_attribute_405', 'transaction_attribute_406', 'transaction_attribute_407', 'transaction_attribute_408', 'transaction_attribute_409', 'transaction_attribute_410', 'transaction_attribute_411', 'transaction_attribute_412', 'transaction_attribute_413', 'transaction_attribute_414', 'transaction_attribute_415', 'transaction_attribute_416', 'transaction_attribute_417', 'transaction_attribute_418', 'transaction_attribute_419', 'transaction_attribute_420', 'transaction_attribute_421', 'transaction_attribute_422', 'transaction_attribute_423', 'transaction_attribute_424', 'transaction_attribute_425', 'transaction_attribute_426', 'transaction_attribute_427', 'transaction_attribute_428', 'transaction_attribute_429', 'transaction_attribute_430', 'transaction_attribute_431', 'transaction_attribute_432', 'transaction_attribute_433', 'transaction_attribute_434', 'transaction_attribute_435', 'transaction_attribute_436', 'transaction_attribute_437', 'transaction_attribute_438', 'transaction_attribute_439', 'transaction_attribute_440', 'transaction_attribute_441', 'transaction_attribute_442', 'transaction_attribute_443', 'transaction_attribute_444', 'transaction_attribute_445', 'transaction_attribute_446', 'transaction_attribute_447', 'transaction_attribute_448', 'transaction_attribute_449', 'transaction_attribute_450', 'transaction_attribute_451', 'transaction_attribute_452', 'transaction_attribute_453', 'transaction_attribute_454', 'transaction_attribute_455', 'transaction_attribute_456', 'transaction_attribute_457', 'transaction_attribute_458', 'transaction_attribute_459', 'transaction_attribute_460', 'transaction_attribute_461', 'transaction_attribute_462', 'transaction_attribute_463', 'transaction_attribute_464', 'transaction_attribute_465', 'transaction_attribute_466', 'transaction_attribute_467', 'transaction_attribute_468', 'transaction_attribute_469', 'transaction_attribute_470', 'transaction_attribute_471', 'transaction_attribute_472', 'transaction_attribute_473', 'transaction_attribute_474', 'transaction_attribute_475', 'transaction_attribute_476', 'transaction_attribute_477', 'transaction_attribute_478', 'transaction_attribute_479', 'transaction_attribute_480', 'transaction_attribute_481', 'transaction_attribute_482', 'transaction_attribute_483', 'transaction_attribute_484', 'transaction_attribute_485', 'transaction_attribute_486', 'transaction_attribute_487', 'transaction_attribute_488', 'transaction_attribute_489', 'transaction_attribute_490', 'transaction_attribute_491', 'transaction_attribute_492', 'transaction_attribute_493', 'transaction_attribute_494', 'transaction_attribute_495', 'transaction_attribute_496', 'transaction_attribute_497', 'transaction_attribute_498', 'transaction_attribute_499', 'transaction_attribute_500', 'transaction_attribute_501', 'transaction_attribute_502', 'transaction_attribute_503', 'transaction_attribute_504', 'transaction_attribute_505', 'transaction_attribute_506', 'transaction_attribute_507', 'transaction_attribute_508', 'transaction_attribute_509', 'transaction_attribute_510', 'transaction_attribute_511', 'transaction_attribute_512', 'transaction_attribute_513', 'transaction_attribute_514', 'transaction_attribute_515', 'transaction_attribute_516', 'transaction_attribute_517', 'transaction_attribute_518', 'transaction_attribute_519', 'transaction_attribute_520', 'transaction_attribute_521', 'transaction_attribute_522', 'transaction_attribute_523', 'transaction_attribute_526', 'transaction_attribute_527', 'transaction_attribute_528', 'transaction_attribute_529', 'transaction_attribute_530', 'transaction_attribute_531', 'transaction_attribute_532', 'transaction_attribute_533', 'transaction_attribute_534', 'transaction_attribute_535', 'transaction_attribute_536', 'transaction_attribute_537', 'transaction_attribute_538', 'transaction_attribute_539', 'transaction_attribute_540', 'transaction_attribute_541', 'transaction_attribute_542', 'transaction_attribute_543', 'transaction_attribute_544', 'transaction_attribute_545', 'transaction_attribute_546', 'transaction_attribute_547', 'transaction_attribute_548', 'transaction_attribute_549', 'transaction_attribute_550', 'transaction_attribute_551', 'transaction_attribute_552', 'transaction_attribute_553', 'transaction_attribute_554', 'transaction_attribute_555', 'transaction_attribute_556', 'transaction_attribute_557', 'transaction_attribute_558', 'transaction_attribute_559', 'transaction_attribute_560', 'transaction_attribute_561', 'transaction_attribute_562', 'transaction_attribute_563', 'transaction_attribute_564', 'transaction_attribute_565', 'transaction_attribute_566', 'transaction_attribute_567', 'transaction_attribute_568', 'transaction_attribute_569', 'transaction_attribute_570', 'transaction_attribute_571', 'transaction_attribute_572', 'transaction_attribute_573', 'transaction_attribute_574', 'transaction_attribute_575', 'transaction_attribute_576', 'transaction_attribute_577', 'transaction_attribute_578', 'transaction_attribute_579', 'transaction_attribute_580', 'transaction_attribute_581', 'transaction_attribute_583', 'transaction_attribute_584', 'transaction_attribute_585', 'transaction_attribute_586', 'transaction_attribute_587', 'transaction_attribute_588', 'transaction_attribute_589', 'transaction_attribute_590', 'transaction_attribute_591', 'transaction_attribute_592', 'transaction_attribute_593', 'transaction_attribute_594', 'transaction_attribute_595', 'transaction_attribute_596', 'transaction_attribute_597', 'transaction_attribute_598', 'transaction_attribute_599', 'transaction_attribute_600', 'transaction_attribute_601', 'transaction_attribute_602', 'transaction_attribute_603', 'transaction_attribute_604', 'transaction_attribute_605', 'transaction_attribute_606', 'transaction_attribute_607', 'transaction_attribute_608', 'transaction_attribute_609', 'transaction_attribute_610', 'transaction_attribute_611', 'transaction_attribute_612', 'transaction_attribute_613', 'transaction_attribute_614', 'transaction_attribute_615', 'transaction_attribute_616', 'transaction_attribute_617', 'transaction_attribute_618', 'transaction_attribute_619', 'transaction_attribute_620', 'transaction_attribute_622', 'transaction_attribute_623', 'transaction_attribute_624', 'transaction_attribute_625', 'transaction_attribute_626', 'transaction_attribute_627', 'transaction_attribute_628', 'transaction_attribute_629', 'transaction_attribute_630', 'transaction_attribute_631', 'transaction_attribute_632', 'transaction_attribute_633', 'transaction_attribute_634', 'transaction_attribute_635', 'transaction_attribute_636', 'transaction_attribute_637', 'transaction_attribute_638', 'transaction_attribute_639', 'transaction_attribute_640', 'transaction_attribute_641', 'transaction_attribute_642', 'transaction_attribute_643', 'transaction_attribute_644', 'transaction_attribute_645', 'transaction_attribute_646', 'transaction_attribute_647', 'transaction_attribute_648', 'transaction_attribute_649', 'transaction_attribute_650', 'transaction_attribute_651', 'transaction_attribute_652', 'transaction_attribute_653', 'transaction_attribute_654', 'transaction_attribute_655', 'transaction_attribute_656', 'transaction_attribute_657', 'transaction_attribute_658', 'transaction_attribute_659', 'transaction_attribute_660', 'transaction_attribute_661', 'transaction_attribute_662', 'transaction_attribute_663', 'transaction_attribute_664', 'bureau_1', 'bureau_2', 'bureau_3', 'bureau_6', 'bureau_7', 'bureau_8', 'bureau_9', 'bureau_10', 'bureau_11', 'bureau_12', 'bureau_13', 'bureau_14', 'bureau_18', 'bureau_19', 'bureau_20', 'bureau_21', 'bureau_22', 'bureau_23', 'bureau_24', 'bureau_28', 'bureau_29', 'bureau_30', 'bureau_31', 'bureau_32', 'bureau_33', 'bureau_34', 'bureau_35', 'bureau_36', 'bureau_37', 'bureau_39', 'bureau_40', 'bureau_41', 'bureau_42', 'bureau_43', 'bureau_44', 'bureau_45', 'bureau_46', 'bureau_48', 'bureau_49', 'bureau_50', 'bureau_51', 'bureau_52', 'bureau_53', 'bureau_54', 'bureau_55', 'bureau_57', 'bureau_58', 'bureau_59', 'bureau_60', 'bureau_61', 'bureau_62', 'bureau_63', 'bureau_64', 'bureau_65', 'bureau_66', 'bureau_68', 'bureau_72', 'bureau_74', 'bureau_75', 'bureau_76', 'bureau_78', 'bureau_82', 'bureau_85', 'bureau_86', 'bureau_88', 'bureau_91', 'bureau_92', 'bureau_94', 'bureau_95', 'bureau_96', 'bureau_98', 'bureau_99', 'bureau_102', 'bureau_103', 'bureau_104', 'bureau_105', 'bureau_106', 'bureau_107', 'bureau_108', 'bureau_109', 'bureau_111', 'bureau_112', 'bureau_114', 'bureau_115', 'bureau_116', 'bureau_117', 'bureau_118', 'bureau_119', 'bureau_121', 'bureau_122', 'bureau_123', 'bureau_124', 'bureau_125', 'bureau_126', 'bureau_127', 'bureau_128', 'bureau_129', 'bureau_130', 'bureau_132', 'bureau_133', 'bureau_134', 'bureau_135', 'bureau_136', 'bureau_137', 'bureau_138', 'bureau_139', 'bureau_140', 'bureau_141', 'bureau_143', 'bureau_144', 'bureau_145', 'bureau_146', 'bureau_389', 'bureau_390', 'bureau_391', 'bureau_393', 'bureau_394', 'bureau_395', 'bureau_396', 'bureau_397', 'bureau_398', 'bureau_399', 'bureau_400', 'bureau_401', 'bureau_403', 'bureau_404', 'bureau_405', 'bureau_406', 'bureau_407', 'bureau_408', 'bureau_409', 'bureau_410', 'bureau_411', 'bureau_413', 'bureau_414', 'bureau_415', 'bureau_416', 'bureau_417', 'bureau_418', 'bureau_419', 'bureau_420', 'bureau_421', 'bureau_422', 'bureau_424', 'bureau_425', 'bureau_426', 'bureau_427', 'bureau_428', 'bureau_429', 'bureau_430', 'bureau_431', 'bureau_432', 'bureau_439', 'bureau_441', 'bureau_442', 'bureau_443', 'bureau_450', 'bureau_452', 'onus_attribute_2', 'onus_attribute_5', 'onus_attribute_8', 'onus_attribute_10', 'onus_attribute_11', 'onus_attribute_12', 'onus_attribute_13', 'onus_attribute_14', 'onus_attribute_15', 'onus_attribute_16', 'onus_attribute_17', 'onus_attribute_18', 'onus_attribute_19', 'onus_attribute_20', 'onus_attribute_21', 'onus_attribute_22', 'onus_attribute_23', 'onus_attribute_24', 'onus_attribute_25', 'bureau_enquiry_1', 'bureau_enquiry_2', 'bureau_enquiry_3', 'bureau_enquiry_4', 'bureau_enquiry_5', 'bureau_enquiry_6', 'bureau_enquiry_11', 'bureau_enquiry_12', 'bureau_enquiry_13', 'bureau_enquiry_14', 'bureau_enquiry_15', 'bureau_enquiry_16', 'bureau_enquiry_20', 'bureau_enquiry_21', 'bureau_enquiry_22', 'bureau_enquiry_23', 'bureau_enquiry_25', 'bureau_enquiry_26', 'bureau_enquiry_30', 'bureau_enquiry_31', 'bureau_enquiry_32', 'bureau_enquiry_33', 'bureau_enquiry_35', 'bureau_enquiry_36', 'bureau_enquiry_40', 'bureau_enquiry_41', 'bureau_enquiry_42', 'bureau_enquiry_43', 'bureau_enquiry_44', 'bureau_enquiry_45', 'bureau_enquiry_46', 'bureau_enquiry_48', 'bureau_enquiry_50']\n"
          ]
        }
      ]
    },
    {
      "cell_type": "code",
      "source": [
        "len(non_categorical_columns)"
      ],
      "metadata": {
        "colab": {
          "base_uri": "https://localhost:8080/"
        },
        "id": "W4aiQ5pvUXuK",
        "outputId": "3b4c9e69-7bf0-43b6-f278-4abb07a96b91"
      },
      "execution_count": null,
      "outputs": [
        {
          "output_type": "execute_result",
          "data": {
            "text/plain": [
              "866"
            ]
          },
          "metadata": {},
          "execution_count": 50
        }
      ]
    },
    {
      "source": [
        "# Remove 'bad_flag' from categorical_columns\n",
        "categorical_columns = [col for col in categorical_columns if col not in ['bad_flag']]\n",
        "# Remove 'acc_no' from non-categorical_columns\n",
        "non_categorical_columns = [col for col in non_categorical_columns if col not in ['account_number']]"
      ],
      "cell_type": "code",
      "metadata": {
        "id": "tbNU1ucAU5II"
      },
      "execution_count": null,
      "outputs": []
    },
    {
      "cell_type": "code",
      "source": [
        "len(categorical_columns)"
      ],
      "metadata": {
        "colab": {
          "base_uri": "https://localhost:8080/"
        },
        "id": "Jh3PF-goUvgc",
        "outputId": "005823c1-6af2-40ac-a7cf-87d4befbba01"
      },
      "execution_count": null,
      "outputs": [
        {
          "output_type": "execute_result",
          "data": {
            "text/plain": [
              "270"
            ]
          },
          "metadata": {},
          "execution_count": 52
        }
      ]
    },
    {
      "cell_type": "code",
      "source": [
        "len(non_categorical_columns)"
      ],
      "metadata": {
        "colab": {
          "base_uri": "https://localhost:8080/"
        },
        "id": "eRv0H4cAUvv4",
        "outputId": "9b4a30ef-1527-4748-8462-0a779ccb1615"
      },
      "execution_count": null,
      "outputs": [
        {
          "output_type": "execute_result",
          "data": {
            "text/plain": [
              "865"
            ]
          },
          "metadata": {},
          "execution_count": 53
        }
      ]
    },
    {
      "cell_type": "code",
      "source": [
        "df.columns"
      ],
      "metadata": {
        "colab": {
          "base_uri": "https://localhost:8080/"
        },
        "id": "U2S7Q7uUZqJ6",
        "outputId": "9ad30bc9-6744-4168-b74b-1032ee836725"
      },
      "execution_count": null,
      "outputs": [
        {
          "output_type": "execute_result",
          "data": {
            "text/plain": [
              "Index(['account_number', 'bad_flag', 'onus_attribute_1',\n",
              "       'transaction_attribute_1', 'transaction_attribute_2',\n",
              "       'transaction_attribute_3', 'transaction_attribute_4',\n",
              "       'transaction_attribute_5', 'transaction_attribute_6',\n",
              "       'transaction_attribute_7',\n",
              "       ...\n",
              "       'bureau_enquiry_40', 'bureau_enquiry_41', 'bureau_enquiry_42',\n",
              "       'bureau_enquiry_43', 'bureau_enquiry_44', 'bureau_enquiry_45',\n",
              "       'bureau_enquiry_46', 'bureau_enquiry_48', 'bureau_enquiry_49',\n",
              "       'bureau_enquiry_50'],\n",
              "      dtype='object', length=1137)"
            ]
          },
          "metadata": {},
          "execution_count": 54
        }
      ]
    },
    {
      "cell_type": "markdown",
      "source": [
        "# Model Training"
      ],
      "metadata": {
        "id": "wUsASh8S16f7"
      }
    },
    {
      "cell_type": "code",
      "source": [
        "\n",
        "X = df.drop(columns=['account_number','bad_flag'])\n",
        "y = df['bad_flag']\n",
        "X_train, X_test, y_train, y_test = train_test_split(X, y, test_size=0.4, stratify=y, random_state=42)\n"
      ],
      "metadata": {
        "id": "Y2DJfwTd1VuM"
      },
      "execution_count": null,
      "outputs": []
    },
    {
      "cell_type": "markdown",
      "source": [
        "## LightGBM\n",
        "\n",
        "\n",
        "\n",
        "\n"
      ],
      "metadata": {
        "id": "x2cMXLzB3sdl"
      }
    },
    {
      "source": [
        "\n",
        "model = lgb.LGBMClassifier(class_weight={0: 1, 1: 15}, random_state=42)\n",
        "model.fit(X_train, y_train)\n",
        "feature_importances = model.feature_importances_\n",
        "importance_df = pd.DataFrame({\n",
        "    'Feature': X_train.columns,\n",
        "    'Importance': feature_importances\n",
        "}).sort_values(by='Importance', ascending=False)\n",
        "y_pred_prob = model.predict_proba(X_test)[:, 1]\n",
        "roc_auc = roc_auc_score(y_test, y_pred_prob)\n",
        "print(f\"ROC AUC: {roc_auc:.4f}\")\n",
        "pr_auc = average_precision_score(y_test, y_pred_prob)\n",
        "print(f\"PR AUC: {pr_auc:.4f}\")\n",
        "y_pred = (y_pred_prob >= 0.5).astype(int)\n",
        "print(\"\\nClassification Report:\")\n",
        "print(classification_report(y_test, y_pred))"
      ],
      "cell_type": "code",
      "metadata": {
        "colab": {
          "base_uri": "https://localhost:8080/"
        },
        "id": "XuhYJlJv8hyD",
        "outputId": "ea478339-cc63-4004-a9df-b013850c5bef"
      },
      "execution_count": null,
      "outputs": [
        {
          "output_type": "stream",
          "name": "stdout",
          "text": [
            "[LightGBM] [Info] Number of positive: 823, number of negative: 57260\n",
            "[LightGBM] [Info] Auto-choosing row-wise multi-threading, the overhead of testing was 0.745780 seconds.\n",
            "You can set `force_row_wise=true` to remove the overhead.\n",
            "And if memory is not enough, you can set `force_col_wise=true`.\n",
            "[LightGBM] [Info] Total Bins 140446\n",
            "[LightGBM] [Info] Number of data points in the train set: 58083, number of used features: 1101\n",
            "[LightGBM] [Info] [binary:BoostFromScore]: pavg=0.177358 -> initscore=-1.534351\n",
            "[LightGBM] [Info] Start training from score -1.534351\n",
            "ROC AUC: 0.8177\n",
            "PR AUC: 0.0740\n",
            "\n",
            "Classification Report:\n",
            "              precision    recall  f1-score   support\n",
            "\n",
            "           0       0.99      0.99      0.99     38174\n",
            "           1       0.13      0.11      0.12       549\n",
            "\n",
            "    accuracy                           0.98     38723\n",
            "   macro avg       0.56      0.55      0.55     38723\n",
            "weighted avg       0.98      0.98      0.98     38723\n",
            "\n"
          ]
        }
      ]
    },
    {
      "cell_type": "code",
      "source": [
        "\n",
        "cm = confusion_matrix(y_test, y_pred)\n",
        "\n",
        "print(\"Confusion Matrix:\")\n",
        "print(cm)"
      ],
      "metadata": {
        "colab": {
          "base_uri": "https://localhost:8080/"
        },
        "id": "7ESXTXwrJ_4m",
        "outputId": "1a6bd2b3-9ca5-4078-df69-a3482f3302c4"
      },
      "execution_count": null,
      "outputs": [
        {
          "output_type": "stream",
          "name": "stdout",
          "text": [
            "Confusion Matrix:\n",
            "[[37788   386]\n",
            " [  490    59]]\n"
          ]
        }
      ]
    },
    {
      "cell_type": "code",
      "source": [
        "importance_df.head(20)"
      ],
      "metadata": {
        "colab": {
          "base_uri": "https://localhost:8080/",
          "height": 676
        },
        "id": "-l6Uusw5Egkz",
        "outputId": "45d11d9b-3d56-4c12-e35b-cb00ae9bfa3e"
      },
      "execution_count": null,
      "outputs": [
        {
          "output_type": "execute_result",
          "data": {
            "text/plain": [
              "                        Feature  Importance\n",
              "1053           onus_attribute_2          66\n",
              "1056           onus_attribute_5          39\n",
              "1052                 bureau_452          35\n",
              "711                   bureau_59          32\n",
              "1040                 bureau_426          30\n",
              "1057           onus_attribute_8          29\n",
              "1051                 bureau_450          28\n",
              "704                   bureau_51          25\n",
              "1030                 bureau_415          23\n",
              "543   transaction_attribute_547          23\n",
              "1065          onus_attribute_17          23\n",
              "718                   bureau_66          23\n",
              "1048                 bureau_441          22\n",
              "705                   bureau_52          22\n",
              "228   transaction_attribute_230          22\n",
              "1043                 bureau_429          22\n",
              "1032                 bureau_417          21\n",
              "1134          bureau_enquiry_50          21\n",
              "1046                 bureau_432          21\n",
              "1047                 bureau_439          21"
            ],
            "text/html": [
              "\n",
              "  <div id=\"df-b029766a-7285-4f94-8603-2d6022c29f2f\" class=\"colab-df-container\">\n",
              "    <div>\n",
              "<style scoped>\n",
              "    .dataframe tbody tr th:only-of-type {\n",
              "        vertical-align: middle;\n",
              "    }\n",
              "\n",
              "    .dataframe tbody tr th {\n",
              "        vertical-align: top;\n",
              "    }\n",
              "\n",
              "    .dataframe thead th {\n",
              "        text-align: right;\n",
              "    }\n",
              "</style>\n",
              "<table border=\"1\" class=\"dataframe\">\n",
              "  <thead>\n",
              "    <tr style=\"text-align: right;\">\n",
              "      <th></th>\n",
              "      <th>Feature</th>\n",
              "      <th>Importance</th>\n",
              "    </tr>\n",
              "  </thead>\n",
              "  <tbody>\n",
              "    <tr>\n",
              "      <th>1053</th>\n",
              "      <td>onus_attribute_2</td>\n",
              "      <td>66</td>\n",
              "    </tr>\n",
              "    <tr>\n",
              "      <th>1056</th>\n",
              "      <td>onus_attribute_5</td>\n",
              "      <td>39</td>\n",
              "    </tr>\n",
              "    <tr>\n",
              "      <th>1052</th>\n",
              "      <td>bureau_452</td>\n",
              "      <td>35</td>\n",
              "    </tr>\n",
              "    <tr>\n",
              "      <th>711</th>\n",
              "      <td>bureau_59</td>\n",
              "      <td>32</td>\n",
              "    </tr>\n",
              "    <tr>\n",
              "      <th>1040</th>\n",
              "      <td>bureau_426</td>\n",
              "      <td>30</td>\n",
              "    </tr>\n",
              "    <tr>\n",
              "      <th>1057</th>\n",
              "      <td>onus_attribute_8</td>\n",
              "      <td>29</td>\n",
              "    </tr>\n",
              "    <tr>\n",
              "      <th>1051</th>\n",
              "      <td>bureau_450</td>\n",
              "      <td>28</td>\n",
              "    </tr>\n",
              "    <tr>\n",
              "      <th>704</th>\n",
              "      <td>bureau_51</td>\n",
              "      <td>25</td>\n",
              "    </tr>\n",
              "    <tr>\n",
              "      <th>1030</th>\n",
              "      <td>bureau_415</td>\n",
              "      <td>23</td>\n",
              "    </tr>\n",
              "    <tr>\n",
              "      <th>543</th>\n",
              "      <td>transaction_attribute_547</td>\n",
              "      <td>23</td>\n",
              "    </tr>\n",
              "    <tr>\n",
              "      <th>1065</th>\n",
              "      <td>onus_attribute_17</td>\n",
              "      <td>23</td>\n",
              "    </tr>\n",
              "    <tr>\n",
              "      <th>718</th>\n",
              "      <td>bureau_66</td>\n",
              "      <td>23</td>\n",
              "    </tr>\n",
              "    <tr>\n",
              "      <th>1048</th>\n",
              "      <td>bureau_441</td>\n",
              "      <td>22</td>\n",
              "    </tr>\n",
              "    <tr>\n",
              "      <th>705</th>\n",
              "      <td>bureau_52</td>\n",
              "      <td>22</td>\n",
              "    </tr>\n",
              "    <tr>\n",
              "      <th>228</th>\n",
              "      <td>transaction_attribute_230</td>\n",
              "      <td>22</td>\n",
              "    </tr>\n",
              "    <tr>\n",
              "      <th>1043</th>\n",
              "      <td>bureau_429</td>\n",
              "      <td>22</td>\n",
              "    </tr>\n",
              "    <tr>\n",
              "      <th>1032</th>\n",
              "      <td>bureau_417</td>\n",
              "      <td>21</td>\n",
              "    </tr>\n",
              "    <tr>\n",
              "      <th>1134</th>\n",
              "      <td>bureau_enquiry_50</td>\n",
              "      <td>21</td>\n",
              "    </tr>\n",
              "    <tr>\n",
              "      <th>1046</th>\n",
              "      <td>bureau_432</td>\n",
              "      <td>21</td>\n",
              "    </tr>\n",
              "    <tr>\n",
              "      <th>1047</th>\n",
              "      <td>bureau_439</td>\n",
              "      <td>21</td>\n",
              "    </tr>\n",
              "  </tbody>\n",
              "</table>\n",
              "</div>\n",
              "    <div class=\"colab-df-buttons\">\n",
              "\n",
              "  <div class=\"colab-df-container\">\n",
              "    <button class=\"colab-df-convert\" onclick=\"convertToInteractive('df-b029766a-7285-4f94-8603-2d6022c29f2f')\"\n",
              "            title=\"Convert this dataframe to an interactive table.\"\n",
              "            style=\"display:none;\">\n",
              "\n",
              "  <svg xmlns=\"http://www.w3.org/2000/svg\" height=\"24px\" viewBox=\"0 -960 960 960\">\n",
              "    <path d=\"M120-120v-720h720v720H120Zm60-500h600v-160H180v160Zm220 220h160v-160H400v160Zm0 220h160v-160H400v160ZM180-400h160v-160H180v160Zm440 0h160v-160H620v160ZM180-180h160v-160H180v160Zm440 0h160v-160H620v160Z\"/>\n",
              "  </svg>\n",
              "    </button>\n",
              "\n",
              "  <style>\n",
              "    .colab-df-container {\n",
              "      display:flex;\n",
              "      gap: 12px;\n",
              "    }\n",
              "\n",
              "    .colab-df-convert {\n",
              "      background-color: #E8F0FE;\n",
              "      border: none;\n",
              "      border-radius: 50%;\n",
              "      cursor: pointer;\n",
              "      display: none;\n",
              "      fill: #1967D2;\n",
              "      height: 32px;\n",
              "      padding: 0 0 0 0;\n",
              "      width: 32px;\n",
              "    }\n",
              "\n",
              "    .colab-df-convert:hover {\n",
              "      background-color: #E2EBFA;\n",
              "      box-shadow: 0px 1px 2px rgba(60, 64, 67, 0.3), 0px 1px 3px 1px rgba(60, 64, 67, 0.15);\n",
              "      fill: #174EA6;\n",
              "    }\n",
              "\n",
              "    .colab-df-buttons div {\n",
              "      margin-bottom: 4px;\n",
              "    }\n",
              "\n",
              "    [theme=dark] .colab-df-convert {\n",
              "      background-color: #3B4455;\n",
              "      fill: #D2E3FC;\n",
              "    }\n",
              "\n",
              "    [theme=dark] .colab-df-convert:hover {\n",
              "      background-color: #434B5C;\n",
              "      box-shadow: 0px 1px 3px 1px rgba(0, 0, 0, 0.15);\n",
              "      filter: drop-shadow(0px 1px 2px rgba(0, 0, 0, 0.3));\n",
              "      fill: #FFFFFF;\n",
              "    }\n",
              "  </style>\n",
              "\n",
              "    <script>\n",
              "      const buttonEl =\n",
              "        document.querySelector('#df-b029766a-7285-4f94-8603-2d6022c29f2f button.colab-df-convert');\n",
              "      buttonEl.style.display =\n",
              "        google.colab.kernel.accessAllowed ? 'block' : 'none';\n",
              "\n",
              "      async function convertToInteractive(key) {\n",
              "        const element = document.querySelector('#df-b029766a-7285-4f94-8603-2d6022c29f2f');\n",
              "        const dataTable =\n",
              "          await google.colab.kernel.invokeFunction('convertToInteractive',\n",
              "                                                    [key], {});\n",
              "        if (!dataTable) return;\n",
              "\n",
              "        const docLinkHtml = 'Like what you see? Visit the ' +\n",
              "          '<a target=\"_blank\" href=https://colab.research.google.com/notebooks/data_table.ipynb>data table notebook</a>'\n",
              "          + ' to learn more about interactive tables.';\n",
              "        element.innerHTML = '';\n",
              "        dataTable['output_type'] = 'display_data';\n",
              "        await google.colab.output.renderOutput(dataTable, element);\n",
              "        const docLink = document.createElement('div');\n",
              "        docLink.innerHTML = docLinkHtml;\n",
              "        element.appendChild(docLink);\n",
              "      }\n",
              "    </script>\n",
              "  </div>\n",
              "\n",
              "\n",
              "<div id=\"df-30734346-6f56-45d5-af25-754332928bd0\">\n",
              "  <button class=\"colab-df-quickchart\" onclick=\"quickchart('df-30734346-6f56-45d5-af25-754332928bd0')\"\n",
              "            title=\"Suggest charts\"\n",
              "            style=\"display:none;\">\n",
              "\n",
              "<svg xmlns=\"http://www.w3.org/2000/svg\" height=\"24px\"viewBox=\"0 0 24 24\"\n",
              "     width=\"24px\">\n",
              "    <g>\n",
              "        <path d=\"M19 3H5c-1.1 0-2 .9-2 2v14c0 1.1.9 2 2 2h14c1.1 0 2-.9 2-2V5c0-1.1-.9-2-2-2zM9 17H7v-7h2v7zm4 0h-2V7h2v10zm4 0h-2v-4h2v4z\"/>\n",
              "    </g>\n",
              "</svg>\n",
              "  </button>\n",
              "\n",
              "<style>\n",
              "  .colab-df-quickchart {\n",
              "      --bg-color: #E8F0FE;\n",
              "      --fill-color: #1967D2;\n",
              "      --hover-bg-color: #E2EBFA;\n",
              "      --hover-fill-color: #174EA6;\n",
              "      --disabled-fill-color: #AAA;\n",
              "      --disabled-bg-color: #DDD;\n",
              "  }\n",
              "\n",
              "  [theme=dark] .colab-df-quickchart {\n",
              "      --bg-color: #3B4455;\n",
              "      --fill-color: #D2E3FC;\n",
              "      --hover-bg-color: #434B5C;\n",
              "      --hover-fill-color: #FFFFFF;\n",
              "      --disabled-bg-color: #3B4455;\n",
              "      --disabled-fill-color: #666;\n",
              "  }\n",
              "\n",
              "  .colab-df-quickchart {\n",
              "    background-color: var(--bg-color);\n",
              "    border: none;\n",
              "    border-radius: 50%;\n",
              "    cursor: pointer;\n",
              "    display: none;\n",
              "    fill: var(--fill-color);\n",
              "    height: 32px;\n",
              "    padding: 0;\n",
              "    width: 32px;\n",
              "  }\n",
              "\n",
              "  .colab-df-quickchart:hover {\n",
              "    background-color: var(--hover-bg-color);\n",
              "    box-shadow: 0 1px 2px rgba(60, 64, 67, 0.3), 0 1px 3px 1px rgba(60, 64, 67, 0.15);\n",
              "    fill: var(--button-hover-fill-color);\n",
              "  }\n",
              "\n",
              "  .colab-df-quickchart-complete:disabled,\n",
              "  .colab-df-quickchart-complete:disabled:hover {\n",
              "    background-color: var(--disabled-bg-color);\n",
              "    fill: var(--disabled-fill-color);\n",
              "    box-shadow: none;\n",
              "  }\n",
              "\n",
              "  .colab-df-spinner {\n",
              "    border: 2px solid var(--fill-color);\n",
              "    border-color: transparent;\n",
              "    border-bottom-color: var(--fill-color);\n",
              "    animation:\n",
              "      spin 1s steps(1) infinite;\n",
              "  }\n",
              "\n",
              "  @keyframes spin {\n",
              "    0% {\n",
              "      border-color: transparent;\n",
              "      border-bottom-color: var(--fill-color);\n",
              "      border-left-color: var(--fill-color);\n",
              "    }\n",
              "    20% {\n",
              "      border-color: transparent;\n",
              "      border-left-color: var(--fill-color);\n",
              "      border-top-color: var(--fill-color);\n",
              "    }\n",
              "    30% {\n",
              "      border-color: transparent;\n",
              "      border-left-color: var(--fill-color);\n",
              "      border-top-color: var(--fill-color);\n",
              "      border-right-color: var(--fill-color);\n",
              "    }\n",
              "    40% {\n",
              "      border-color: transparent;\n",
              "      border-right-color: var(--fill-color);\n",
              "      border-top-color: var(--fill-color);\n",
              "    }\n",
              "    60% {\n",
              "      border-color: transparent;\n",
              "      border-right-color: var(--fill-color);\n",
              "    }\n",
              "    80% {\n",
              "      border-color: transparent;\n",
              "      border-right-color: var(--fill-color);\n",
              "      border-bottom-color: var(--fill-color);\n",
              "    }\n",
              "    90% {\n",
              "      border-color: transparent;\n",
              "      border-bottom-color: var(--fill-color);\n",
              "    }\n",
              "  }\n",
              "</style>\n",
              "\n",
              "  <script>\n",
              "    async function quickchart(key) {\n",
              "      const quickchartButtonEl =\n",
              "        document.querySelector('#' + key + ' button');\n",
              "      quickchartButtonEl.disabled = true;  // To prevent multiple clicks.\n",
              "      quickchartButtonEl.classList.add('colab-df-spinner');\n",
              "      try {\n",
              "        const charts = await google.colab.kernel.invokeFunction(\n",
              "            'suggestCharts', [key], {});\n",
              "      } catch (error) {\n",
              "        console.error('Error during call to suggestCharts:', error);\n",
              "      }\n",
              "      quickchartButtonEl.classList.remove('colab-df-spinner');\n",
              "      quickchartButtonEl.classList.add('colab-df-quickchart-complete');\n",
              "    }\n",
              "    (() => {\n",
              "      let quickchartButtonEl =\n",
              "        document.querySelector('#df-30734346-6f56-45d5-af25-754332928bd0 button');\n",
              "      quickchartButtonEl.style.display =\n",
              "        google.colab.kernel.accessAllowed ? 'block' : 'none';\n",
              "    })();\n",
              "  </script>\n",
              "</div>\n",
              "\n",
              "    </div>\n",
              "  </div>\n"
            ],
            "application/vnd.google.colaboratory.intrinsic+json": {
              "type": "dataframe",
              "variable_name": "importance_df",
              "summary": "{\n  \"name\": \"importance_df\",\n  \"rows\": 1135,\n  \"fields\": [\n    {\n      \"column\": \"Feature\",\n      \"properties\": {\n        \"dtype\": \"string\",\n        \"num_unique_values\": 1135,\n        \"samples\": [\n          \"bureau_373\",\n          \"bureau_23\",\n          \"bureau_7\"\n        ],\n        \"semantic_type\": \"\",\n        \"description\": \"\"\n      }\n    },\n    {\n      \"column\": \"Importance\",\n      \"properties\": {\n        \"dtype\": \"int32\",\n        \"num_unique_values\": 32,\n        \"samples\": [\n          2,\n          16,\n          7\n        ],\n        \"semantic_type\": \"\",\n        \"description\": \"\"\n      }\n    }\n  ]\n}"
            }
          },
          "metadata": {},
          "execution_count": 130
        }
      ]
    },
    {
      "cell_type": "markdown",
      "source": [
        "## Ensemble LightGBM XGBoost CatBoost"
      ],
      "metadata": {
        "id": "IIlC72bS3grI"
      }
    },
    {
      "source": [
        "\n",
        "X_train, X_test, y_train, y_test = train_test_split(X, y, test_size=0.4, stratify=y, random_state=42)\n",
        "\n",
        "# Train LightGBM model\n",
        "lgb_model = lgb.LGBMClassifier(class_weight={0: 1, 1: 15}, random_state=42)\n",
        "lgb_model.fit(X_train, y_train)\n",
        "\n",
        "# Train XGBoost model\n",
        "xgb_model = xgb.XGBClassifier(scale_pos_weight=15, random_state=42)\n",
        "xgb_model.fit(X_train, y_train)\n",
        "\n",
        "# Train CatBoost model\n",
        "catboost_model = CatBoostClassifier(class_weights=[1, 15], random_state=42, verbose=0)\n",
        "catboost_model.fit(X_train, y_train)\n",
        "\n",
        "# --- Ensemble Predictions ---\n",
        "lgb_pred = lgb_model.predict_proba(X_test)[:, 1]\n",
        "xgb_pred = xgb_model.predict_proba(X_test)[:, 1]\n",
        "catboost_pred = catboost_model.predict_proba(X_test)[:, 1]\n",
        "\n",
        "# Simple Averaging Ensemble\n",
        "ensemble_pred = (lgb_pred + xgb_pred + catboost_pred) / 3\n",
        "\n",
        "# --- Evaluation ---\n",
        "roc_auc = roc_auc_score(y_test, ensemble_pred)\n",
        "print(f\"Ensemble ROC AUC: {roc_auc:.4f}\")\n",
        "\n",
        "pr_auc = average_precision_score(y_test, ensemble_pred)\n",
        "print(f\"Ensemble PR AUC: {pr_auc:.4f}\")\n",
        "\n",
        "y_pred = (ensemble_pred >= 0.5).astype(int)  # Convert probabilities to class labels\n",
        "print(\"\\nEnsemble Classification Report:\")\n",
        "print(classification_report(y_test, y_pred))"
      ],
      "cell_type": "code",
      "metadata": {
        "colab": {
          "base_uri": "https://localhost:8080/"
        },
        "id": "M2so3PP8KUzZ",
        "outputId": "066d8783-8897-4d4b-c0e3-52a7bbdcd4db"
      },
      "execution_count": null,
      "outputs": [
        {
          "output_type": "stream",
          "name": "stdout",
          "text": [
            "[LightGBM] [Info] Number of positive: 823, number of negative: 57260\n",
            "[LightGBM] [Info] Auto-choosing col-wise multi-threading, the overhead of testing was 1.845092 seconds.\n",
            "You can set `force_col_wise=true` to remove the overhead.\n",
            "[LightGBM] [Info] Total Bins 140446\n",
            "[LightGBM] [Info] Number of data points in the train set: 58083, number of used features: 1101\n",
            "[LightGBM] [Info] [binary:BoostFromScore]: pavg=0.177358 -> initscore=-1.534351\n",
            "[LightGBM] [Info] Start training from score -1.534351\n",
            "Ensemble ROC AUC: 0.8024\n",
            "Ensemble PR AUC: 0.0582\n",
            "\n",
            "Ensemble Classification Report:\n",
            "              precision    recall  f1-score   support\n",
            "\n",
            "           0       0.99      0.99      0.99     38174\n",
            "           1       0.11      0.07      0.08       549\n",
            "\n",
            "    accuracy                           0.98     38723\n",
            "   macro avg       0.55      0.53      0.54     38723\n",
            "weighted avg       0.97      0.98      0.98     38723\n",
            "\n"
          ]
        }
      ]
    },
    {
      "source": [
        "\n",
        "\n",
        "\n",
        "def evaluate_model(model_name, y_true, y_pred_prob):\n",
        "    roc_auc = roc_auc_score(y_true, y_pred_prob)\n",
        "    pr_auc = average_precision_score(y_true, y_pred_prob)\n",
        "    y_pred = (y_pred_prob >= 0.5).astype(int)\n",
        "    report = classification_report(y_true, y_pred)\n",
        "\n",
        "    print(f\"--- {model_name} ---\")\n",
        "    print(f\"ROC AUC: {roc_auc:.4f}\")\n",
        "    print(f\"PR AUC: {pr_auc:.4f}\")\n",
        "    print(\"Classification Report:\\n\", report)\n",
        "    print(\"-\" * 20)\n",
        "\n",
        "# --- Evaluate Each Model (using existing predictions) ---\n",
        "evaluate_model(\"LightGBM\", y_test, lgb_pred)\n",
        "evaluate_model(\"XGBoost\", y_test, xgb_pred)\n",
        "evaluate_model(\"CatBoost\", y_test, catboost_pred)"
      ],
      "cell_type": "code",
      "metadata": {
        "colab": {
          "base_uri": "https://localhost:8080/"
        },
        "id": "WfJ86320M50-",
        "outputId": "1614c7a8-0502-4a95-975b-da2033a6af73"
      },
      "execution_count": null,
      "outputs": [
        {
          "output_type": "stream",
          "name": "stdout",
          "text": [
            "--- LightGBM ---\n",
            "ROC AUC: 0.8177\n",
            "PR AUC: 0.0740\n",
            "Classification Report:\n",
            "               precision    recall  f1-score   support\n",
            "\n",
            "           0       0.99      0.99      0.99     38174\n",
            "           1       0.13      0.11      0.12       549\n",
            "\n",
            "    accuracy                           0.98     38723\n",
            "   macro avg       0.56      0.55      0.55     38723\n",
            "weighted avg       0.98      0.98      0.98     38723\n",
            "\n",
            "--------------------\n",
            "--- XGBoost ---\n",
            "ROC AUC: 0.7311\n",
            "PR AUC: 0.0392\n",
            "Classification Report:\n",
            "               precision    recall  f1-score   support\n",
            "\n",
            "           0       0.99      0.98      0.98     38174\n",
            "           1       0.06      0.10      0.08       549\n",
            "\n",
            "    accuracy                           0.96     38723\n",
            "   macro avg       0.52      0.54      0.53     38723\n",
            "weighted avg       0.97      0.96      0.97     38723\n",
            "\n",
            "--------------------\n",
            "--- CatBoost ---\n",
            "ROC AUC: 0.7695\n",
            "PR AUC: 0.0529\n",
            "Classification Report:\n",
            "               precision    recall  f1-score   support\n",
            "\n",
            "           0       0.99      0.99      0.99     38174\n",
            "           1       0.09      0.07      0.08       549\n",
            "\n",
            "    accuracy                           0.98     38723\n",
            "   macro avg       0.54      0.53      0.54     38723\n",
            "weighted avg       0.97      0.98      0.98     38723\n",
            "\n",
            "--------------------\n"
          ]
        }
      ]
    },
    {
      "cell_type": "code",
      "source": [
        "df['bad_flag'].value_counts()"
      ],
      "metadata": {
        "colab": {
          "base_uri": "https://localhost:8080/",
          "height": 178
        },
        "id": "PdGkYDIcMfxu",
        "outputId": "1eef209b-2043-49e0-b2c5-36a85584de0d"
      },
      "execution_count": null,
      "outputs": [
        {
          "output_type": "execute_result",
          "data": {
            "text/plain": [
              "bad_flag\n",
              "0    95434\n",
              "1     1372\n",
              "Name: count, dtype: int64"
            ],
            "text/html": [
              "<div>\n",
              "<style scoped>\n",
              "    .dataframe tbody tr th:only-of-type {\n",
              "        vertical-align: middle;\n",
              "    }\n",
              "\n",
              "    .dataframe tbody tr th {\n",
              "        vertical-align: top;\n",
              "    }\n",
              "\n",
              "    .dataframe thead th {\n",
              "        text-align: right;\n",
              "    }\n",
              "</style>\n",
              "<table border=\"1\" class=\"dataframe\">\n",
              "  <thead>\n",
              "    <tr style=\"text-align: right;\">\n",
              "      <th></th>\n",
              "      <th>count</th>\n",
              "    </tr>\n",
              "    <tr>\n",
              "      <th>bad_flag</th>\n",
              "      <th></th>\n",
              "    </tr>\n",
              "  </thead>\n",
              "  <tbody>\n",
              "    <tr>\n",
              "      <th>0</th>\n",
              "      <td>95434</td>\n",
              "    </tr>\n",
              "    <tr>\n",
              "      <th>1</th>\n",
              "      <td>1372</td>\n",
              "    </tr>\n",
              "  </tbody>\n",
              "</table>\n",
              "</div><br><label><b>dtype:</b> int64</label>"
            ]
          },
          "metadata": {},
          "execution_count": 76
        }
      ]
    },
    {
      "cell_type": "markdown",
      "source": [
        "## Grouped Resampling (5 LightGBM Ensemble)"
      ],
      "metadata": {
        "id": "ydnlKw2N4BJ8"
      }
    },
    {
      "cell_type": "code",
      "source": [
        "X_train, X_test, y_train, y_test = train_test_split(X, y, test_size=0.3, stratify=y, random_state=42)\n"
      ],
      "metadata": {
        "id": "OcLX1JCVGhGv"
      },
      "execution_count": null,
      "outputs": []
    },
    {
      "source": [
        "\n",
        "\n",
        "\n",
        "\n",
        "# Split into train and test sets\n",
        "X_train, X_test, y_train, y_test = train_test_split(X, y, test_size=0.3, stratify=y, random_state=42)\n",
        "\n",
        "# Create 5 i.i.d. samples using StratifiedKFold\n",
        "num_samples = 5\n",
        "skf = StratifiedKFold(n_splits=num_samples, shuffle=True, random_state=42)\n",
        "\n",
        "models = []\n",
        "predictions = []\n",
        "\n",
        "for fold, (train_index, _) in enumerate(skf.split(X_train, y_train)):\n",
        "\n",
        "    X_sample = X_train.iloc[train_index]\n",
        "    y_sample = y_train.iloc[train_index]\n",
        "\n",
        "\n",
        "    X_sample = pd.concat([X_sample, X_train.loc[y_train[y_train == 1].index]])\n",
        "    y_sample = pd.concat([y_sample, y_train[y_train == 1]])\n",
        "\n",
        "\n",
        "    model = lgb.LGBMClassifier(class_weight={0: 1, 1: 10}, random_state=42)\n",
        "    model.fit(X_sample, y_sample)\n",
        "    models.append(model)\n",
        "\n",
        "\n",
        "    y_pred_prob = model.predict_proba(X_test)[:, 1]\n",
        "    predictions.append(y_pred_prob)\n",
        "\n",
        "# Ensemble predictions (simple averaging)\n",
        "ensemble_predictions = np.mean(predictions, axis=0)\n",
        "\n",
        "# Evaluate ensemble predictions\n",
        "roc_auc = roc_auc_score(y_test, ensemble_predictions)\n",
        "print(f\"Ensemble ROC AUC: {roc_auc:.4f}\")\n",
        "\n",
        "pr_auc = average_precision_score(y_test, ensemble_predictions)\n",
        "print(f\"Ensemble PR AUC: {pr_auc:.4f}\")\n",
        "\n",
        "# Generate classification report (using a threshold of 0.5)\n",
        "y_pred = (ensemble_predictions >= 0.5).astype(int)\n",
        "print(\"\\nEnsemble Classification Report:\")\n",
        "print(classification_report(y_test, y_pred))"
      ],
      "cell_type": "code",
      "metadata": {
        "colab": {
          "base_uri": "https://localhost:8080/"
        },
        "id": "UySmrkyqISDu",
        "outputId": "e8798298-0671-4223-a487-34f1cd31f4e2"
      },
      "execution_count": null,
      "outputs": [
        {
          "output_type": "stream",
          "name": "stdout",
          "text": [
            "[LightGBM] [Info] Number of positive: 1728, number of negative: 53443\n",
            "[LightGBM] [Info] Auto-choosing col-wise multi-threading, the overhead of testing was 1.011888 seconds.\n",
            "You can set `force_col_wise=true` to remove the overhead.\n",
            "[LightGBM] [Info] Total Bins 139991\n",
            "[LightGBM] [Info] Number of data points in the train set: 55171, number of used features: 1100\n",
            "[LightGBM] [Info] [binary:BoostFromScore]: pavg=0.244334 -> initscore=-1.129066\n",
            "[LightGBM] [Info] Start training from score -1.129066\n",
            "[LightGBM] [Info] Number of positive: 1728, number of negative: 53443\n",
            "[LightGBM] [Info] Auto-choosing col-wise multi-threading, the overhead of testing was 1.405114 seconds.\n",
            "You can set `force_col_wise=true` to remove the overhead.\n",
            "[LightGBM] [Info] Total Bins 139653\n",
            "[LightGBM] [Info] Number of data points in the train set: 55171, number of used features: 1101\n",
            "[LightGBM] [Info] [binary:BoostFromScore]: pavg=0.244334 -> initscore=-1.129066\n",
            "[LightGBM] [Info] Start training from score -1.129066\n",
            "[LightGBM] [Info] Number of positive: 1728, number of negative: 53443\n",
            "[LightGBM] [Info] Auto-choosing col-wise multi-threading, the overhead of testing was 1.830888 seconds.\n",
            "You can set `force_col_wise=true` to remove the overhead.\n",
            "[LightGBM] [Info] Total Bins 139991\n",
            "[LightGBM] [Info] Number of data points in the train set: 55171, number of used features: 1100\n",
            "[LightGBM] [Info] [binary:BoostFromScore]: pavg=0.244334 -> initscore=-1.129066\n",
            "[LightGBM] [Info] Start training from score -1.129066\n",
            "[LightGBM] [Info] Number of positive: 1728, number of negative: 53443\n",
            "[LightGBM] [Info] Auto-choosing col-wise multi-threading, the overhead of testing was 1.950404 seconds.\n",
            "You can set `force_col_wise=true` to remove the overhead.\n",
            "[LightGBM] [Info] Total Bins 139746\n",
            "[LightGBM] [Info] Number of data points in the train set: 55171, number of used features: 1101\n",
            "[LightGBM] [Info] [binary:BoostFromScore]: pavg=0.244334 -> initscore=-1.129066\n",
            "[LightGBM] [Info] Start training from score -1.129066\n",
            "[LightGBM] [Info] Number of positive: 1728, number of negative: 53444\n",
            "[LightGBM] [Info] Auto-choosing col-wise multi-threading, the overhead of testing was 1.138660 seconds.\n",
            "You can set `force_col_wise=true` to remove the overhead.\n",
            "[LightGBM] [Info] Total Bins 139648\n",
            "[LightGBM] [Info] Number of data points in the train set: 55172, number of used features: 1100\n",
            "[LightGBM] [Info] [binary:BoostFromScore]: pavg=0.244330 -> initscore=-1.129085\n",
            "[LightGBM] [Info] Start training from score -1.129085\n",
            "Ensemble ROC AUC: 0.8285\n",
            "Ensemble PR AUC: 0.0851\n",
            "\n",
            "Ensemble Classification Report:\n",
            "              precision    recall  f1-score   support\n",
            "\n",
            "           0       0.99      0.98      0.98     28630\n",
            "           1       0.12      0.19      0.15       412\n",
            "\n",
            "    accuracy                           0.97     29042\n",
            "   macro avg       0.56      0.58      0.57     29042\n",
            "weighted avg       0.98      0.97      0.97     29042\n",
            "\n"
          ]
        }
      ]
    },
    {
      "cell_type": "code",
      "source": [
        "# Compute confusion matrix\n",
        "cm = confusion_matrix(y_test, y_pred)\n",
        "\n",
        "print(\"Confusion Matrix:\")\n",
        "print(cm)"
      ],
      "metadata": {
        "colab": {
          "base_uri": "https://localhost:8080/"
        },
        "id": "h4xAfVErJMNv",
        "outputId": "c84da089-705c-412f-8e59-6f6949a83f11"
      },
      "execution_count": null,
      "outputs": [
        {
          "output_type": "stream",
          "name": "stdout",
          "text": [
            "Confusion Matrix:\n",
            "[[28087   543]\n",
            " [  335    77]]\n"
          ]
        }
      ]
    },
    {
      "cell_type": "markdown",
      "source": [
        "# Validation Data Cleaning"
      ],
      "metadata": {
        "id": "6RUsadeB2D44"
      }
    },
    {
      "cell_type": "code",
      "source": [
        "validation_df=pd.read_csv('/content/validation_data_to_be_shared.csv')"
      ],
      "metadata": {
        "id": "V5bxOjGjPf1Y"
      },
      "execution_count": null,
      "outputs": []
    },
    {
      "cell_type": "code",
      "source": [
        "total_columns_to_drop"
      ],
      "metadata": {
        "colab": {
          "base_uri": "https://localhost:8080/"
        },
        "id": "XwXWz334Pzwf",
        "outputId": "e424ec0f-b964-455d-8e9c-806c229cd6c6"
      },
      "execution_count": null,
      "outputs": [
        {
          "output_type": "execute_result",
          "data": {
            "text/plain": [
              "Index(['bureau_100', 'bureau_110', 'bureau_120', 'bureau_131', 'bureau_142',\n",
              "       'bureau_147', 'bureau_148', 'bureau_152', 'bureau_16', 'bureau_162',\n",
              "       'bureau_172', 'bureau_182', 'bureau_192', 'bureau_202', 'bureau_212',\n",
              "       'bureau_222', 'bureau_232', 'bureau_242', 'bureau_252', 'bureau_26',\n",
              "       'bureau_262', 'bureau_272', 'bureau_282', 'bureau_292', 'bureau_302',\n",
              "       'bureau_312', 'bureau_322', 'bureau_332', 'bureau_342', 'bureau_352',\n",
              "       'bureau_362', 'bureau_372', 'bureau_38', 'bureau_382', 'bureau_392',\n",
              "       'bureau_4', 'bureau_402', 'bureau_412', 'bureau_423', 'bureau_433',\n",
              "       'bureau_434', 'bureau_435', 'bureau_436', 'bureau_437', 'bureau_438',\n",
              "       'bureau_440', 'bureau_444', 'bureau_445', 'bureau_446', 'bureau_447',\n",
              "       'bureau_448', 'bureau_449', 'bureau_451', 'bureau_47', 'bureau_56',\n",
              "       'bureau_70', 'bureau_80', 'bureau_90', 'bureau_enquiry_17',\n",
              "       'bureau_enquiry_27', 'bureau_enquiry_37', 'bureau_enquiry_47',\n",
              "       'bureau_enquiry_7', 'onus_attribute_28', 'onus_attribute_43',\n",
              "       'onus_attribute_44', 'onus_attribute_45', 'onus_attribute_46',\n",
              "       'onus_attribute_47', 'onus_attribute_48', 'onus_attribute_6',\n",
              "       'onus_attribute_7', 'onus_attribute_9', 'transaction_attribute_152',\n",
              "       'transaction_attribute_191', 'transaction_attribute_524',\n",
              "       'transaction_attribute_525', 'transaction_attribute_582',\n",
              "       'transaction_attribute_621'],\n",
              "      dtype='object')"
            ]
          },
          "metadata": {},
          "execution_count": 80
        }
      ]
    },
    {
      "cell_type": "code",
      "source": [
        "validation_df = validation_df.drop(columns=total_columns_to_drop, axis=1)"
      ],
      "metadata": {
        "id": "K37NZWkIPz3F"
      },
      "execution_count": null,
      "outputs": []
    },
    {
      "cell_type": "code",
      "source": [
        "len(categorical_columns)"
      ],
      "metadata": {
        "colab": {
          "base_uri": "https://localhost:8080/"
        },
        "id": "6Cg-KhsPRIHH",
        "outputId": "4e62ec50-0bb8-431a-8700-88216272bc52"
      },
      "execution_count": null,
      "outputs": [
        {
          "output_type": "execute_result",
          "data": {
            "text/plain": [
              "270"
            ]
          },
          "metadata": {},
          "execution_count": 89
        }
      ]
    },
    {
      "cell_type": "code",
      "source": [
        "for column in validation_df.columns:\n",
        "    if column in categorical_columns:\n",
        "        validation_df[column] = validation_df[column].fillna(validation_df[column].mode()[0]) # Fill with mode for categorical columns\n",
        "    else:\n",
        "        validation_df[column] = validation_df[column].fillna(validation_df[column].median()) # Fill with median for others"
      ],
      "metadata": {
        "id": "k-GyltcURP6S"
      },
      "execution_count": null,
      "outputs": []
    },
    {
      "cell_type": "code",
      "source": [
        "validation_df.isnull().sum().sum()"
      ],
      "metadata": {
        "colab": {
          "base_uri": "https://localhost:8080/"
        },
        "id": "rncI_LceSqSY",
        "outputId": "cafa83b2-e9da-4664-d629-1252660babd4"
      },
      "execution_count": null,
      "outputs": [
        {
          "output_type": "execute_result",
          "data": {
            "text/plain": [
              "0"
            ]
          },
          "metadata": {},
          "execution_count": 91
        }
      ]
    },
    {
      "cell_type": "code",
      "source": [
        "validation_df.head()"
      ],
      "metadata": {
        "colab": {
          "base_uri": "https://localhost:8080/",
          "height": 255
        },
        "id": "WhpN6GPmRhje",
        "outputId": "afc5e808-f710-485a-d2da-0eedcf99a675"
      },
      "execution_count": null,
      "outputs": [
        {
          "output_type": "execute_result",
          "data": {
            "text/plain": [
              "   account_number  onus_attribute_1  transaction_attribute_1  \\\n",
              "0          100001           34000.0                      0.0   \n",
              "1          100002          100000.0                      0.0   \n",
              "2          100003          130000.0                      0.0   \n",
              "3          100004          100000.0                      0.0   \n",
              "4          100005           53000.0                      0.0   \n",
              "\n",
              "   transaction_attribute_2  transaction_attribute_3  transaction_attribute_4  \\\n",
              "0                      0.0                      0.0                      0.0   \n",
              "1                      0.0                      0.0                      0.0   \n",
              "2                      0.0                      0.0                      0.0   \n",
              "3                      0.0                      0.0                      0.0   \n",
              "4                      0.0                      0.0                      0.0   \n",
              "\n",
              "   transaction_attribute_5  transaction_attribute_6  transaction_attribute_7  \\\n",
              "0                      0.0                      0.0                      0.0   \n",
              "1                      0.0                      0.0                      0.0   \n",
              "2                      0.0                      0.0                      0.0   \n",
              "3                      0.0                      0.0                      0.0   \n",
              "4                      0.0                      0.0                      0.0   \n",
              "\n",
              "   transaction_attribute_8  ...  bureau_enquiry_40  bureau_enquiry_41  \\\n",
              "0                      0.0  ...               23.0               51.0   \n",
              "1                      0.0  ...                0.0                0.0   \n",
              "2                      0.0  ...                9.0               16.0   \n",
              "3                      0.0  ...                1.0                1.0   \n",
              "4                      0.0  ...               18.0               29.0   \n",
              "\n",
              "   bureau_enquiry_42  bureau_enquiry_43  bureau_enquiry_44  bureau_enquiry_45  \\\n",
              "0                1.0               50.0                0.0               10.0   \n",
              "1                0.0                0.0                0.0                0.0   \n",
              "2                2.0               14.0                0.0                1.0   \n",
              "3                0.0                1.0                0.0                0.0   \n",
              "4                0.0               29.0                0.0                2.0   \n",
              "\n",
              "   bureau_enquiry_46  bureau_enquiry_48  bureau_enquiry_49  bureau_enquiry_50  \n",
              "0                0.0                0.0                0.0               32.0  \n",
              "1                0.0                0.0                0.0                0.0  \n",
              "2                0.0                2.0                0.0               12.0  \n",
              "3                0.0                0.0                0.0                1.0  \n",
              "4                0.0                0.0                0.0               18.0  \n",
              "\n",
              "[5 rows x 1136 columns]"
            ],
            "text/html": [
              "\n",
              "  <div id=\"df-110ac3d1-e98a-4161-9994-21b05218fe2c\" class=\"colab-df-container\">\n",
              "    <div>\n",
              "<style scoped>\n",
              "    .dataframe tbody tr th:only-of-type {\n",
              "        vertical-align: middle;\n",
              "    }\n",
              "\n",
              "    .dataframe tbody tr th {\n",
              "        vertical-align: top;\n",
              "    }\n",
              "\n",
              "    .dataframe thead th {\n",
              "        text-align: right;\n",
              "    }\n",
              "</style>\n",
              "<table border=\"1\" class=\"dataframe\">\n",
              "  <thead>\n",
              "    <tr style=\"text-align: right;\">\n",
              "      <th></th>\n",
              "      <th>account_number</th>\n",
              "      <th>onus_attribute_1</th>\n",
              "      <th>transaction_attribute_1</th>\n",
              "      <th>transaction_attribute_2</th>\n",
              "      <th>transaction_attribute_3</th>\n",
              "      <th>transaction_attribute_4</th>\n",
              "      <th>transaction_attribute_5</th>\n",
              "      <th>transaction_attribute_6</th>\n",
              "      <th>transaction_attribute_7</th>\n",
              "      <th>transaction_attribute_8</th>\n",
              "      <th>...</th>\n",
              "      <th>bureau_enquiry_40</th>\n",
              "      <th>bureau_enquiry_41</th>\n",
              "      <th>bureau_enquiry_42</th>\n",
              "      <th>bureau_enquiry_43</th>\n",
              "      <th>bureau_enquiry_44</th>\n",
              "      <th>bureau_enquiry_45</th>\n",
              "      <th>bureau_enquiry_46</th>\n",
              "      <th>bureau_enquiry_48</th>\n",
              "      <th>bureau_enquiry_49</th>\n",
              "      <th>bureau_enquiry_50</th>\n",
              "    </tr>\n",
              "  </thead>\n",
              "  <tbody>\n",
              "    <tr>\n",
              "      <th>0</th>\n",
              "      <td>100001</td>\n",
              "      <td>34000.0</td>\n",
              "      <td>0.0</td>\n",
              "      <td>0.0</td>\n",
              "      <td>0.0</td>\n",
              "      <td>0.0</td>\n",
              "      <td>0.0</td>\n",
              "      <td>0.0</td>\n",
              "      <td>0.0</td>\n",
              "      <td>0.0</td>\n",
              "      <td>...</td>\n",
              "      <td>23.0</td>\n",
              "      <td>51.0</td>\n",
              "      <td>1.0</td>\n",
              "      <td>50.0</td>\n",
              "      <td>0.0</td>\n",
              "      <td>10.0</td>\n",
              "      <td>0.0</td>\n",
              "      <td>0.0</td>\n",
              "      <td>0.0</td>\n",
              "      <td>32.0</td>\n",
              "    </tr>\n",
              "    <tr>\n",
              "      <th>1</th>\n",
              "      <td>100002</td>\n",
              "      <td>100000.0</td>\n",
              "      <td>0.0</td>\n",
              "      <td>0.0</td>\n",
              "      <td>0.0</td>\n",
              "      <td>0.0</td>\n",
              "      <td>0.0</td>\n",
              "      <td>0.0</td>\n",
              "      <td>0.0</td>\n",
              "      <td>0.0</td>\n",
              "      <td>...</td>\n",
              "      <td>0.0</td>\n",
              "      <td>0.0</td>\n",
              "      <td>0.0</td>\n",
              "      <td>0.0</td>\n",
              "      <td>0.0</td>\n",
              "      <td>0.0</td>\n",
              "      <td>0.0</td>\n",
              "      <td>0.0</td>\n",
              "      <td>0.0</td>\n",
              "      <td>0.0</td>\n",
              "    </tr>\n",
              "    <tr>\n",
              "      <th>2</th>\n",
              "      <td>100003</td>\n",
              "      <td>130000.0</td>\n",
              "      <td>0.0</td>\n",
              "      <td>0.0</td>\n",
              "      <td>0.0</td>\n",
              "      <td>0.0</td>\n",
              "      <td>0.0</td>\n",
              "      <td>0.0</td>\n",
              "      <td>0.0</td>\n",
              "      <td>0.0</td>\n",
              "      <td>...</td>\n",
              "      <td>9.0</td>\n",
              "      <td>16.0</td>\n",
              "      <td>2.0</td>\n",
              "      <td>14.0</td>\n",
              "      <td>0.0</td>\n",
              "      <td>1.0</td>\n",
              "      <td>0.0</td>\n",
              "      <td>2.0</td>\n",
              "      <td>0.0</td>\n",
              "      <td>12.0</td>\n",
              "    </tr>\n",
              "    <tr>\n",
              "      <th>3</th>\n",
              "      <td>100004</td>\n",
              "      <td>100000.0</td>\n",
              "      <td>0.0</td>\n",
              "      <td>0.0</td>\n",
              "      <td>0.0</td>\n",
              "      <td>0.0</td>\n",
              "      <td>0.0</td>\n",
              "      <td>0.0</td>\n",
              "      <td>0.0</td>\n",
              "      <td>0.0</td>\n",
              "      <td>...</td>\n",
              "      <td>1.0</td>\n",
              "      <td>1.0</td>\n",
              "      <td>0.0</td>\n",
              "      <td>1.0</td>\n",
              "      <td>0.0</td>\n",
              "      <td>0.0</td>\n",
              "      <td>0.0</td>\n",
              "      <td>0.0</td>\n",
              "      <td>0.0</td>\n",
              "      <td>1.0</td>\n",
              "    </tr>\n",
              "    <tr>\n",
              "      <th>4</th>\n",
              "      <td>100005</td>\n",
              "      <td>53000.0</td>\n",
              "      <td>0.0</td>\n",
              "      <td>0.0</td>\n",
              "      <td>0.0</td>\n",
              "      <td>0.0</td>\n",
              "      <td>0.0</td>\n",
              "      <td>0.0</td>\n",
              "      <td>0.0</td>\n",
              "      <td>0.0</td>\n",
              "      <td>...</td>\n",
              "      <td>18.0</td>\n",
              "      <td>29.0</td>\n",
              "      <td>0.0</td>\n",
              "      <td>29.0</td>\n",
              "      <td>0.0</td>\n",
              "      <td>2.0</td>\n",
              "      <td>0.0</td>\n",
              "      <td>0.0</td>\n",
              "      <td>0.0</td>\n",
              "      <td>18.0</td>\n",
              "    </tr>\n",
              "  </tbody>\n",
              "</table>\n",
              "<p>5 rows × 1136 columns</p>\n",
              "</div>\n",
              "    <div class=\"colab-df-buttons\">\n",
              "\n",
              "  <div class=\"colab-df-container\">\n",
              "    <button class=\"colab-df-convert\" onclick=\"convertToInteractive('df-110ac3d1-e98a-4161-9994-21b05218fe2c')\"\n",
              "            title=\"Convert this dataframe to an interactive table.\"\n",
              "            style=\"display:none;\">\n",
              "\n",
              "  <svg xmlns=\"http://www.w3.org/2000/svg\" height=\"24px\" viewBox=\"0 -960 960 960\">\n",
              "    <path d=\"M120-120v-720h720v720H120Zm60-500h600v-160H180v160Zm220 220h160v-160H400v160Zm0 220h160v-160H400v160ZM180-400h160v-160H180v160Zm440 0h160v-160H620v160ZM180-180h160v-160H180v160Zm440 0h160v-160H620v160Z\"/>\n",
              "  </svg>\n",
              "    </button>\n",
              "\n",
              "  <style>\n",
              "    .colab-df-container {\n",
              "      display:flex;\n",
              "      gap: 12px;\n",
              "    }\n",
              "\n",
              "    .colab-df-convert {\n",
              "      background-color: #E8F0FE;\n",
              "      border: none;\n",
              "      border-radius: 50%;\n",
              "      cursor: pointer;\n",
              "      display: none;\n",
              "      fill: #1967D2;\n",
              "      height: 32px;\n",
              "      padding: 0 0 0 0;\n",
              "      width: 32px;\n",
              "    }\n",
              "\n",
              "    .colab-df-convert:hover {\n",
              "      background-color: #E2EBFA;\n",
              "      box-shadow: 0px 1px 2px rgba(60, 64, 67, 0.3), 0px 1px 3px 1px rgba(60, 64, 67, 0.15);\n",
              "      fill: #174EA6;\n",
              "    }\n",
              "\n",
              "    .colab-df-buttons div {\n",
              "      margin-bottom: 4px;\n",
              "    }\n",
              "\n",
              "    [theme=dark] .colab-df-convert {\n",
              "      background-color: #3B4455;\n",
              "      fill: #D2E3FC;\n",
              "    }\n",
              "\n",
              "    [theme=dark] .colab-df-convert:hover {\n",
              "      background-color: #434B5C;\n",
              "      box-shadow: 0px 1px 3px 1px rgba(0, 0, 0, 0.15);\n",
              "      filter: drop-shadow(0px 1px 2px rgba(0, 0, 0, 0.3));\n",
              "      fill: #FFFFFF;\n",
              "    }\n",
              "  </style>\n",
              "\n",
              "    <script>\n",
              "      const buttonEl =\n",
              "        document.querySelector('#df-110ac3d1-e98a-4161-9994-21b05218fe2c button.colab-df-convert');\n",
              "      buttonEl.style.display =\n",
              "        google.colab.kernel.accessAllowed ? 'block' : 'none';\n",
              "\n",
              "      async function convertToInteractive(key) {\n",
              "        const element = document.querySelector('#df-110ac3d1-e98a-4161-9994-21b05218fe2c');\n",
              "        const dataTable =\n",
              "          await google.colab.kernel.invokeFunction('convertToInteractive',\n",
              "                                                    [key], {});\n",
              "        if (!dataTable) return;\n",
              "\n",
              "        const docLinkHtml = 'Like what you see? Visit the ' +\n",
              "          '<a target=\"_blank\" href=https://colab.research.google.com/notebooks/data_table.ipynb>data table notebook</a>'\n",
              "          + ' to learn more about interactive tables.';\n",
              "        element.innerHTML = '';\n",
              "        dataTable['output_type'] = 'display_data';\n",
              "        await google.colab.output.renderOutput(dataTable, element);\n",
              "        const docLink = document.createElement('div');\n",
              "        docLink.innerHTML = docLinkHtml;\n",
              "        element.appendChild(docLink);\n",
              "      }\n",
              "    </script>\n",
              "  </div>\n",
              "\n",
              "\n",
              "<div id=\"df-d4eff4ce-998f-4b10-9fae-d577165a1b3c\">\n",
              "  <button class=\"colab-df-quickchart\" onclick=\"quickchart('df-d4eff4ce-998f-4b10-9fae-d577165a1b3c')\"\n",
              "            title=\"Suggest charts\"\n",
              "            style=\"display:none;\">\n",
              "\n",
              "<svg xmlns=\"http://www.w3.org/2000/svg\" height=\"24px\"viewBox=\"0 0 24 24\"\n",
              "     width=\"24px\">\n",
              "    <g>\n",
              "        <path d=\"M19 3H5c-1.1 0-2 .9-2 2v14c0 1.1.9 2 2 2h14c1.1 0 2-.9 2-2V5c0-1.1-.9-2-2-2zM9 17H7v-7h2v7zm4 0h-2V7h2v10zm4 0h-2v-4h2v4z\"/>\n",
              "    </g>\n",
              "</svg>\n",
              "  </button>\n",
              "\n",
              "<style>\n",
              "  .colab-df-quickchart {\n",
              "      --bg-color: #E8F0FE;\n",
              "      --fill-color: #1967D2;\n",
              "      --hover-bg-color: #E2EBFA;\n",
              "      --hover-fill-color: #174EA6;\n",
              "      --disabled-fill-color: #AAA;\n",
              "      --disabled-bg-color: #DDD;\n",
              "  }\n",
              "\n",
              "  [theme=dark] .colab-df-quickchart {\n",
              "      --bg-color: #3B4455;\n",
              "      --fill-color: #D2E3FC;\n",
              "      --hover-bg-color: #434B5C;\n",
              "      --hover-fill-color: #FFFFFF;\n",
              "      --disabled-bg-color: #3B4455;\n",
              "      --disabled-fill-color: #666;\n",
              "  }\n",
              "\n",
              "  .colab-df-quickchart {\n",
              "    background-color: var(--bg-color);\n",
              "    border: none;\n",
              "    border-radius: 50%;\n",
              "    cursor: pointer;\n",
              "    display: none;\n",
              "    fill: var(--fill-color);\n",
              "    height: 32px;\n",
              "    padding: 0;\n",
              "    width: 32px;\n",
              "  }\n",
              "\n",
              "  .colab-df-quickchart:hover {\n",
              "    background-color: var(--hover-bg-color);\n",
              "    box-shadow: 0 1px 2px rgba(60, 64, 67, 0.3), 0 1px 3px 1px rgba(60, 64, 67, 0.15);\n",
              "    fill: var(--button-hover-fill-color);\n",
              "  }\n",
              "\n",
              "  .colab-df-quickchart-complete:disabled,\n",
              "  .colab-df-quickchart-complete:disabled:hover {\n",
              "    background-color: var(--disabled-bg-color);\n",
              "    fill: var(--disabled-fill-color);\n",
              "    box-shadow: none;\n",
              "  }\n",
              "\n",
              "  .colab-df-spinner {\n",
              "    border: 2px solid var(--fill-color);\n",
              "    border-color: transparent;\n",
              "    border-bottom-color: var(--fill-color);\n",
              "    animation:\n",
              "      spin 1s steps(1) infinite;\n",
              "  }\n",
              "\n",
              "  @keyframes spin {\n",
              "    0% {\n",
              "      border-color: transparent;\n",
              "      border-bottom-color: var(--fill-color);\n",
              "      border-left-color: var(--fill-color);\n",
              "    }\n",
              "    20% {\n",
              "      border-color: transparent;\n",
              "      border-left-color: var(--fill-color);\n",
              "      border-top-color: var(--fill-color);\n",
              "    }\n",
              "    30% {\n",
              "      border-color: transparent;\n",
              "      border-left-color: var(--fill-color);\n",
              "      border-top-color: var(--fill-color);\n",
              "      border-right-color: var(--fill-color);\n",
              "    }\n",
              "    40% {\n",
              "      border-color: transparent;\n",
              "      border-right-color: var(--fill-color);\n",
              "      border-top-color: var(--fill-color);\n",
              "    }\n",
              "    60% {\n",
              "      border-color: transparent;\n",
              "      border-right-color: var(--fill-color);\n",
              "    }\n",
              "    80% {\n",
              "      border-color: transparent;\n",
              "      border-right-color: var(--fill-color);\n",
              "      border-bottom-color: var(--fill-color);\n",
              "    }\n",
              "    90% {\n",
              "      border-color: transparent;\n",
              "      border-bottom-color: var(--fill-color);\n",
              "    }\n",
              "  }\n",
              "</style>\n",
              "\n",
              "  <script>\n",
              "    async function quickchart(key) {\n",
              "      const quickchartButtonEl =\n",
              "        document.querySelector('#' + key + ' button');\n",
              "      quickchartButtonEl.disabled = true;  // To prevent multiple clicks.\n",
              "      quickchartButtonEl.classList.add('colab-df-spinner');\n",
              "      try {\n",
              "        const charts = await google.colab.kernel.invokeFunction(\n",
              "            'suggestCharts', [key], {});\n",
              "      } catch (error) {\n",
              "        console.error('Error during call to suggestCharts:', error);\n",
              "      }\n",
              "      quickchartButtonEl.classList.remove('colab-df-spinner');\n",
              "      quickchartButtonEl.classList.add('colab-df-quickchart-complete');\n",
              "    }\n",
              "    (() => {\n",
              "      let quickchartButtonEl =\n",
              "        document.querySelector('#df-d4eff4ce-998f-4b10-9fae-d577165a1b3c button');\n",
              "      quickchartButtonEl.style.display =\n",
              "        google.colab.kernel.accessAllowed ? 'block' : 'none';\n",
              "    })();\n",
              "  </script>\n",
              "</div>\n",
              "\n",
              "    </div>\n",
              "  </div>\n"
            ],
            "application/vnd.google.colaboratory.intrinsic+json": {
              "type": "dataframe",
              "variable_name": "validation_df"
            }
          },
          "metadata": {},
          "execution_count": 92
        }
      ]
    },
    {
      "source": [
        "\n",
        "\n",
        "df_columns = df.drop(columns=['account_number', 'bad_flag']).columns\n",
        "validation_df_columns = validation_df.drop(columns=['account_number']).columns\n",
        "\n",
        "columns_match = df_columns.equals(validation_df_columns)\n",
        "\n",
        "print(f\"Column order matches: {columns_match}\")"
      ],
      "cell_type": "code",
      "metadata": {
        "colab": {
          "base_uri": "https://localhost:8080/"
        },
        "id": "tQ_lb5LOTM-H",
        "outputId": "94de371f-2076-4640-aba3-c30f9efda104"
      },
      "execution_count": null,
      "outputs": [
        {
          "output_type": "stream",
          "name": "stdout",
          "text": [
            "Column order matches: True\n"
          ]
        }
      ]
    },
    {
      "cell_type": "markdown",
      "source": [
        "# Validation Data Prediction"
      ],
      "metadata": {
        "id": "LBKoDP1t2Ltn"
      }
    },
    {
      "source": [
        "validation_df['predicted_prob'] = model.predict_proba(validation_df.drop(columns=['account_number']))[:, 1]\n",
        "\n",
        "\n",
        "final_predictions = validation_df[['account_number', 'predicted_prob']]"
      ],
      "cell_type": "code",
      "metadata": {
        "colab": {
          "base_uri": "https://localhost:8080/"
        },
        "id": "5BU0RrzCTxOD",
        "outputId": "a37fb96b-5494-497e-86d5-b36606d40fe0"
      },
      "execution_count": null,
      "outputs": [
        {
          "output_type": "stream",
          "name": "stderr",
          "text": [
            "<ipython-input-231-c1dcf47cb8fd>:4: PerformanceWarning: DataFrame is highly fragmented.  This is usually the result of calling `frame.insert` many times, which has poor performance.  Consider joining all columns at once using pd.concat(axis=1) instead. To get a de-fragmented frame, use `newframe = frame.copy()`\n",
            "  validation_df['predicted_prob'] = model.predict_proba(validation_df.drop(columns=['account_number']))[:, 1]\n"
          ]
        }
      ]
    },
    {
      "source": [
        "validation_predictions = []\n",
        "for model in models:\n",
        "    y_pred_prob = model.predict_proba(validation_df.drop(columns=['account_number']))[:, 1]\n",
        "    validation_predictions.append(y_pred_prob)\n",
        "\n",
        "ensemble_validation_predictions = np.mean(validation_predictions, axis=0)\n",
        "\n",
        "validation_df['predicted_prob'] = ensemble_validation_predictions"
      ],
      "cell_type": "code",
      "metadata": {
        "colab": {
          "base_uri": "https://localhost:8080/"
        },
        "id": "MQQAsGJ28I_B",
        "outputId": "761098c5-91b8-4a35-fbac-3014de82ccba"
      },
      "execution_count": null,
      "outputs": [
        {
          "output_type": "stream",
          "name": "stderr",
          "text": [
            "<ipython-input-94-6fe5971d5a15>:9: PerformanceWarning:\n",
            "\n",
            "DataFrame is highly fragmented.  This is usually the result of calling `frame.insert` many times, which has poor performance.  Consider joining all columns at once using pd.concat(axis=1) instead. To get a de-fragmented frame, use `newframe = frame.copy()`\n",
            "\n"
          ]
        }
      ]
    },
    {
      "cell_type": "code",
      "source": [
        "validation_df.head()"
      ],
      "metadata": {
        "colab": {
          "base_uri": "https://localhost:8080/",
          "height": 255
        },
        "id": "BlQ_TyP2T32a",
        "outputId": "43d2a9ab-3541-415f-cc5a-60a1a5054548"
      },
      "execution_count": null,
      "outputs": [
        {
          "output_type": "execute_result",
          "data": {
            "text/plain": [
              "   account_number  onus_attribute_1  transaction_attribute_1  \\\n",
              "0          100001           34000.0                      0.0   \n",
              "1          100002          100000.0                      0.0   \n",
              "2          100003          130000.0                      0.0   \n",
              "3          100004          100000.0                      0.0   \n",
              "4          100005           53000.0                      0.0   \n",
              "\n",
              "   transaction_attribute_2  transaction_attribute_3  transaction_attribute_4  \\\n",
              "0                      0.0                      0.0                      0.0   \n",
              "1                      0.0                      0.0                      0.0   \n",
              "2                      0.0                      0.0                      0.0   \n",
              "3                      0.0                      0.0                      0.0   \n",
              "4                      0.0                      0.0                      0.0   \n",
              "\n",
              "   transaction_attribute_5  transaction_attribute_6  transaction_attribute_7  \\\n",
              "0                      0.0                      0.0                      0.0   \n",
              "1                      0.0                      0.0                      0.0   \n",
              "2                      0.0                      0.0                      0.0   \n",
              "3                      0.0                      0.0                      0.0   \n",
              "4                      0.0                      0.0                      0.0   \n",
              "\n",
              "   transaction_attribute_8  ...  bureau_enquiry_41  bureau_enquiry_42  \\\n",
              "0                      0.0  ...               51.0                1.0   \n",
              "1                      0.0  ...                0.0                0.0   \n",
              "2                      0.0  ...               16.0                2.0   \n",
              "3                      0.0  ...                1.0                0.0   \n",
              "4                      0.0  ...               29.0                0.0   \n",
              "\n",
              "   bureau_enquiry_43  bureau_enquiry_44  bureau_enquiry_45  bureau_enquiry_46  \\\n",
              "0               50.0                0.0               10.0                0.0   \n",
              "1                0.0                0.0                0.0                0.0   \n",
              "2               14.0                0.0                1.0                0.0   \n",
              "3                1.0                0.0                0.0                0.0   \n",
              "4               29.0                0.0                2.0                0.0   \n",
              "\n",
              "   bureau_enquiry_48  bureau_enquiry_49  bureau_enquiry_50  predicted_prob  \n",
              "0                0.0                0.0               32.0        0.148702  \n",
              "1                0.0                0.0                0.0        0.012536  \n",
              "2                2.0                0.0               12.0        0.010198  \n",
              "3                0.0                0.0                1.0        0.012330  \n",
              "4                0.0                0.0               18.0        0.158764  \n",
              "\n",
              "[5 rows x 1137 columns]"
            ],
            "text/html": [
              "\n",
              "  <div id=\"df-dc5c51a9-9f0c-4919-8aa2-6c526d755c84\" class=\"colab-df-container\">\n",
              "    <div>\n",
              "<style scoped>\n",
              "    .dataframe tbody tr th:only-of-type {\n",
              "        vertical-align: middle;\n",
              "    }\n",
              "\n",
              "    .dataframe tbody tr th {\n",
              "        vertical-align: top;\n",
              "    }\n",
              "\n",
              "    .dataframe thead th {\n",
              "        text-align: right;\n",
              "    }\n",
              "</style>\n",
              "<table border=\"1\" class=\"dataframe\">\n",
              "  <thead>\n",
              "    <tr style=\"text-align: right;\">\n",
              "      <th></th>\n",
              "      <th>account_number</th>\n",
              "      <th>onus_attribute_1</th>\n",
              "      <th>transaction_attribute_1</th>\n",
              "      <th>transaction_attribute_2</th>\n",
              "      <th>transaction_attribute_3</th>\n",
              "      <th>transaction_attribute_4</th>\n",
              "      <th>transaction_attribute_5</th>\n",
              "      <th>transaction_attribute_6</th>\n",
              "      <th>transaction_attribute_7</th>\n",
              "      <th>transaction_attribute_8</th>\n",
              "      <th>...</th>\n",
              "      <th>bureau_enquiry_41</th>\n",
              "      <th>bureau_enquiry_42</th>\n",
              "      <th>bureau_enquiry_43</th>\n",
              "      <th>bureau_enquiry_44</th>\n",
              "      <th>bureau_enquiry_45</th>\n",
              "      <th>bureau_enquiry_46</th>\n",
              "      <th>bureau_enquiry_48</th>\n",
              "      <th>bureau_enquiry_49</th>\n",
              "      <th>bureau_enquiry_50</th>\n",
              "      <th>predicted_prob</th>\n",
              "    </tr>\n",
              "  </thead>\n",
              "  <tbody>\n",
              "    <tr>\n",
              "      <th>0</th>\n",
              "      <td>100001</td>\n",
              "      <td>34000.0</td>\n",
              "      <td>0.0</td>\n",
              "      <td>0.0</td>\n",
              "      <td>0.0</td>\n",
              "      <td>0.0</td>\n",
              "      <td>0.0</td>\n",
              "      <td>0.0</td>\n",
              "      <td>0.0</td>\n",
              "      <td>0.0</td>\n",
              "      <td>...</td>\n",
              "      <td>51.0</td>\n",
              "      <td>1.0</td>\n",
              "      <td>50.0</td>\n",
              "      <td>0.0</td>\n",
              "      <td>10.0</td>\n",
              "      <td>0.0</td>\n",
              "      <td>0.0</td>\n",
              "      <td>0.0</td>\n",
              "      <td>32.0</td>\n",
              "      <td>0.148702</td>\n",
              "    </tr>\n",
              "    <tr>\n",
              "      <th>1</th>\n",
              "      <td>100002</td>\n",
              "      <td>100000.0</td>\n",
              "      <td>0.0</td>\n",
              "      <td>0.0</td>\n",
              "      <td>0.0</td>\n",
              "      <td>0.0</td>\n",
              "      <td>0.0</td>\n",
              "      <td>0.0</td>\n",
              "      <td>0.0</td>\n",
              "      <td>0.0</td>\n",
              "      <td>...</td>\n",
              "      <td>0.0</td>\n",
              "      <td>0.0</td>\n",
              "      <td>0.0</td>\n",
              "      <td>0.0</td>\n",
              "      <td>0.0</td>\n",
              "      <td>0.0</td>\n",
              "      <td>0.0</td>\n",
              "      <td>0.0</td>\n",
              "      <td>0.0</td>\n",
              "      <td>0.012536</td>\n",
              "    </tr>\n",
              "    <tr>\n",
              "      <th>2</th>\n",
              "      <td>100003</td>\n",
              "      <td>130000.0</td>\n",
              "      <td>0.0</td>\n",
              "      <td>0.0</td>\n",
              "      <td>0.0</td>\n",
              "      <td>0.0</td>\n",
              "      <td>0.0</td>\n",
              "      <td>0.0</td>\n",
              "      <td>0.0</td>\n",
              "      <td>0.0</td>\n",
              "      <td>...</td>\n",
              "      <td>16.0</td>\n",
              "      <td>2.0</td>\n",
              "      <td>14.0</td>\n",
              "      <td>0.0</td>\n",
              "      <td>1.0</td>\n",
              "      <td>0.0</td>\n",
              "      <td>2.0</td>\n",
              "      <td>0.0</td>\n",
              "      <td>12.0</td>\n",
              "      <td>0.010198</td>\n",
              "    </tr>\n",
              "    <tr>\n",
              "      <th>3</th>\n",
              "      <td>100004</td>\n",
              "      <td>100000.0</td>\n",
              "      <td>0.0</td>\n",
              "      <td>0.0</td>\n",
              "      <td>0.0</td>\n",
              "      <td>0.0</td>\n",
              "      <td>0.0</td>\n",
              "      <td>0.0</td>\n",
              "      <td>0.0</td>\n",
              "      <td>0.0</td>\n",
              "      <td>...</td>\n",
              "      <td>1.0</td>\n",
              "      <td>0.0</td>\n",
              "      <td>1.0</td>\n",
              "      <td>0.0</td>\n",
              "      <td>0.0</td>\n",
              "      <td>0.0</td>\n",
              "      <td>0.0</td>\n",
              "      <td>0.0</td>\n",
              "      <td>1.0</td>\n",
              "      <td>0.012330</td>\n",
              "    </tr>\n",
              "    <tr>\n",
              "      <th>4</th>\n",
              "      <td>100005</td>\n",
              "      <td>53000.0</td>\n",
              "      <td>0.0</td>\n",
              "      <td>0.0</td>\n",
              "      <td>0.0</td>\n",
              "      <td>0.0</td>\n",
              "      <td>0.0</td>\n",
              "      <td>0.0</td>\n",
              "      <td>0.0</td>\n",
              "      <td>0.0</td>\n",
              "      <td>...</td>\n",
              "      <td>29.0</td>\n",
              "      <td>0.0</td>\n",
              "      <td>29.0</td>\n",
              "      <td>0.0</td>\n",
              "      <td>2.0</td>\n",
              "      <td>0.0</td>\n",
              "      <td>0.0</td>\n",
              "      <td>0.0</td>\n",
              "      <td>18.0</td>\n",
              "      <td>0.158764</td>\n",
              "    </tr>\n",
              "  </tbody>\n",
              "</table>\n",
              "<p>5 rows × 1137 columns</p>\n",
              "</div>\n",
              "    <div class=\"colab-df-buttons\">\n",
              "\n",
              "  <div class=\"colab-df-container\">\n",
              "    <button class=\"colab-df-convert\" onclick=\"convertToInteractive('df-dc5c51a9-9f0c-4919-8aa2-6c526d755c84')\"\n",
              "            title=\"Convert this dataframe to an interactive table.\"\n",
              "            style=\"display:none;\">\n",
              "\n",
              "  <svg xmlns=\"http://www.w3.org/2000/svg\" height=\"24px\" viewBox=\"0 -960 960 960\">\n",
              "    <path d=\"M120-120v-720h720v720H120Zm60-500h600v-160H180v160Zm220 220h160v-160H400v160Zm0 220h160v-160H400v160ZM180-400h160v-160H180v160Zm440 0h160v-160H620v160ZM180-180h160v-160H180v160Zm440 0h160v-160H620v160Z\"/>\n",
              "  </svg>\n",
              "    </button>\n",
              "\n",
              "  <style>\n",
              "    .colab-df-container {\n",
              "      display:flex;\n",
              "      gap: 12px;\n",
              "    }\n",
              "\n",
              "    .colab-df-convert {\n",
              "      background-color: #E8F0FE;\n",
              "      border: none;\n",
              "      border-radius: 50%;\n",
              "      cursor: pointer;\n",
              "      display: none;\n",
              "      fill: #1967D2;\n",
              "      height: 32px;\n",
              "      padding: 0 0 0 0;\n",
              "      width: 32px;\n",
              "    }\n",
              "\n",
              "    .colab-df-convert:hover {\n",
              "      background-color: #E2EBFA;\n",
              "      box-shadow: 0px 1px 2px rgba(60, 64, 67, 0.3), 0px 1px 3px 1px rgba(60, 64, 67, 0.15);\n",
              "      fill: #174EA6;\n",
              "    }\n",
              "\n",
              "    .colab-df-buttons div {\n",
              "      margin-bottom: 4px;\n",
              "    }\n",
              "\n",
              "    [theme=dark] .colab-df-convert {\n",
              "      background-color: #3B4455;\n",
              "      fill: #D2E3FC;\n",
              "    }\n",
              "\n",
              "    [theme=dark] .colab-df-convert:hover {\n",
              "      background-color: #434B5C;\n",
              "      box-shadow: 0px 1px 3px 1px rgba(0, 0, 0, 0.15);\n",
              "      filter: drop-shadow(0px 1px 2px rgba(0, 0, 0, 0.3));\n",
              "      fill: #FFFFFF;\n",
              "    }\n",
              "  </style>\n",
              "\n",
              "    <script>\n",
              "      const buttonEl =\n",
              "        document.querySelector('#df-dc5c51a9-9f0c-4919-8aa2-6c526d755c84 button.colab-df-convert');\n",
              "      buttonEl.style.display =\n",
              "        google.colab.kernel.accessAllowed ? 'block' : 'none';\n",
              "\n",
              "      async function convertToInteractive(key) {\n",
              "        const element = document.querySelector('#df-dc5c51a9-9f0c-4919-8aa2-6c526d755c84');\n",
              "        const dataTable =\n",
              "          await google.colab.kernel.invokeFunction('convertToInteractive',\n",
              "                                                    [key], {});\n",
              "        if (!dataTable) return;\n",
              "\n",
              "        const docLinkHtml = 'Like what you see? Visit the ' +\n",
              "          '<a target=\"_blank\" href=https://colab.research.google.com/notebooks/data_table.ipynb>data table notebook</a>'\n",
              "          + ' to learn more about interactive tables.';\n",
              "        element.innerHTML = '';\n",
              "        dataTable['output_type'] = 'display_data';\n",
              "        await google.colab.output.renderOutput(dataTable, element);\n",
              "        const docLink = document.createElement('div');\n",
              "        docLink.innerHTML = docLinkHtml;\n",
              "        element.appendChild(docLink);\n",
              "      }\n",
              "    </script>\n",
              "  </div>\n",
              "\n",
              "\n",
              "<div id=\"df-9e159001-b407-43da-a660-13b6967c7dff\">\n",
              "  <button class=\"colab-df-quickchart\" onclick=\"quickchart('df-9e159001-b407-43da-a660-13b6967c7dff')\"\n",
              "            title=\"Suggest charts\"\n",
              "            style=\"display:none;\">\n",
              "\n",
              "<svg xmlns=\"http://www.w3.org/2000/svg\" height=\"24px\"viewBox=\"0 0 24 24\"\n",
              "     width=\"24px\">\n",
              "    <g>\n",
              "        <path d=\"M19 3H5c-1.1 0-2 .9-2 2v14c0 1.1.9 2 2 2h14c1.1 0 2-.9 2-2V5c0-1.1-.9-2-2-2zM9 17H7v-7h2v7zm4 0h-2V7h2v10zm4 0h-2v-4h2v4z\"/>\n",
              "    </g>\n",
              "</svg>\n",
              "  </button>\n",
              "\n",
              "<style>\n",
              "  .colab-df-quickchart {\n",
              "      --bg-color: #E8F0FE;\n",
              "      --fill-color: #1967D2;\n",
              "      --hover-bg-color: #E2EBFA;\n",
              "      --hover-fill-color: #174EA6;\n",
              "      --disabled-fill-color: #AAA;\n",
              "      --disabled-bg-color: #DDD;\n",
              "  }\n",
              "\n",
              "  [theme=dark] .colab-df-quickchart {\n",
              "      --bg-color: #3B4455;\n",
              "      --fill-color: #D2E3FC;\n",
              "      --hover-bg-color: #434B5C;\n",
              "      --hover-fill-color: #FFFFFF;\n",
              "      --disabled-bg-color: #3B4455;\n",
              "      --disabled-fill-color: #666;\n",
              "  }\n",
              "\n",
              "  .colab-df-quickchart {\n",
              "    background-color: var(--bg-color);\n",
              "    border: none;\n",
              "    border-radius: 50%;\n",
              "    cursor: pointer;\n",
              "    display: none;\n",
              "    fill: var(--fill-color);\n",
              "    height: 32px;\n",
              "    padding: 0;\n",
              "    width: 32px;\n",
              "  }\n",
              "\n",
              "  .colab-df-quickchart:hover {\n",
              "    background-color: var(--hover-bg-color);\n",
              "    box-shadow: 0 1px 2px rgba(60, 64, 67, 0.3), 0 1px 3px 1px rgba(60, 64, 67, 0.15);\n",
              "    fill: var(--button-hover-fill-color);\n",
              "  }\n",
              "\n",
              "  .colab-df-quickchart-complete:disabled,\n",
              "  .colab-df-quickchart-complete:disabled:hover {\n",
              "    background-color: var(--disabled-bg-color);\n",
              "    fill: var(--disabled-fill-color);\n",
              "    box-shadow: none;\n",
              "  }\n",
              "\n",
              "  .colab-df-spinner {\n",
              "    border: 2px solid var(--fill-color);\n",
              "    border-color: transparent;\n",
              "    border-bottom-color: var(--fill-color);\n",
              "    animation:\n",
              "      spin 1s steps(1) infinite;\n",
              "  }\n",
              "\n",
              "  @keyframes spin {\n",
              "    0% {\n",
              "      border-color: transparent;\n",
              "      border-bottom-color: var(--fill-color);\n",
              "      border-left-color: var(--fill-color);\n",
              "    }\n",
              "    20% {\n",
              "      border-color: transparent;\n",
              "      border-left-color: var(--fill-color);\n",
              "      border-top-color: var(--fill-color);\n",
              "    }\n",
              "    30% {\n",
              "      border-color: transparent;\n",
              "      border-left-color: var(--fill-color);\n",
              "      border-top-color: var(--fill-color);\n",
              "      border-right-color: var(--fill-color);\n",
              "    }\n",
              "    40% {\n",
              "      border-color: transparent;\n",
              "      border-right-color: var(--fill-color);\n",
              "      border-top-color: var(--fill-color);\n",
              "    }\n",
              "    60% {\n",
              "      border-color: transparent;\n",
              "      border-right-color: var(--fill-color);\n",
              "    }\n",
              "    80% {\n",
              "      border-color: transparent;\n",
              "      border-right-color: var(--fill-color);\n",
              "      border-bottom-color: var(--fill-color);\n",
              "    }\n",
              "    90% {\n",
              "      border-color: transparent;\n",
              "      border-bottom-color: var(--fill-color);\n",
              "    }\n",
              "  }\n",
              "</style>\n",
              "\n",
              "  <script>\n",
              "    async function quickchart(key) {\n",
              "      const quickchartButtonEl =\n",
              "        document.querySelector('#' + key + ' button');\n",
              "      quickchartButtonEl.disabled = true;  // To prevent multiple clicks.\n",
              "      quickchartButtonEl.classList.add('colab-df-spinner');\n",
              "      try {\n",
              "        const charts = await google.colab.kernel.invokeFunction(\n",
              "            'suggestCharts', [key], {});\n",
              "      } catch (error) {\n",
              "        console.error('Error during call to suggestCharts:', error);\n",
              "      }\n",
              "      quickchartButtonEl.classList.remove('colab-df-spinner');\n",
              "      quickchartButtonEl.classList.add('colab-df-quickchart-complete');\n",
              "    }\n",
              "    (() => {\n",
              "      let quickchartButtonEl =\n",
              "        document.querySelector('#df-9e159001-b407-43da-a660-13b6967c7dff button');\n",
              "      quickchartButtonEl.style.display =\n",
              "        google.colab.kernel.accessAllowed ? 'block' : 'none';\n",
              "    })();\n",
              "  </script>\n",
              "</div>\n",
              "\n",
              "    </div>\n",
              "  </div>\n"
            ],
            "application/vnd.google.colaboratory.intrinsic+json": {
              "type": "dataframe",
              "variable_name": "validation_df"
            }
          },
          "metadata": {},
          "execution_count": 95
        }
      ]
    },
    {
      "cell_type": "code",
      "source": [
        "final_predictions = validation_df[['account_number', 'predicted_prob']]\n",
        "\n",
        "final_predictions.head()"
      ],
      "metadata": {
        "colab": {
          "base_uri": "https://localhost:8080/",
          "height": 206
        },
        "id": "_c6p2h04T6BE",
        "outputId": "b4be5709-1377-460c-dc0f-1eefe46e34cd"
      },
      "execution_count": null,
      "outputs": [
        {
          "output_type": "execute_result",
          "data": {
            "text/plain": [
              "   account_number  predicted_prob\n",
              "0          100001        0.148702\n",
              "1          100002        0.012536\n",
              "2          100003        0.010198\n",
              "3          100004        0.012330\n",
              "4          100005        0.158764"
            ],
            "text/html": [
              "\n",
              "  <div id=\"df-8c321aed-1ca9-4bbe-9e6b-8cb38ed30552\" class=\"colab-df-container\">\n",
              "    <div>\n",
              "<style scoped>\n",
              "    .dataframe tbody tr th:only-of-type {\n",
              "        vertical-align: middle;\n",
              "    }\n",
              "\n",
              "    .dataframe tbody tr th {\n",
              "        vertical-align: top;\n",
              "    }\n",
              "\n",
              "    .dataframe thead th {\n",
              "        text-align: right;\n",
              "    }\n",
              "</style>\n",
              "<table border=\"1\" class=\"dataframe\">\n",
              "  <thead>\n",
              "    <tr style=\"text-align: right;\">\n",
              "      <th></th>\n",
              "      <th>account_number</th>\n",
              "      <th>predicted_prob</th>\n",
              "    </tr>\n",
              "  </thead>\n",
              "  <tbody>\n",
              "    <tr>\n",
              "      <th>0</th>\n",
              "      <td>100001</td>\n",
              "      <td>0.148702</td>\n",
              "    </tr>\n",
              "    <tr>\n",
              "      <th>1</th>\n",
              "      <td>100002</td>\n",
              "      <td>0.012536</td>\n",
              "    </tr>\n",
              "    <tr>\n",
              "      <th>2</th>\n",
              "      <td>100003</td>\n",
              "      <td>0.010198</td>\n",
              "    </tr>\n",
              "    <tr>\n",
              "      <th>3</th>\n",
              "      <td>100004</td>\n",
              "      <td>0.012330</td>\n",
              "    </tr>\n",
              "    <tr>\n",
              "      <th>4</th>\n",
              "      <td>100005</td>\n",
              "      <td>0.158764</td>\n",
              "    </tr>\n",
              "  </tbody>\n",
              "</table>\n",
              "</div>\n",
              "    <div class=\"colab-df-buttons\">\n",
              "\n",
              "  <div class=\"colab-df-container\">\n",
              "    <button class=\"colab-df-convert\" onclick=\"convertToInteractive('df-8c321aed-1ca9-4bbe-9e6b-8cb38ed30552')\"\n",
              "            title=\"Convert this dataframe to an interactive table.\"\n",
              "            style=\"display:none;\">\n",
              "\n",
              "  <svg xmlns=\"http://www.w3.org/2000/svg\" height=\"24px\" viewBox=\"0 -960 960 960\">\n",
              "    <path d=\"M120-120v-720h720v720H120Zm60-500h600v-160H180v160Zm220 220h160v-160H400v160Zm0 220h160v-160H400v160ZM180-400h160v-160H180v160Zm440 0h160v-160H620v160ZM180-180h160v-160H180v160Zm440 0h160v-160H620v160Z\"/>\n",
              "  </svg>\n",
              "    </button>\n",
              "\n",
              "  <style>\n",
              "    .colab-df-container {\n",
              "      display:flex;\n",
              "      gap: 12px;\n",
              "    }\n",
              "\n",
              "    .colab-df-convert {\n",
              "      background-color: #E8F0FE;\n",
              "      border: none;\n",
              "      border-radius: 50%;\n",
              "      cursor: pointer;\n",
              "      display: none;\n",
              "      fill: #1967D2;\n",
              "      height: 32px;\n",
              "      padding: 0 0 0 0;\n",
              "      width: 32px;\n",
              "    }\n",
              "\n",
              "    .colab-df-convert:hover {\n",
              "      background-color: #E2EBFA;\n",
              "      box-shadow: 0px 1px 2px rgba(60, 64, 67, 0.3), 0px 1px 3px 1px rgba(60, 64, 67, 0.15);\n",
              "      fill: #174EA6;\n",
              "    }\n",
              "\n",
              "    .colab-df-buttons div {\n",
              "      margin-bottom: 4px;\n",
              "    }\n",
              "\n",
              "    [theme=dark] .colab-df-convert {\n",
              "      background-color: #3B4455;\n",
              "      fill: #D2E3FC;\n",
              "    }\n",
              "\n",
              "    [theme=dark] .colab-df-convert:hover {\n",
              "      background-color: #434B5C;\n",
              "      box-shadow: 0px 1px 3px 1px rgba(0, 0, 0, 0.15);\n",
              "      filter: drop-shadow(0px 1px 2px rgba(0, 0, 0, 0.3));\n",
              "      fill: #FFFFFF;\n",
              "    }\n",
              "  </style>\n",
              "\n",
              "    <script>\n",
              "      const buttonEl =\n",
              "        document.querySelector('#df-8c321aed-1ca9-4bbe-9e6b-8cb38ed30552 button.colab-df-convert');\n",
              "      buttonEl.style.display =\n",
              "        google.colab.kernel.accessAllowed ? 'block' : 'none';\n",
              "\n",
              "      async function convertToInteractive(key) {\n",
              "        const element = document.querySelector('#df-8c321aed-1ca9-4bbe-9e6b-8cb38ed30552');\n",
              "        const dataTable =\n",
              "          await google.colab.kernel.invokeFunction('convertToInteractive',\n",
              "                                                    [key], {});\n",
              "        if (!dataTable) return;\n",
              "\n",
              "        const docLinkHtml = 'Like what you see? Visit the ' +\n",
              "          '<a target=\"_blank\" href=https://colab.research.google.com/notebooks/data_table.ipynb>data table notebook</a>'\n",
              "          + ' to learn more about interactive tables.';\n",
              "        element.innerHTML = '';\n",
              "        dataTable['output_type'] = 'display_data';\n",
              "        await google.colab.output.renderOutput(dataTable, element);\n",
              "        const docLink = document.createElement('div');\n",
              "        docLink.innerHTML = docLinkHtml;\n",
              "        element.appendChild(docLink);\n",
              "      }\n",
              "    </script>\n",
              "  </div>\n",
              "\n",
              "\n",
              "<div id=\"df-4450e7fa-11d1-472c-9f28-03d2110f54a1\">\n",
              "  <button class=\"colab-df-quickchart\" onclick=\"quickchart('df-4450e7fa-11d1-472c-9f28-03d2110f54a1')\"\n",
              "            title=\"Suggest charts\"\n",
              "            style=\"display:none;\">\n",
              "\n",
              "<svg xmlns=\"http://www.w3.org/2000/svg\" height=\"24px\"viewBox=\"0 0 24 24\"\n",
              "     width=\"24px\">\n",
              "    <g>\n",
              "        <path d=\"M19 3H5c-1.1 0-2 .9-2 2v14c0 1.1.9 2 2 2h14c1.1 0 2-.9 2-2V5c0-1.1-.9-2-2-2zM9 17H7v-7h2v7zm4 0h-2V7h2v10zm4 0h-2v-4h2v4z\"/>\n",
              "    </g>\n",
              "</svg>\n",
              "  </button>\n",
              "\n",
              "<style>\n",
              "  .colab-df-quickchart {\n",
              "      --bg-color: #E8F0FE;\n",
              "      --fill-color: #1967D2;\n",
              "      --hover-bg-color: #E2EBFA;\n",
              "      --hover-fill-color: #174EA6;\n",
              "      --disabled-fill-color: #AAA;\n",
              "      --disabled-bg-color: #DDD;\n",
              "  }\n",
              "\n",
              "  [theme=dark] .colab-df-quickchart {\n",
              "      --bg-color: #3B4455;\n",
              "      --fill-color: #D2E3FC;\n",
              "      --hover-bg-color: #434B5C;\n",
              "      --hover-fill-color: #FFFFFF;\n",
              "      --disabled-bg-color: #3B4455;\n",
              "      --disabled-fill-color: #666;\n",
              "  }\n",
              "\n",
              "  .colab-df-quickchart {\n",
              "    background-color: var(--bg-color);\n",
              "    border: none;\n",
              "    border-radius: 50%;\n",
              "    cursor: pointer;\n",
              "    display: none;\n",
              "    fill: var(--fill-color);\n",
              "    height: 32px;\n",
              "    padding: 0;\n",
              "    width: 32px;\n",
              "  }\n",
              "\n",
              "  .colab-df-quickchart:hover {\n",
              "    background-color: var(--hover-bg-color);\n",
              "    box-shadow: 0 1px 2px rgba(60, 64, 67, 0.3), 0 1px 3px 1px rgba(60, 64, 67, 0.15);\n",
              "    fill: var(--button-hover-fill-color);\n",
              "  }\n",
              "\n",
              "  .colab-df-quickchart-complete:disabled,\n",
              "  .colab-df-quickchart-complete:disabled:hover {\n",
              "    background-color: var(--disabled-bg-color);\n",
              "    fill: var(--disabled-fill-color);\n",
              "    box-shadow: none;\n",
              "  }\n",
              "\n",
              "  .colab-df-spinner {\n",
              "    border: 2px solid var(--fill-color);\n",
              "    border-color: transparent;\n",
              "    border-bottom-color: var(--fill-color);\n",
              "    animation:\n",
              "      spin 1s steps(1) infinite;\n",
              "  }\n",
              "\n",
              "  @keyframes spin {\n",
              "    0% {\n",
              "      border-color: transparent;\n",
              "      border-bottom-color: var(--fill-color);\n",
              "      border-left-color: var(--fill-color);\n",
              "    }\n",
              "    20% {\n",
              "      border-color: transparent;\n",
              "      border-left-color: var(--fill-color);\n",
              "      border-top-color: var(--fill-color);\n",
              "    }\n",
              "    30% {\n",
              "      border-color: transparent;\n",
              "      border-left-color: var(--fill-color);\n",
              "      border-top-color: var(--fill-color);\n",
              "      border-right-color: var(--fill-color);\n",
              "    }\n",
              "    40% {\n",
              "      border-color: transparent;\n",
              "      border-right-color: var(--fill-color);\n",
              "      border-top-color: var(--fill-color);\n",
              "    }\n",
              "    60% {\n",
              "      border-color: transparent;\n",
              "      border-right-color: var(--fill-color);\n",
              "    }\n",
              "    80% {\n",
              "      border-color: transparent;\n",
              "      border-right-color: var(--fill-color);\n",
              "      border-bottom-color: var(--fill-color);\n",
              "    }\n",
              "    90% {\n",
              "      border-color: transparent;\n",
              "      border-bottom-color: var(--fill-color);\n",
              "    }\n",
              "  }\n",
              "</style>\n",
              "\n",
              "  <script>\n",
              "    async function quickchart(key) {\n",
              "      const quickchartButtonEl =\n",
              "        document.querySelector('#' + key + ' button');\n",
              "      quickchartButtonEl.disabled = true;  // To prevent multiple clicks.\n",
              "      quickchartButtonEl.classList.add('colab-df-spinner');\n",
              "      try {\n",
              "        const charts = await google.colab.kernel.invokeFunction(\n",
              "            'suggestCharts', [key], {});\n",
              "      } catch (error) {\n",
              "        console.error('Error during call to suggestCharts:', error);\n",
              "      }\n",
              "      quickchartButtonEl.classList.remove('colab-df-spinner');\n",
              "      quickchartButtonEl.classList.add('colab-df-quickchart-complete');\n",
              "    }\n",
              "    (() => {\n",
              "      let quickchartButtonEl =\n",
              "        document.querySelector('#df-4450e7fa-11d1-472c-9f28-03d2110f54a1 button');\n",
              "      quickchartButtonEl.style.display =\n",
              "        google.colab.kernel.accessAllowed ? 'block' : 'none';\n",
              "    })();\n",
              "  </script>\n",
              "</div>\n",
              "\n",
              "    </div>\n",
              "  </div>\n"
            ],
            "application/vnd.google.colaboratory.intrinsic+json": {
              "type": "dataframe",
              "variable_name": "final_predictions",
              "summary": "{\n  \"name\": \"final_predictions\",\n  \"rows\": 41792,\n  \"fields\": [\n    {\n      \"column\": \"account_number\",\n      \"properties\": {\n        \"dtype\": \"number\",\n        \"std\": 12064,\n        \"min\": 100001,\n        \"max\": 141792,\n        \"num_unique_values\": 41792,\n        \"samples\": [\n          129184,\n          111258,\n          107091\n        ],\n        \"semantic_type\": \"\",\n        \"description\": \"\"\n      }\n    },\n    {\n      \"column\": \"predicted_prob\",\n      \"properties\": {\n        \"dtype\": \"number\",\n        \"std\": 0.13431655542414164,\n        \"min\": 0.0004182975289723426,\n        \"max\": 0.9025536529452941,\n        \"num_unique_values\": 41771,\n        \"samples\": [\n          0.014457913380877213,\n          0.5572062255947434,\n          0.023763758997571344\n        ],\n        \"semantic_type\": \"\",\n        \"description\": \"\"\n      }\n    }\n  ]\n}"
            }
          },
          "metadata": {},
          "execution_count": 97
        }
      ]
    },
    {
      "cell_type": "code",
      "source": [
        "final_predictions.shape"
      ],
      "metadata": {
        "colab": {
          "base_uri": "https://localhost:8080/"
        },
        "id": "wHRTKfJ2UA2d",
        "outputId": "85d936fa-7ef7-4e9c-9116-7bd7d58b74a6"
      },
      "execution_count": null,
      "outputs": [
        {
          "output_type": "execute_result",
          "data": {
            "text/plain": [
              "(41792, 2)"
            ]
          },
          "metadata": {},
          "execution_count": 98
        }
      ]
    },
    {
      "source": [
        "\n",
        "num_accounts_above_threshold = len(final_predictions[final_predictions['predicted_prob'] >= 0.5])\n",
        "\n",
        "print(f\"Number of accounts with probability >= 0.5: {num_accounts_above_threshold}\")"
      ],
      "cell_type": "code",
      "metadata": {
        "colab": {
          "base_uri": "https://localhost:8080/"
        },
        "id": "nepPSbt9UPtW",
        "outputId": "082fcfa2-cd42-4947-9e28-8de8f1e51aaa"
      },
      "execution_count": null,
      "outputs": [
        {
          "output_type": "stream",
          "name": "stdout",
          "text": [
            "Number of accounts with probability >= 0.5: 1050\n"
          ]
        }
      ]
    },
    {
      "cell_type": "code",
      "source": [
        "validation_df.shape"
      ],
      "metadata": {
        "colab": {
          "base_uri": "https://localhost:8080/"
        },
        "id": "HZkW83hEUn5h",
        "outputId": "3516d94f-4118-40d6-b845-1e849add2951"
      },
      "execution_count": null,
      "outputs": [
        {
          "output_type": "execute_result",
          "data": {
            "text/plain": [
              "(41792, 1137)"
            ]
          },
          "metadata": {},
          "execution_count": 100
        }
      ]
    },
    {
      "cell_type": "markdown",
      "source": [
        "# Behaviour Score"
      ],
      "metadata": {
        "id": "QzIlZP4nsmiY"
      }
    },
    {
      "cell_type": "markdown",
      "source": [
        "**Behavior Score Interpretation**\n",
        "\n",
        "\n",
        "*   The Behavior Score is a creditworthiness metric calculated using the formula:\n",
        "*   Behavior Score = (1 - Predicted Probability of Default) × 100.\n",
        "*   It ranges from 0 to 100, where a higher score indicates lower default risk and better customer behavior.\n",
        "*   100: Best behavior, minimal default risk.\n",
        "*   0: Worst behavior, high default risk.\n",
        "\n",
        "\n"
      ],
      "metadata": {
        "id": "ebthdfn2uTmO"
      }
    },
    {
      "source": [
        "behavior_score = validation_df[['account_number']].copy()\n",
        "behavior_score['behavior_score'] = (1 - validation_df['predicted_prob']) * 100\n"
      ],
      "cell_type": "code",
      "metadata": {
        "id": "Cf6ATIPTttWb"
      },
      "execution_count": null,
      "outputs": []
    },
    {
      "cell_type": "code",
      "source": [
        "behavior_score.head()"
      ],
      "metadata": {
        "colab": {
          "base_uri": "https://localhost:8080/",
          "height": 206
        },
        "id": "TQ60rWyztvJf",
        "outputId": "a9065cd4-e852-4693-a4a1-32129cfb34ab"
      },
      "execution_count": null,
      "outputs": [
        {
          "output_type": "execute_result",
          "data": {
            "text/plain": [
              "   account_number  behavior_score\n",
              "0          100001       85.129777\n",
              "1          100002       98.746376\n",
              "2          100003       98.980152\n",
              "3          100004       98.766968\n",
              "4          100005       84.123598"
            ],
            "text/html": [
              "\n",
              "  <div id=\"df-93204013-0cba-4c4c-bbad-504a22bc7b8a\" class=\"colab-df-container\">\n",
              "    <div>\n",
              "<style scoped>\n",
              "    .dataframe tbody tr th:only-of-type {\n",
              "        vertical-align: middle;\n",
              "    }\n",
              "\n",
              "    .dataframe tbody tr th {\n",
              "        vertical-align: top;\n",
              "    }\n",
              "\n",
              "    .dataframe thead th {\n",
              "        text-align: right;\n",
              "    }\n",
              "</style>\n",
              "<table border=\"1\" class=\"dataframe\">\n",
              "  <thead>\n",
              "    <tr style=\"text-align: right;\">\n",
              "      <th></th>\n",
              "      <th>account_number</th>\n",
              "      <th>behavior_score</th>\n",
              "    </tr>\n",
              "  </thead>\n",
              "  <tbody>\n",
              "    <tr>\n",
              "      <th>0</th>\n",
              "      <td>100001</td>\n",
              "      <td>85.129777</td>\n",
              "    </tr>\n",
              "    <tr>\n",
              "      <th>1</th>\n",
              "      <td>100002</td>\n",
              "      <td>98.746376</td>\n",
              "    </tr>\n",
              "    <tr>\n",
              "      <th>2</th>\n",
              "      <td>100003</td>\n",
              "      <td>98.980152</td>\n",
              "    </tr>\n",
              "    <tr>\n",
              "      <th>3</th>\n",
              "      <td>100004</td>\n",
              "      <td>98.766968</td>\n",
              "    </tr>\n",
              "    <tr>\n",
              "      <th>4</th>\n",
              "      <td>100005</td>\n",
              "      <td>84.123598</td>\n",
              "    </tr>\n",
              "  </tbody>\n",
              "</table>\n",
              "</div>\n",
              "    <div class=\"colab-df-buttons\">\n",
              "\n",
              "  <div class=\"colab-df-container\">\n",
              "    <button class=\"colab-df-convert\" onclick=\"convertToInteractive('df-93204013-0cba-4c4c-bbad-504a22bc7b8a')\"\n",
              "            title=\"Convert this dataframe to an interactive table.\"\n",
              "            style=\"display:none;\">\n",
              "\n",
              "  <svg xmlns=\"http://www.w3.org/2000/svg\" height=\"24px\" viewBox=\"0 -960 960 960\">\n",
              "    <path d=\"M120-120v-720h720v720H120Zm60-500h600v-160H180v160Zm220 220h160v-160H400v160Zm0 220h160v-160H400v160ZM180-400h160v-160H180v160Zm440 0h160v-160H620v160ZM180-180h160v-160H180v160Zm440 0h160v-160H620v160Z\"/>\n",
              "  </svg>\n",
              "    </button>\n",
              "\n",
              "  <style>\n",
              "    .colab-df-container {\n",
              "      display:flex;\n",
              "      gap: 12px;\n",
              "    }\n",
              "\n",
              "    .colab-df-convert {\n",
              "      background-color: #E8F0FE;\n",
              "      border: none;\n",
              "      border-radius: 50%;\n",
              "      cursor: pointer;\n",
              "      display: none;\n",
              "      fill: #1967D2;\n",
              "      height: 32px;\n",
              "      padding: 0 0 0 0;\n",
              "      width: 32px;\n",
              "    }\n",
              "\n",
              "    .colab-df-convert:hover {\n",
              "      background-color: #E2EBFA;\n",
              "      box-shadow: 0px 1px 2px rgba(60, 64, 67, 0.3), 0px 1px 3px 1px rgba(60, 64, 67, 0.15);\n",
              "      fill: #174EA6;\n",
              "    }\n",
              "\n",
              "    .colab-df-buttons div {\n",
              "      margin-bottom: 4px;\n",
              "    }\n",
              "\n",
              "    [theme=dark] .colab-df-convert {\n",
              "      background-color: #3B4455;\n",
              "      fill: #D2E3FC;\n",
              "    }\n",
              "\n",
              "    [theme=dark] .colab-df-convert:hover {\n",
              "      background-color: #434B5C;\n",
              "      box-shadow: 0px 1px 3px 1px rgba(0, 0, 0, 0.15);\n",
              "      filter: drop-shadow(0px 1px 2px rgba(0, 0, 0, 0.3));\n",
              "      fill: #FFFFFF;\n",
              "    }\n",
              "  </style>\n",
              "\n",
              "    <script>\n",
              "      const buttonEl =\n",
              "        document.querySelector('#df-93204013-0cba-4c4c-bbad-504a22bc7b8a button.colab-df-convert');\n",
              "      buttonEl.style.display =\n",
              "        google.colab.kernel.accessAllowed ? 'block' : 'none';\n",
              "\n",
              "      async function convertToInteractive(key) {\n",
              "        const element = document.querySelector('#df-93204013-0cba-4c4c-bbad-504a22bc7b8a');\n",
              "        const dataTable =\n",
              "          await google.colab.kernel.invokeFunction('convertToInteractive',\n",
              "                                                    [key], {});\n",
              "        if (!dataTable) return;\n",
              "\n",
              "        const docLinkHtml = 'Like what you see? Visit the ' +\n",
              "          '<a target=\"_blank\" href=https://colab.research.google.com/notebooks/data_table.ipynb>data table notebook</a>'\n",
              "          + ' to learn more about interactive tables.';\n",
              "        element.innerHTML = '';\n",
              "        dataTable['output_type'] = 'display_data';\n",
              "        await google.colab.output.renderOutput(dataTable, element);\n",
              "        const docLink = document.createElement('div');\n",
              "        docLink.innerHTML = docLinkHtml;\n",
              "        element.appendChild(docLink);\n",
              "      }\n",
              "    </script>\n",
              "  </div>\n",
              "\n",
              "\n",
              "<div id=\"df-d223a300-13e6-4ca6-b98c-1c536dd9eb8d\">\n",
              "  <button class=\"colab-df-quickchart\" onclick=\"quickchart('df-d223a300-13e6-4ca6-b98c-1c536dd9eb8d')\"\n",
              "            title=\"Suggest charts\"\n",
              "            style=\"display:none;\">\n",
              "\n",
              "<svg xmlns=\"http://www.w3.org/2000/svg\" height=\"24px\"viewBox=\"0 0 24 24\"\n",
              "     width=\"24px\">\n",
              "    <g>\n",
              "        <path d=\"M19 3H5c-1.1 0-2 .9-2 2v14c0 1.1.9 2 2 2h14c1.1 0 2-.9 2-2V5c0-1.1-.9-2-2-2zM9 17H7v-7h2v7zm4 0h-2V7h2v10zm4 0h-2v-4h2v4z\"/>\n",
              "    </g>\n",
              "</svg>\n",
              "  </button>\n",
              "\n",
              "<style>\n",
              "  .colab-df-quickchart {\n",
              "      --bg-color: #E8F0FE;\n",
              "      --fill-color: #1967D2;\n",
              "      --hover-bg-color: #E2EBFA;\n",
              "      --hover-fill-color: #174EA6;\n",
              "      --disabled-fill-color: #AAA;\n",
              "      --disabled-bg-color: #DDD;\n",
              "  }\n",
              "\n",
              "  [theme=dark] .colab-df-quickchart {\n",
              "      --bg-color: #3B4455;\n",
              "      --fill-color: #D2E3FC;\n",
              "      --hover-bg-color: #434B5C;\n",
              "      --hover-fill-color: #FFFFFF;\n",
              "      --disabled-bg-color: #3B4455;\n",
              "      --disabled-fill-color: #666;\n",
              "  }\n",
              "\n",
              "  .colab-df-quickchart {\n",
              "    background-color: var(--bg-color);\n",
              "    border: none;\n",
              "    border-radius: 50%;\n",
              "    cursor: pointer;\n",
              "    display: none;\n",
              "    fill: var(--fill-color);\n",
              "    height: 32px;\n",
              "    padding: 0;\n",
              "    width: 32px;\n",
              "  }\n",
              "\n",
              "  .colab-df-quickchart:hover {\n",
              "    background-color: var(--hover-bg-color);\n",
              "    box-shadow: 0 1px 2px rgba(60, 64, 67, 0.3), 0 1px 3px 1px rgba(60, 64, 67, 0.15);\n",
              "    fill: var(--button-hover-fill-color);\n",
              "  }\n",
              "\n",
              "  .colab-df-quickchart-complete:disabled,\n",
              "  .colab-df-quickchart-complete:disabled:hover {\n",
              "    background-color: var(--disabled-bg-color);\n",
              "    fill: var(--disabled-fill-color);\n",
              "    box-shadow: none;\n",
              "  }\n",
              "\n",
              "  .colab-df-spinner {\n",
              "    border: 2px solid var(--fill-color);\n",
              "    border-color: transparent;\n",
              "    border-bottom-color: var(--fill-color);\n",
              "    animation:\n",
              "      spin 1s steps(1) infinite;\n",
              "  }\n",
              "\n",
              "  @keyframes spin {\n",
              "    0% {\n",
              "      border-color: transparent;\n",
              "      border-bottom-color: var(--fill-color);\n",
              "      border-left-color: var(--fill-color);\n",
              "    }\n",
              "    20% {\n",
              "      border-color: transparent;\n",
              "      border-left-color: var(--fill-color);\n",
              "      border-top-color: var(--fill-color);\n",
              "    }\n",
              "    30% {\n",
              "      border-color: transparent;\n",
              "      border-left-color: var(--fill-color);\n",
              "      border-top-color: var(--fill-color);\n",
              "      border-right-color: var(--fill-color);\n",
              "    }\n",
              "    40% {\n",
              "      border-color: transparent;\n",
              "      border-right-color: var(--fill-color);\n",
              "      border-top-color: var(--fill-color);\n",
              "    }\n",
              "    60% {\n",
              "      border-color: transparent;\n",
              "      border-right-color: var(--fill-color);\n",
              "    }\n",
              "    80% {\n",
              "      border-color: transparent;\n",
              "      border-right-color: var(--fill-color);\n",
              "      border-bottom-color: var(--fill-color);\n",
              "    }\n",
              "    90% {\n",
              "      border-color: transparent;\n",
              "      border-bottom-color: var(--fill-color);\n",
              "    }\n",
              "  }\n",
              "</style>\n",
              "\n",
              "  <script>\n",
              "    async function quickchart(key) {\n",
              "      const quickchartButtonEl =\n",
              "        document.querySelector('#' + key + ' button');\n",
              "      quickchartButtonEl.disabled = true;  // To prevent multiple clicks.\n",
              "      quickchartButtonEl.classList.add('colab-df-spinner');\n",
              "      try {\n",
              "        const charts = await google.colab.kernel.invokeFunction(\n",
              "            'suggestCharts', [key], {});\n",
              "      } catch (error) {\n",
              "        console.error('Error during call to suggestCharts:', error);\n",
              "      }\n",
              "      quickchartButtonEl.classList.remove('colab-df-spinner');\n",
              "      quickchartButtonEl.classList.add('colab-df-quickchart-complete');\n",
              "    }\n",
              "    (() => {\n",
              "      let quickchartButtonEl =\n",
              "        document.querySelector('#df-d223a300-13e6-4ca6-b98c-1c536dd9eb8d button');\n",
              "      quickchartButtonEl.style.display =\n",
              "        google.colab.kernel.accessAllowed ? 'block' : 'none';\n",
              "    })();\n",
              "  </script>\n",
              "</div>\n",
              "\n",
              "    </div>\n",
              "  </div>\n"
            ],
            "application/vnd.google.colaboratory.intrinsic+json": {
              "type": "dataframe",
              "variable_name": "behavior_score",
              "summary": "{\n  \"name\": \"behavior_score\",\n  \"rows\": 41792,\n  \"fields\": [\n    {\n      \"column\": \"account_number\",\n      \"properties\": {\n        \"dtype\": \"number\",\n        \"std\": 12064,\n        \"min\": 100001,\n        \"max\": 141792,\n        \"num_unique_values\": 41792,\n        \"samples\": [\n          129184,\n          111258,\n          107091\n        ],\n        \"semantic_type\": \"\",\n        \"description\": \"\"\n      }\n    },\n    {\n      \"column\": \"behavior_score\",\n      \"properties\": {\n        \"dtype\": \"number\",\n        \"std\": 13.431655542414163,\n        \"min\": 9.74463470547059,\n        \"max\": 99.95817024710276,\n        \"num_unique_values\": 41771,\n        \"samples\": [\n          98.55420866191228,\n          44.27937744052566,\n          97.62362410024286\n        ],\n        \"semantic_type\": \"\",\n        \"description\": \"\"\n      }\n    }\n  ]\n}"
            }
          },
          "metadata": {},
          "execution_count": 103
        }
      ]
    },
    {
      "cell_type": "code",
      "source": [
        "#behavior_score.to_csv('behavior_score.csv', index=False)"
      ],
      "metadata": {
        "id": "me_qKVbstvVs"
      },
      "execution_count": null,
      "outputs": []
    }
  ]
}